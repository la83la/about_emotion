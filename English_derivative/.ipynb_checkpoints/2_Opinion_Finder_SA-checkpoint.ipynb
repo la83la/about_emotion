{
 "cells": [
  {
   "cell_type": "code",
   "execution_count": 1,
   "id": "d844facb",
   "metadata": {},
   "outputs": [],
   "source": [
    "import datetime\n",
    "import matplotlib.pyplot as plt\n",
    "import pandas as pd\n",
    "import glob\n",
    "import collections\n",
    "from sklearn.preprocessing import MinMaxScaler"
   ]
  },
  {
   "cell_type": "markdown",
   "id": "5ca9a27a",
   "metadata": {},
   "source": [
    "# I. load tweets Data"
   ]
  },
  {
   "cell_type": "code",
   "execution_count": 2,
   "id": "0a3a2987",
   "metadata": {},
   "outputs": [
    {
     "data": {
      "text/html": [
       "<div>\n",
       "<style scoped>\n",
       "    .dataframe tbody tr th:only-of-type {\n",
       "        vertical-align: middle;\n",
       "    }\n",
       "\n",
       "    .dataframe tbody tr th {\n",
       "        vertical-align: top;\n",
       "    }\n",
       "\n",
       "    .dataframe thead th {\n",
       "        text-align: right;\n",
       "    }\n",
       "</style>\n",
       "<table border=\"1\" class=\"dataframe\">\n",
       "  <thead>\n",
       "    <tr style=\"text-align: right;\">\n",
       "      <th></th>\n",
       "      <th>tweets_processed</th>\n",
       "      <th>tweet_size</th>\n",
       "    </tr>\n",
       "    <tr>\n",
       "      <th>date_prune</th>\n",
       "      <th></th>\n",
       "      <th></th>\n",
       "    </tr>\n",
       "  </thead>\n",
       "  <tbody>\n",
       "    <tr>\n",
       "      <th>2020-04-09</th>\n",
       "      <td>[targets, long, short, btc, url, url, realesta...</td>\n",
       "      <td>153618</td>\n",
       "    </tr>\n",
       "    <tr>\n",
       "      <th>2020-04-10</th>\n",
       "      <td>[short, sale, volume, short, url, shape, recov...</td>\n",
       "      <td>77124</td>\n",
       "    </tr>\n",
       "    <tr>\n",
       "      <th>2020-04-11</th>\n",
       "      <td>[jeffreyepstein, ghislainemaxwell, markepstein...</td>\n",
       "      <td>60031</td>\n",
       "    </tr>\n",
       "    <tr>\n",
       "      <th>2020-04-12</th>\n",
       "      <td>[rt, biggest, mistakes, apple, pc, maker, amaz...</td>\n",
       "      <td>66723</td>\n",
       "    </tr>\n",
       "    <tr>\n",
       "      <th>2020-04-13</th>\n",
       "      <td>[short, sale, volume, short, url, profit, earn...</td>\n",
       "      <td>136188</td>\n",
       "    </tr>\n",
       "  </tbody>\n",
       "</table>\n",
       "</div>"
      ],
      "text/plain": [
       "                                             tweets_processed  tweet_size\n",
       "date_prune                                                               \n",
       "2020-04-09  [targets, long, short, btc, url, url, realesta...      153618\n",
       "2020-04-10  [short, sale, volume, short, url, shape, recov...       77124\n",
       "2020-04-11  [jeffreyepstein, ghislainemaxwell, markepstein...       60031\n",
       "2020-04-12  [rt, biggest, mistakes, apple, pc, maker, amaz...       66723\n",
       "2020-04-13  [short, sale, volume, short, url, profit, earn...      136188"
      ]
     },
     "execution_count": 2,
     "metadata": {},
     "output_type": "execute_result"
    }
   ],
   "source": [
    "condense_df = pd.read_pickle(\"Related_dataset/corpus.pkl\")\n",
    "condense_df.head()"
   ]
  },
  {
   "cell_type": "markdown",
   "id": "31c6db06",
   "metadata": {},
   "source": [
    "# II. Process the word list of sentiment"
   ]
  },
  {
   "cell_type": "code",
   "execution_count": 3,
   "id": "1dcccaf6",
   "metadata": {},
   "outputs": [],
   "source": [
    "with open('Related_dataset/lexicons.txt') as f:\n",
    "    contents = f.readlines()"
   ]
  },
  {
   "cell_type": "code",
   "execution_count": 6,
   "id": "aa4df97e",
   "metadata": {},
   "outputs": [],
   "source": [
    "weak_negative = []\n",
    "weak_positive = []\n",
    "strong_negative = []\n",
    "strong_positive = []\n",
    "lexicons = [weak_negative, weak_positive, strong_negative, strong_positive]"
   ]
  },
  {
   "cell_type": "code",
   "execution_count": 7,
   "id": "9b595d43",
   "metadata": {},
   "outputs": [],
   "source": [
    "def find_word(txt):\n",
    "    word = \"\"\n",
    "    start = txt.find(\"word1\") + 6\n",
    "    while not txt[start].isspace():\n",
    "        word += txt[start]\n",
    "        start += 1\n",
    "    return word"
   ]
  },
  {
   "cell_type": "code",
   "execution_count": 8,
   "id": "b0d4f5f0",
   "metadata": {},
   "outputs": [],
   "source": [
    "for txt in contents: \n",
    "    if \"strongneg\" in txt:\n",
    "        strong_negative.append(find_word(txt))\n",
    "    elif \"weakpos\" in txt: \n",
    "        weak_positive.append(find_word(txt))\n",
    "    elif \"weakneg\" in txt:\n",
    "        weak_negative.append(find_word(txt))\n",
    "    else:\n",
    "        strong_positive.append(find_word(txt))"
   ]
  },
  {
   "cell_type": "code",
   "execution_count": 9,
   "id": "c8507590",
   "metadata": {},
   "outputs": [
    {
     "data": {
      "text/plain": [
       "['abate',\n",
       " 'abdicate',\n",
       " 'aberration',\n",
       " 'aberration',\n",
       " 'abjure',\n",
       " 'abolish',\n",
       " 'abrupt',\n",
       " 'absence',\n",
       " 'absentee',\n",
       " 'absent-minded']"
      ]
     },
     "execution_count": 9,
     "metadata": {},
     "output_type": "execute_result"
    }
   ],
   "source": [
    "weak_negative[:10]"
   ]
  },
  {
   "cell_type": "code",
   "execution_count": 10,
   "id": "cb79bd2e",
   "metadata": {},
   "outputs": [
    {
     "name": "stdout",
     "output_type": "stream",
     "text": [
      "1175\n",
      "1129\n",
      "3737\n",
      "2180\n"
     ]
    }
   ],
   "source": [
    "for word_list in lexicons:\n",
    "    print(len(word_list))"
   ]
  },
  {
   "cell_type": "markdown",
   "id": "1f8bfd0d",
   "metadata": {},
   "source": [
    "# III. Count the ratio of positive v.s. negative on the same day"
   ]
  },
  {
   "cell_type": "code",
   "execution_count": 11,
   "id": "f54fa753",
   "metadata": {},
   "outputs": [],
   "source": [
    "def count_negative_point(tweets):\n",
    "    score = 0\n",
    "    for sn in strong_negative: \n",
    "        if sn in tweets: \n",
    "            score += 1.5\n",
    "    for wn in strong_negative: \n",
    "        if wn in tweets: \n",
    "            score += 1\n",
    "    return score\n",
    "\n",
    "def count_positive_point(tweets):\n",
    "    score = 0\n",
    "    for sp in strong_positive: \n",
    "        if sp in tweets: \n",
    "            score += 1.5\n",
    "    for wp in weak_positive: \n",
    "        if wp in tweets: \n",
    "            score += 1\n",
    "    return score"
   ]
  },
  {
   "cell_type": "code",
   "execution_count": 12,
   "id": "cdc35a8e",
   "metadata": {},
   "outputs": [
    {
     "data": {
      "text/html": [
       "<div>\n",
       "<style scoped>\n",
       "    .dataframe tbody tr th:only-of-type {\n",
       "        vertical-align: middle;\n",
       "    }\n",
       "\n",
       "    .dataframe tbody tr th {\n",
       "        vertical-align: top;\n",
       "    }\n",
       "\n",
       "    .dataframe thead th {\n",
       "        text-align: right;\n",
       "    }\n",
       "</style>\n",
       "<table border=\"1\" class=\"dataframe\">\n",
       "  <thead>\n",
       "    <tr style=\"text-align: right;\">\n",
       "      <th></th>\n",
       "      <th>tweets_processed</th>\n",
       "      <th>tweet_size</th>\n",
       "      <th>positive_point</th>\n",
       "      <th>negative_point</th>\n",
       "    </tr>\n",
       "    <tr>\n",
       "      <th>date_prune</th>\n",
       "      <th></th>\n",
       "      <th></th>\n",
       "      <th></th>\n",
       "      <th></th>\n",
       "    </tr>\n",
       "  </thead>\n",
       "  <tbody>\n",
       "    <tr>\n",
       "      <th>2020-04-09</th>\n",
       "      <td>[targets, long, short, btc, url, url, realesta...</td>\n",
       "      <td>153618</td>\n",
       "      <td>1599.5</td>\n",
       "      <td>1650.0</td>\n",
       "    </tr>\n",
       "    <tr>\n",
       "      <th>2020-04-10</th>\n",
       "      <td>[short, sale, volume, short, url, shape, recov...</td>\n",
       "      <td>77124</td>\n",
       "      <td>1211.0</td>\n",
       "      <td>997.5</td>\n",
       "    </tr>\n",
       "    <tr>\n",
       "      <th>2020-04-11</th>\n",
       "      <td>[jeffreyepstein, ghislainemaxwell, markepstein...</td>\n",
       "      <td>60031</td>\n",
       "      <td>1069.0</td>\n",
       "      <td>922.5</td>\n",
       "    </tr>\n",
       "    <tr>\n",
       "      <th>2020-04-12</th>\n",
       "      <td>[rt, biggest, mistakes, apple, pc, maker, amaz...</td>\n",
       "      <td>66723</td>\n",
       "      <td>1046.5</td>\n",
       "      <td>912.5</td>\n",
       "    </tr>\n",
       "    <tr>\n",
       "      <th>2020-04-13</th>\n",
       "      <td>[short, sale, volume, short, url, profit, earn...</td>\n",
       "      <td>136188</td>\n",
       "      <td>1483.0</td>\n",
       "      <td>1410.0</td>\n",
       "    </tr>\n",
       "    <tr>\n",
       "      <th>...</th>\n",
       "      <td>...</td>\n",
       "      <td>...</td>\n",
       "      <td>...</td>\n",
       "      <td>...</td>\n",
       "    </tr>\n",
       "    <tr>\n",
       "      <th>2020-07-12</th>\n",
       "      <td>[want, learn, yaonology, service, visit, new, ...</td>\n",
       "      <td>81464</td>\n",
       "      <td>1214.5</td>\n",
       "      <td>1120.0</td>\n",
       "    </tr>\n",
       "    <tr>\n",
       "      <th>2020-07-13</th>\n",
       "      <td>[breaking, finances, valuation, url, url, url,...</td>\n",
       "      <td>205455</td>\n",
       "      <td>1668.0</td>\n",
       "      <td>1705.0</td>\n",
       "    </tr>\n",
       "    <tr>\n",
       "      <th>2020-07-14</th>\n",
       "      <td>[apple, air, pods, wired, charging, url, apple...</td>\n",
       "      <td>190338</td>\n",
       "      <td>1632.5</td>\n",
       "      <td>1657.5</td>\n",
       "    </tr>\n",
       "    <tr>\n",
       "      <th>2020-07-15</th>\n",
       "      <td>[joining, suggestions, url, url, short, sale, ...</td>\n",
       "      <td>182976</td>\n",
       "      <td>1549.5</td>\n",
       "      <td>1510.0</td>\n",
       "    </tr>\n",
       "    <tr>\n",
       "      <th>2020-07-16</th>\n",
       "      <td>[socially, trending, symbols, descending, orde...</td>\n",
       "      <td>156184</td>\n",
       "      <td>1565.0</td>\n",
       "      <td>1565.0</td>\n",
       "    </tr>\n",
       "  </tbody>\n",
       "</table>\n",
       "<p>77 rows × 4 columns</p>\n",
       "</div>"
      ],
      "text/plain": [
       "                                             tweets_processed  tweet_size  \\\n",
       "date_prune                                                                  \n",
       "2020-04-09  [targets, long, short, btc, url, url, realesta...      153618   \n",
       "2020-04-10  [short, sale, volume, short, url, shape, recov...       77124   \n",
       "2020-04-11  [jeffreyepstein, ghislainemaxwell, markepstein...       60031   \n",
       "2020-04-12  [rt, biggest, mistakes, apple, pc, maker, amaz...       66723   \n",
       "2020-04-13  [short, sale, volume, short, url, profit, earn...      136188   \n",
       "...                                                       ...         ...   \n",
       "2020-07-12  [want, learn, yaonology, service, visit, new, ...       81464   \n",
       "2020-07-13  [breaking, finances, valuation, url, url, url,...      205455   \n",
       "2020-07-14  [apple, air, pods, wired, charging, url, apple...      190338   \n",
       "2020-07-15  [joining, suggestions, url, url, short, sale, ...      182976   \n",
       "2020-07-16  [socially, trending, symbols, descending, orde...      156184   \n",
       "\n",
       "            positive_point  negative_point  \n",
       "date_prune                                  \n",
       "2020-04-09          1599.5          1650.0  \n",
       "2020-04-10          1211.0           997.5  \n",
       "2020-04-11          1069.0           922.5  \n",
       "2020-04-12          1046.5           912.5  \n",
       "2020-04-13          1483.0          1410.0  \n",
       "...                    ...             ...  \n",
       "2020-07-12          1214.5          1120.0  \n",
       "2020-07-13          1668.0          1705.0  \n",
       "2020-07-14          1632.5          1657.5  \n",
       "2020-07-15          1549.5          1510.0  \n",
       "2020-07-16          1565.0          1565.0  \n",
       "\n",
       "[77 rows x 4 columns]"
      ]
     },
     "execution_count": 12,
     "metadata": {},
     "output_type": "execute_result"
    }
   ],
   "source": [
    "# 10+ mins\n",
    "merge_df = condense_df.copy()\n",
    "merge_df['positive_point'] = merge_df['tweets_processed'].map(count_positive_point)\n",
    "merge_df['negative_point'] = merge_df['tweets_processed'].map(count_negative_point)\n",
    "merge_df"
   ]
  },
  {
   "cell_type": "markdown",
   "id": "d0f2a5ae",
   "metadata": {},
   "source": [
    "***Method : Minus + MinMaxScaler + Linear Transformation***\n",
    "\n",
    "> value = positive_point - negative_point\n",
    "\n",
    "> Minmax + transform by: y = 2x-1\n",
    "\n",
    "Range: \n",
    "\n",
    "- After scale: -1~1"
   ]
  },
  {
   "cell_type": "code",
   "execution_count": 21,
   "id": "76faae1c",
   "metadata": {},
   "outputs": [],
   "source": [
    "# Step1: Pos. - Neg.\n",
    "tmp = merge_df.copy()\n",
    "tmp['OF_val'] = tmp['positive_point'] - tmp['negative_point']\n",
    "\n",
    "# Step2: minMax scale\n",
    "scaler = MinMaxScaler()\n",
    "tmp['OF_scale'] = scaler.fit_transform(tmp['OF_val'].values.reshape(-1,1))\n",
    "\n",
    "# Step3: Linear transform\n",
    "tmp['OF_transform'] = tmp['OF_scale'].apply(lambda x: x*2-1)\n",
    "tmp = tmp.drop(columns=['positive_point', 'negative_point', 'OF_val', 'OF_scale'])\n",
    "processed_df = tmp.copy()"
   ]
  },
  {
   "cell_type": "code",
   "execution_count": 22,
   "id": "423f5172",
   "metadata": {
    "scrolled": true
   },
   "outputs": [
    {
     "data": {
      "text/html": [
       "<div>\n",
       "<style scoped>\n",
       "    .dataframe tbody tr th:only-of-type {\n",
       "        vertical-align: middle;\n",
       "    }\n",
       "\n",
       "    .dataframe tbody tr th {\n",
       "        vertical-align: top;\n",
       "    }\n",
       "\n",
       "    .dataframe thead th {\n",
       "        text-align: right;\n",
       "    }\n",
       "</style>\n",
       "<table border=\"1\" class=\"dataframe\">\n",
       "  <thead>\n",
       "    <tr style=\"text-align: right;\">\n",
       "      <th></th>\n",
       "      <th>tweets_processed</th>\n",
       "      <th>tweet_size</th>\n",
       "      <th>OF_transform</th>\n",
       "    </tr>\n",
       "    <tr>\n",
       "      <th>date_prune</th>\n",
       "      <th></th>\n",
       "      <th></th>\n",
       "      <th></th>\n",
       "    </tr>\n",
       "  </thead>\n",
       "  <tbody>\n",
       "    <tr>\n",
       "      <th>2020-04-09</th>\n",
       "      <td>[targets, long, short, btc, url, url, realesta...</td>\n",
       "      <td>153618</td>\n",
       "      <td>-0.380042</td>\n",
       "    </tr>\n",
       "    <tr>\n",
       "      <th>2020-04-10</th>\n",
       "      <td>[short, sale, volume, short, url, shape, recov...</td>\n",
       "      <td>77124</td>\n",
       "      <td>0.740977</td>\n",
       "    </tr>\n",
       "    <tr>\n",
       "      <th>2020-04-11</th>\n",
       "      <td>[jeffreyepstein, ghislainemaxwell, markepstein...</td>\n",
       "      <td>60031</td>\n",
       "      <td>0.456476</td>\n",
       "    </tr>\n",
       "    <tr>\n",
       "      <th>2020-04-12</th>\n",
       "      <td>[rt, biggest, mistakes, apple, pc, maker, amaz...</td>\n",
       "      <td>66723</td>\n",
       "      <td>0.403397</td>\n",
       "    </tr>\n",
       "    <tr>\n",
       "      <th>2020-04-13</th>\n",
       "      <td>[short, sale, volume, short, url, profit, earn...</td>\n",
       "      <td>136188</td>\n",
       "      <td>0.144374</td>\n",
       "    </tr>\n",
       "    <tr>\n",
       "      <th>...</th>\n",
       "      <td>...</td>\n",
       "      <td>...</td>\n",
       "      <td>...</td>\n",
       "    </tr>\n",
       "    <tr>\n",
       "      <th>2020-07-12</th>\n",
       "      <td>[want, learn, yaonology, service, visit, new, ...</td>\n",
       "      <td>81464</td>\n",
       "      <td>0.235669</td>\n",
       "    </tr>\n",
       "    <tr>\n",
       "      <th>2020-07-13</th>\n",
       "      <td>[breaking, finances, valuation, url, url, url,...</td>\n",
       "      <td>205455</td>\n",
       "      <td>-0.322718</td>\n",
       "    </tr>\n",
       "    <tr>\n",
       "      <th>2020-07-14</th>\n",
       "      <td>[apple, air, pods, wired, charging, url, apple...</td>\n",
       "      <td>190338</td>\n",
       "      <td>-0.271762</td>\n",
       "    </tr>\n",
       "    <tr>\n",
       "      <th>2020-07-15</th>\n",
       "      <td>[joining, suggestions, url, url, short, sale, ...</td>\n",
       "      <td>182976</td>\n",
       "      <td>0.002123</td>\n",
       "    </tr>\n",
       "    <tr>\n",
       "      <th>2020-07-16</th>\n",
       "      <td>[socially, trending, symbols, descending, orde...</td>\n",
       "      <td>156184</td>\n",
       "      <td>-0.165605</td>\n",
       "    </tr>\n",
       "  </tbody>\n",
       "</table>\n",
       "<p>77 rows × 3 columns</p>\n",
       "</div>"
      ],
      "text/plain": [
       "                                             tweets_processed  tweet_size  \\\n",
       "date_prune                                                                  \n",
       "2020-04-09  [targets, long, short, btc, url, url, realesta...      153618   \n",
       "2020-04-10  [short, sale, volume, short, url, shape, recov...       77124   \n",
       "2020-04-11  [jeffreyepstein, ghislainemaxwell, markepstein...       60031   \n",
       "2020-04-12  [rt, biggest, mistakes, apple, pc, maker, amaz...       66723   \n",
       "2020-04-13  [short, sale, volume, short, url, profit, earn...      136188   \n",
       "...                                                       ...         ...   \n",
       "2020-07-12  [want, learn, yaonology, service, visit, new, ...       81464   \n",
       "2020-07-13  [breaking, finances, valuation, url, url, url,...      205455   \n",
       "2020-07-14  [apple, air, pods, wired, charging, url, apple...      190338   \n",
       "2020-07-15  [joining, suggestions, url, url, short, sale, ...      182976   \n",
       "2020-07-16  [socially, trending, symbols, descending, orde...      156184   \n",
       "\n",
       "            OF_transform  \n",
       "date_prune                \n",
       "2020-04-09     -0.380042  \n",
       "2020-04-10      0.740977  \n",
       "2020-04-11      0.456476  \n",
       "2020-04-12      0.403397  \n",
       "2020-04-13      0.144374  \n",
       "...                  ...  \n",
       "2020-07-12      0.235669  \n",
       "2020-07-13     -0.322718  \n",
       "2020-07-14     -0.271762  \n",
       "2020-07-15      0.002123  \n",
       "2020-07-16     -0.165605  \n",
       "\n",
       "[77 rows x 3 columns]"
      ]
     },
     "execution_count": 22,
     "metadata": {},
     "output_type": "execute_result"
    }
   ],
   "source": [
    "processed_df"
   ]
  },
  {
   "cell_type": "code",
   "execution_count": 23,
   "id": "4e2e3312",
   "metadata": {},
   "outputs": [
    {
     "data": {
      "text/html": [
       "<div>\n",
       "<style scoped>\n",
       "    .dataframe tbody tr th:only-of-type {\n",
       "        vertical-align: middle;\n",
       "    }\n",
       "\n",
       "    .dataframe tbody tr th {\n",
       "        vertical-align: top;\n",
       "    }\n",
       "\n",
       "    .dataframe thead th {\n",
       "        text-align: right;\n",
       "    }\n",
       "</style>\n",
       "<table border=\"1\" class=\"dataframe\">\n",
       "  <thead>\n",
       "    <tr style=\"text-align: right;\">\n",
       "      <th></th>\n",
       "      <th>tweet_size</th>\n",
       "      <th>OF_transform</th>\n",
       "    </tr>\n",
       "  </thead>\n",
       "  <tbody>\n",
       "    <tr>\n",
       "      <th>count</th>\n",
       "      <td>77.000000</td>\n",
       "      <td>77.000000</td>\n",
       "    </tr>\n",
       "    <tr>\n",
       "      <th>mean</th>\n",
       "      <td>131451.675325</td>\n",
       "      <td>0.004467</td>\n",
       "    </tr>\n",
       "    <tr>\n",
       "      <th>std</th>\n",
       "      <td>43051.894381</td>\n",
       "      <td>0.418874</td>\n",
       "    </tr>\n",
       "    <tr>\n",
       "      <th>min</th>\n",
       "      <td>50268.000000</td>\n",
       "      <td>-1.000000</td>\n",
       "    </tr>\n",
       "    <tr>\n",
       "      <th>25%</th>\n",
       "      <td>80141.000000</td>\n",
       "      <td>-0.271762</td>\n",
       "    </tr>\n",
       "    <tr>\n",
       "      <th>50%</th>\n",
       "      <td>149763.000000</td>\n",
       "      <td>-0.053079</td>\n",
       "    </tr>\n",
       "    <tr>\n",
       "      <th>75%</th>\n",
       "      <td>161590.000000</td>\n",
       "      <td>0.358811</td>\n",
       "    </tr>\n",
       "    <tr>\n",
       "      <th>max</th>\n",
       "      <td>205455.000000</td>\n",
       "      <td>1.000000</td>\n",
       "    </tr>\n",
       "  </tbody>\n",
       "</table>\n",
       "</div>"
      ],
      "text/plain": [
       "          tweet_size  OF_transform\n",
       "count      77.000000     77.000000\n",
       "mean   131451.675325      0.004467\n",
       "std     43051.894381      0.418874\n",
       "min     50268.000000     -1.000000\n",
       "25%     80141.000000     -0.271762\n",
       "50%    149763.000000     -0.053079\n",
       "75%    161590.000000      0.358811\n",
       "max    205455.000000      1.000000"
      ]
     },
     "execution_count": 23,
     "metadata": {},
     "output_type": "execute_result"
    }
   ],
   "source": [
    "processed_df.describe()"
   ]
  },
  {
   "cell_type": "code",
   "execution_count": 30,
   "id": "935a1871",
   "metadata": {
    "scrolled": false
   },
   "outputs": [
    {
     "data": {
      "image/png": "[encoded data removed]",
      "text/plain": [
       "<Figure size 1440x576 with 1 Axes>"
      ]
     },
     "metadata": {
      "needs_background": "light"
     },
     "output_type": "display_data"
    }
   ],
   "source": [
    "def plot_dense_line_chart(x, y): \n",
    "    # Risize the figure (optional)    \n",
    "    plt.figure(figsize=(20,8))\n",
    "\n",
    "    # Plot the x and y values on the graph\n",
    "    plt.plot(x, y)\n",
    "\n",
    "    # Here you specify the ticks you want to display\n",
    "    # You can also specify rotation for the tick labels in degrees or with keywords.\n",
    "    plt.xticks(x[::5],  rotation=45)\n",
    "\n",
    "    # Add margins (padding) so that markers don't get clipped by the axes\n",
    "    plt.margins(0.2)\n",
    "\n",
    "    # Display the graph\n",
    "    plt.show()\n",
    "tmp = processed_df.copy()\n",
    "tmp = tmp.reset_index()\n",
    "plot_dense_line_chart(tmp['date_prune'], tmp['OF_transform'])"
   ]
  },
  {
   "cell_type": "code",
   "execution_count": 31,
   "id": "44defad2",
   "metadata": {},
   "outputs": [],
   "source": [
    "# processed_df.to_pickle(\"Related_dataset/Opinion_Finder_result.pkl\")"
   ]
  },
  {
   "cell_type": "code",
   "execution_count": 38,
   "id": "9105f038",
   "metadata": {},
   "outputs": [
    {
     "name": "stdout",
     "output_type": "stream",
     "text": [
      "DatetimeIndex(['2020-04-30', '2020-05-01', '2020-05-11', '2020-05-12',\n",
      "               '2020-05-13', '2020-05-14', '2020-05-15', '2020-05-18',\n",
      "               '2020-05-19', '2020-05-20', '2020-05-21', '2020-05-22',\n",
      "               '2020-05-25', '2020-05-26', '2020-05-27', '2020-06-12'],\n",
      "              dtype='datetime64[ns]', freq=None)\n"
     ]
    }
   ],
   "source": [
    "# 新資料有好幾天都沒有推文資料，不是連續ㄉ:0\n",
    "tmp = merge_df.copy()\n",
    "tmp = tmp.reset_index()\n",
    "\n",
    "my_range = pd.date_range(\n",
    "  start=\"2020-04-09\", end=\"2020-07-16\", freq='B')\n",
    " \n",
    "print(my_range.difference(tmp['date_prune']))"
   ]
  }
 ],
 "metadata": {
  "kernelspec": {
   "display_name": "Python 3 (ipykernel)",
   "language": "python",
   "name": "python3"
  },
  "language_info": {
   "codemirror_mode": {
    "name": "ipython",
    "version": 3
   },
   "file_extension": ".py",
   "mimetype": "text/x-python",
   "name": "python",
   "nbconvert_exporter": "python",
   "pygments_lexer": "ipython3",
   "version": "3.9.12"
  }
 },
 "nbformat": 4,
 "nbformat_minor": 5
}
