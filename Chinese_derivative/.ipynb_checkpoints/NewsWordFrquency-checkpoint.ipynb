{
 "cells": [
  {
   "cell_type": "code",
   "execution_count": 3,
   "id": "d82ef86f",
   "metadata": {},
   "outputs": [],
   "source": [
    "import pandas as pd\n",
    "import time\n",
    "import datetime\n",
    "import warnings\n",
    "warnings.filterwarnings(\"ignore\")"
   ]
  },
  {
   "cell_type": "markdown",
   "id": "ffe7c852",
   "metadata": {},
   "source": [
    "I. Read Data"
   ]
  },
  {
   "cell_type": "code",
   "execution_count": 4,
   "id": "95630883",
   "metadata": {
    "scrolled": true
   },
   "outputs": [],
   "source": [
    "StockNews = pd.read_pickle(\"2022-10-29_NewsData.pkl\")\n",
    "StockNews = StockNews.reset_index(drop=True)\n",
    "StockNews['pub_date'] = pd.to_datetime(StockNews['pub_date'], format=\"%Y-%m-%d\")"
   ]
  },
  {
   "cell_type": "code",
   "execution_count": 5,
   "id": "6e791567",
   "metadata": {},
   "outputs": [
    {
     "data": {
      "text/html": [
       "<div>\n",
       "<style scoped>\n",
       "    .dataframe tbody tr th:only-of-type {\n",
       "        vertical-align: middle;\n",
       "    }\n",
       "\n",
       "    .dataframe tbody tr th {\n",
       "        vertical-align: top;\n",
       "    }\n",
       "\n",
       "    .dataframe thead th {\n",
       "        text-align: right;\n",
       "    }\n",
       "</style>\n",
       "<table border=\"1\" class=\"dataframe\">\n",
       "  <thead>\n",
       "    <tr style=\"text-align: right;\">\n",
       "      <th></th>\n",
       "      <th>search_time</th>\n",
       "      <th>search_key</th>\n",
       "      <th>title</th>\n",
       "      <th>link</th>\n",
       "      <th>pub_date</th>\n",
       "      <th>description</th>\n",
       "      <th>source</th>\n",
       "      <th>content</th>\n",
       "    </tr>\n",
       "  </thead>\n",
       "  <tbody>\n",
       "    <tr>\n",
       "      <th>count</th>\n",
       "      <td>2798</td>\n",
       "      <td>2798</td>\n",
       "      <td>2798</td>\n",
       "      <td>2798</td>\n",
       "      <td>2798</td>\n",
       "      <td>2798</td>\n",
       "      <td>2798</td>\n",
       "      <td>2798</td>\n",
       "    </tr>\n",
       "    <tr>\n",
       "      <th>unique</th>\n",
       "      <td>201</td>\n",
       "      <td>149</td>\n",
       "      <td>1421</td>\n",
       "      <td>1452</td>\n",
       "      <td>1299</td>\n",
       "      <td>1458</td>\n",
       "      <td>10</td>\n",
       "      <td>1412</td>\n",
       "    </tr>\n",
       "    <tr>\n",
       "      <th>top</th>\n",
       "      <td>2022-11-04 05:33:03</td>\n",
       "      <td>智原</td>\n",
       "      <td>〈台股盤中〉台積、傳產壓盤 一度跌近200點失守萬三及月線 - Yahoo奇摩股市</td>\n",
       "      <td>https://news.google.com/__i/rss/rd/articles/CB...</td>\n",
       "      <td>2022-11-03 04:49:24</td>\n",
       "      <td>&lt;a href=\"https://news.google.com/__i/rss/rd/ar...</td>\n",
       "      <td>Yahoo奇摩股市</td>\n",
       "      <td>美國聯準會 (FED) 升息 3 碼，美元續強，資金持續匯出，台股在台積電及傳產走弱下，開盤...</td>\n",
       "    </tr>\n",
       "    <tr>\n",
       "      <th>freq</th>\n",
       "      <td>39</td>\n",
       "      <td>78</td>\n",
       "      <td>28</td>\n",
       "      <td>28</td>\n",
       "      <td>30</td>\n",
       "      <td>28</td>\n",
       "      <td>789</td>\n",
       "      <td>30</td>\n",
       "    </tr>\n",
       "    <tr>\n",
       "      <th>first</th>\n",
       "      <td>NaN</td>\n",
       "      <td>NaN</td>\n",
       "      <td>NaN</td>\n",
       "      <td>NaN</td>\n",
       "      <td>2022-10-29 00:10:02</td>\n",
       "      <td>NaN</td>\n",
       "      <td>NaN</td>\n",
       "      <td>NaN</td>\n",
       "    </tr>\n",
       "    <tr>\n",
       "      <th>last</th>\n",
       "      <td>NaN</td>\n",
       "      <td>NaN</td>\n",
       "      <td>NaN</td>\n",
       "      <td>NaN</td>\n",
       "      <td>2022-11-03 21:58:58</td>\n",
       "      <td>NaN</td>\n",
       "      <td>NaN</td>\n",
       "      <td>NaN</td>\n",
       "    </tr>\n",
       "  </tbody>\n",
       "</table>\n",
       "</div>"
      ],
      "text/plain": [
       "                search_time search_key  \\\n",
       "count                  2798       2798   \n",
       "unique                  201        149   \n",
       "top     2022-11-04 05:33:03         智原   \n",
       "freq                     39         78   \n",
       "first                   NaN        NaN   \n",
       "last                    NaN        NaN   \n",
       "\n",
       "                                            title  \\\n",
       "count                                        2798   \n",
       "unique                                       1421   \n",
       "top     〈台股盤中〉台積、傳產壓盤 一度跌近200點失守萬三及月線 - Yahoo奇摩股市   \n",
       "freq                                           28   \n",
       "first                                         NaN   \n",
       "last                                          NaN   \n",
       "\n",
       "                                                     link  \\\n",
       "count                                                2798   \n",
       "unique                                               1452   \n",
       "top     https://news.google.com/__i/rss/rd/articles/CB...   \n",
       "freq                                                   28   \n",
       "first                                                 NaN   \n",
       "last                                                  NaN   \n",
       "\n",
       "                   pub_date  \\\n",
       "count                  2798   \n",
       "unique                 1299   \n",
       "top     2022-11-03 04:49:24   \n",
       "freq                     30   \n",
       "first   2022-10-29 00:10:02   \n",
       "last    2022-11-03 21:58:58   \n",
       "\n",
       "                                              description     source  \\\n",
       "count                                                2798       2798   \n",
       "unique                                               1458         10   \n",
       "top     <a href=\"https://news.google.com/__i/rss/rd/ar...  Yahoo奇摩股市   \n",
       "freq                                                   28        789   \n",
       "first                                                 NaN        NaN   \n",
       "last                                                  NaN        NaN   \n",
       "\n",
       "                                                  content  \n",
       "count                                                2798  \n",
       "unique                                               1412  \n",
       "top     美國聯準會 (FED) 升息 3 碼，美元續強，資金持續匯出，台股在台積電及傳產走弱下，開盤...  \n",
       "freq                                                   30  \n",
       "first                                                 NaN  \n",
       "last                                                  NaN  "
      ]
     },
     "execution_count": 5,
     "metadata": {},
     "output_type": "execute_result"
    }
   ],
   "source": [
    "StockNews.describe()"
   ]
  },
  {
   "cell_type": "code",
   "execution_count": 6,
   "id": "23fc36a5",
   "metadata": {},
   "outputs": [],
   "source": [
    "# remove chinese stop words\n",
    "from TCSP import read_stopwords_list\n",
    "stop_words=read_stopwords_list()"
   ]
  },
  {
   "cell_type": "code",
   "execution_count": 7,
   "id": "332528eb",
   "metadata": {},
   "outputs": [
    {
     "data": {
      "text/plain": [
       "'鴻海-TW晚間宣布攜手沙烏拉伯公投資基金PublcInveenFunPIF合資首沙國國家電動車品牌CEER沙國生產電動車包括轎車休旅車預計開賣鎖定沙國東北市場Ceer提供系列電動車設計製造銷售服務運BMW授權部件技術進行車輛開發鴻海開發車輛電子電氣架構智座艙智網關動輔助駕駛技術領域提供工程產品服務輛車沙國設計製造全球高規格汽車品質安全標準進行測試CeerPIF透投資前景產業實現沙國GDP增長元化戰略部預計吸引超.億美元外國直接投資創造達萬直接間接業機預計沙國GDP貢獻億美元沙烏拉伯總理兼公投資基金PIF主席穆罕默德MhbnSlnbnAbulzz表示沙烏拉伯僅造新汽車品牌正燃新產業生態系統吸引國際投資創造民間業機鴻海董事長劉揚偉表示利鴻海科技專長支持Ceer願景造系列具備智網關通訊娛樂動輔助駕駛功備受歡迎電動車透Ceer鴻海目標沙烏拉伯周電動車造成市場主流產品財訊快報／記劉居全報導針市場傳出國令鴻海鄭州工廠周圍域進行期天封鎖引發市場Phne生產擔憂歐系外資新出爐報告表示解期天封城期間鴻海鄭州園保持閉環生產出貨歐系外資認導短期供應斷鴻海季銷售估機構預測影響應限歐系外資維持鴻海季營收季增增表'"
      ]
     },
     "execution_count": 7,
     "metadata": {},
     "output_type": "execute_result"
    }
   ],
   "source": [
    "text = StockNews['content']\n",
    "corpus = ', '.join(text)\n",
    "corpus = ''.join([i for i in corpus if not i.isdigit()])\n",
    "corpus = ''.join([i for i in corpus if i not in stop_words])\n",
    "corpus = corpus.replace(\" \", \"\")\n",
    "corpus[:500]"
   ]
  },
  {
   "cell_type": "code",
   "execution_count": 8,
   "id": "1f937148",
   "metadata": {},
   "outputs": [],
   "source": [
    "# Word segmentation\n",
    "import jieba\n",
    "import jieba.analyse"
   ]
  },
  {
   "cell_type": "code",
   "execution_count": 9,
   "id": "fddaa45e",
   "metadata": {},
   "outputs": [
    {
     "name": "stderr",
     "output_type": "stream",
     "text": [
      "Building prefix dict from the default dictionary ...\n",
      "Loading model from cache C:\\Users\\USER\\AppData\\Local\\Temp\\jieba.cache\n",
      "Loading model cost 0.703 seconds.\n",
      "Prefix dict has been built successfully.\n"
     ]
    },
    {
     "name": "stdout",
     "output_type": "stream",
     "text": [
      "Done\n"
     ]
    }
   ],
   "source": [
    "# TFIDF importance\n",
    "tags = jieba.analyse.extract_tags(corpus,topK=1000)\n",
    "with open(r'TFIDF_1000.txt', 'w') as fp:\n",
    "    for item in tags:\n",
    "        # write each item on a new line\n",
    "        fp.write(\"%s\\n\" % item)\n",
    "    print('Done')"
   ]
  },
  {
   "cell_type": "code",
   "execution_count": 10,
   "id": "2ee81415",
   "metadata": {},
   "outputs": [],
   "source": [
    "# frequency importance\n",
    "seg_list = list(jieba.cut(corpus,use_paddle=True))"
   ]
  },
  {
   "cell_type": "code",
   "execution_count": 11,
   "id": "360d1e33",
   "metadata": {
    "scrolled": true
   },
   "outputs": [
    {
     "name": "stdout",
     "output_type": "stream",
     "text": [
      "927358\n"
     ]
    },
    {
     "data": {
      "text/plain": [
       "['鴻海', '-', 'TW', '晚間', '宣布', '攜手', '沙烏', '拉伯', '公投', '資']"
      ]
     },
     "execution_count": 11,
     "metadata": {},
     "output_type": "execute_result"
    }
   ],
   "source": [
    "print(len(seg_list))\n",
    "seg_list[:10]"
   ]
  },
  {
   "cell_type": "code",
   "execution_count": 12,
   "id": "ced12cab",
   "metadata": {},
   "outputs": [],
   "source": [
    "word_dict = {}\n",
    "# with open(\"wordCount.txt\", 'w') as wf2:  # 打开文件  \n",
    "\n",
    "for item in seg_list:\n",
    "    if item not in word_dict:  # 统计数量  \n",
    "        word_dict[item] = 1\n",
    "    else:\n",
    "        word_dict[item] += 1\n"
   ]
  },
  {
   "cell_type": "code",
   "execution_count": 35,
   "id": "6cce7773",
   "metadata": {
    "scrolled": true
   },
   "outputs": [],
   "source": [
    "orderList={k: v for k, v in sorted(word_dict.items(), key=lambda item: item[1], reverse=True)}\n",
    "del orderList['.']\n",
    "del orderList['-']\n",
    "del orderList['\\t']\n",
    "del orderList['/']\n",
    "del orderList['.%']\n",
    "del orderList[':']\n",
    "del orderList['..']\n",
    "del orderList['~']\n",
    "del orderList['IC']\n",
    "del orderList['Fe']\n",
    "del orderList['Q']\n",
    "del orderList['受']\n",
    "del orderList['係']\n",
    "del orderList['金']\n",
    "del orderList['陳']\n",
    "del orderList['出']\n",
    "del orderList['程']\n",
    "del orderList['季']\n",
    "del orderList['應']\n",
    "del orderList['／']\n",
    "del orderList['%']\n",
    "del orderList['元']\n",
    "del orderList['TW']\n",
    "del orderList['KY']\n",
    "del orderList['EPS']\n",
    "del orderList['台北']\n",
    "del orderList['半導體']\n",
    "del orderList['伺服器']\n",
    "del orderList['億']\n",
    "del orderList['黃']\n",
    "del orderList['台幣']\n",
    "del orderList['政府']\n",
    "del orderList['*']\n",
    "del orderList['億元']\n",
    "del orderList['市場']\n",
    "del orderList['公司']\n",
    "del orderList['表示']"
   ]
  },
  {
   "cell_type": "code",
   "execution_count": 36,
   "id": "c0cd9586",
   "metadata": {},
   "outputs": [
    {
     "data": {
      "text/plain": [
       "[('長', 2601),\n",
       " ('預期', 2480),\n",
       " ('跌', 2437),\n",
       " ('新', 2421),\n",
       " ('指數', 2243),\n",
       " ('成長', 2239),\n",
       " ('買', 2215),\n",
       " ('需求', 2094),\n",
       " ('漲', 2065),\n",
       " ('升息', 2059)]"
      ]
     },
     "execution_count": 36,
     "metadata": {},
     "output_type": "execute_result"
    }
   ],
   "source": [
    "from itertools import islice\n",
    "def take(n, iterable):\n",
    "    \"Return first n items of the iterable as a list\"\n",
    "    return list(islice(iterable, n))\n",
    "\n",
    "orderList = take(1000, orderList.items())\n",
    "orderList[:10]"
   ]
  },
  {
   "cell_type": "code",
   "execution_count": 47,
   "id": "29e5fe21",
   "metadata": {},
   "outputs": [],
   "source": [
    "sz = len(orderList)\n",
    "orderList_1000=[]\n",
    "for i in range(sz):\n",
    "    word = orderList[i][0].strip('\\n')\n",
    "    orderList_1000.append(word)"
   ]
  },
  {
   "cell_type": "code",
   "execution_count": 49,
   "id": "91edc3c1",
   "metadata": {},
   "outputs": [
    {
     "name": "stdout",
     "output_type": "stream",
     "text": [
      "Done\n"
     ]
    }
   ],
   "source": [
    "# Word Frequency\n",
    "with open(r'Top1000FrequencyWords.txt', 'w', encoding='utf-8') as fp:\n",
    "    for item in orderList_1000:\n",
    "        # write each item on a new line\n",
    "        fp.write(\"%s,\" % item)\n",
    "    print('Done')    "
   ]
  },
  {
   "cell_type": "code",
   "execution_count": null,
   "id": "79777a12",
   "metadata": {},
   "outputs": [],
   "source": []
  },
  {
   "cell_type": "code",
   "execution_count": null,
   "id": "274782fb",
   "metadata": {},
   "outputs": [],
   "source": []
  }
 ],
 "metadata": {
  "kernelspec": {
   "display_name": "Python 3 (ipykernel)",
   "language": "python",
   "name": "python3"
  },
  "language_info": {
   "codemirror_mode": {
    "name": "ipython",
    "version": 3
   },
   "file_extension": ".py",
   "mimetype": "text/x-python",
   "name": "python",
   "nbconvert_exporter": "python",
   "pygments_lexer": "ipython3",
   "version": "3.9.12"
  }
 },
 "nbformat": 4,
 "nbformat_minor": 5
}
