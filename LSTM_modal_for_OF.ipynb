{
 "cells": [
  {
   "cell_type": "code",
   "execution_count": 1,
   "id": "2a87124d",
   "metadata": {},
   "outputs": [],
   "source": [
    "import datetime\n",
    "import yfinance as yf\n",
    "import pandas as pd\n",
    "import numpy as np\n",
    "import matplotlib.pyplot as plt\n",
    "import plotly.express as px # to plot the time series plot\n",
    "from sklearn import metrics # for the evaluation\n",
    "from sklearn.preprocessing import LabelEncoder,MinMaxScaler\n",
    "import tensorflow as tf \n",
    "from scipy import stats"
   ]
  },
  {
   "cell_type": "markdown",
   "id": "1fc2e7e1",
   "metadata": {},
   "source": [
    "# I. Load data"
   ]
  },
  {
   "cell_type": "code",
   "execution_count": 20,
   "id": "5b533334",
   "metadata": {},
   "outputs": [],
   "source": [
    "OF = pd.read_pickle(\"OF_res.pkl\")\n",
    "DJIA = pd.read_pickle(\"DJIA_filled_missing_val.pkl\")"
   ]
  },
  {
   "cell_type": "markdown",
   "id": "7ea033d7",
   "metadata": {},
   "source": [
    "# 2. Prepare dataset"
   ]
  },
  {
   "cell_type": "code",
   "execution_count": 22,
   "id": "b89a7197",
   "metadata": {},
   "outputs": [],
   "source": [
    "DJIA_prim = DJIA.copy()\n",
    "OF_prim = OF.drop(columns=['tweets_processed', 'tweet_size', 'positive_point', 'negative_point', 'norm_ratio'])\n",
    "OF_prim = OF_prim.reset_index()\n",
    "OF_prim = OF_prim.rename({'date_processed': 'Dates'}, axis=1) \n",
    "\n",
    "DJIA = DJIA_prim.query(' \"2022-5-1\" <= Dates <= \"2022-6-30\"').reset_index(drop=True)\n",
    "\n",
    "OF = OF_prim.query(' \"2022-05-01\" <= Dates <= \"2022-06-30\"').reset_index(drop=True)\n",
    "OF = OF.drop(columns=['Dates'])\n",
    "\n",
    "Data = pd.concat([DJIA, OF], axis=1)"
   ]
  },
  {
   "cell_type": "code",
   "execution_count": 25,
   "id": "2926ca3a",
   "metadata": {
    "scrolled": true
   },
   "outputs": [
    {
     "data": {
      "text/html": [
       "<div>\n",
       "<style scoped>\n",
       "    .dataframe tbody tr th:only-of-type {\n",
       "        vertical-align: middle;\n",
       "    }\n",
       "\n",
       "    .dataframe tbody tr th {\n",
       "        vertical-align: top;\n",
       "    }\n",
       "\n",
       "    .dataframe thead th {\n",
       "        text-align: right;\n",
       "    }\n",
       "</style>\n",
       "<table border=\"1\" class=\"dataframe\">\n",
       "  <thead>\n",
       "    <tr style=\"text-align: right;\">\n",
       "      <th></th>\n",
       "      <th>Close</th>\n",
       "      <th>ratio</th>\n",
       "    </tr>\n",
       "    <tr>\n",
       "      <th>Dates</th>\n",
       "      <th></th>\n",
       "      <th></th>\n",
       "    </tr>\n",
       "  </thead>\n",
       "  <tbody>\n",
       "    <tr>\n",
       "      <th>2022-05-01</th>\n",
       "      <td>33040.427734</td>\n",
       "      <td>34.500000</td>\n",
       "    </tr>\n",
       "    <tr>\n",
       "      <th>2022-05-02</th>\n",
       "      <td>33061.500000</td>\n",
       "      <td>4.800000</td>\n",
       "    </tr>\n",
       "    <tr>\n",
       "      <th>2022-05-03</th>\n",
       "      <td>33128.789062</td>\n",
       "      <td>4.914286</td>\n",
       "    </tr>\n",
       "    <tr>\n",
       "      <th>2022-05-04</th>\n",
       "      <td>34061.058594</td>\n",
       "      <td>6.666667</td>\n",
       "    </tr>\n",
       "    <tr>\n",
       "      <th>2022-05-05</th>\n",
       "      <td>32997.968750</td>\n",
       "      <td>5.266667</td>\n",
       "    </tr>\n",
       "    <tr>\n",
       "      <th>...</th>\n",
       "      <td>...</td>\n",
       "      <td>...</td>\n",
       "    </tr>\n",
       "    <tr>\n",
       "      <th>2022-06-26</th>\n",
       "      <td>31453.864746</td>\n",
       "      <td>0.800000</td>\n",
       "    </tr>\n",
       "    <tr>\n",
       "      <th>2022-06-27</th>\n",
       "      <td>31438.259766</td>\n",
       "      <td>7.720000</td>\n",
       "    </tr>\n",
       "    <tr>\n",
       "      <th>2022-06-28</th>\n",
       "      <td>30946.990234</td>\n",
       "      <td>14.200000</td>\n",
       "    </tr>\n",
       "    <tr>\n",
       "      <th>2022-06-29</th>\n",
       "      <td>31029.310547</td>\n",
       "      <td>8.800000</td>\n",
       "    </tr>\n",
       "    <tr>\n",
       "      <th>2022-06-30</th>\n",
       "      <td>30775.429688</td>\n",
       "      <td>6.180000</td>\n",
       "    </tr>\n",
       "  </tbody>\n",
       "</table>\n",
       "<p>61 rows × 2 columns</p>\n",
       "</div>"
      ],
      "text/plain": [
       "                   Close      ratio\n",
       "Dates                              \n",
       "2022-05-01  33040.427734  34.500000\n",
       "2022-05-02  33061.500000   4.800000\n",
       "2022-05-03  33128.789062   4.914286\n",
       "2022-05-04  34061.058594   6.666667\n",
       "2022-05-05  32997.968750   5.266667\n",
       "...                  ...        ...\n",
       "2022-06-26  31453.864746   0.800000\n",
       "2022-06-27  31438.259766   7.720000\n",
       "2022-06-28  30946.990234  14.200000\n",
       "2022-06-29  31029.310547   8.800000\n",
       "2022-06-30  30775.429688   6.180000\n",
       "\n",
       "[61 rows x 2 columns]"
      ]
     },
     "execution_count": 25,
     "metadata": {},
     "output_type": "execute_result"
    }
   ],
   "source": [
    "# Data = Data.set_index('Dates')\n",
    "Data"
   ]
  },
  {
   "cell_type": "markdown",
   "id": "1f951a16",
   "metadata": {},
   "source": [
    "# III. Build Neural Network model to predict DJIA\n",
    "input: \n",
    "1. The past 3 days of DJIA values\n",
    "2. The same combination data of our Opinion Finder mood time series (past 3 days)\n",
    "\n",
    "Time period (in thesis): \n",
    "> Train: 2008-2-28 ~ 2008-11-28 (10 months)\n",
    "\n",
    "> Test: 2008-12-1 ~ 2008-12-19 (19 days)\n",
    "\n",
    "Time period (in this project): \n",
    "> Train: 2022-5-4 ~ 2022-6-10 (38 days)\n",
    "\n",
    "> Test: 2022-6-13 ~ 2022-6-30 (17 days)\n"
   ]
  },
  {
   "cell_type": "markdown",
   "id": "007d4682",
   "metadata": {},
   "source": [
    "Part 1 : 只提供過去三天收盤價資訊\n",
    "\n",
    "Single variable\n",
    "\n",
    "> X[0]: [[ [1], [2], [3]]] \n",
    "\n",
    "> y[0]: [4]"
   ]
  },
  {
   "cell_type": "code",
   "execution_count": 117,
   "id": "47a8b8da",
   "metadata": {
    "scrolled": true
   },
   "outputs": [
    {
     "data": {
      "text/plain": [
       "<AxesSubplot:xlabel='Dates'>"
      ]
     },
     "execution_count": 117,
     "metadata": {},
     "output_type": "execute_result"
    },
    {
     "data": {
      "image/png": "[encoded data removed]",
      "text/plain": [
       "<Figure size 432x288 with 1 Axes>"
      ]
     },
     "metadata": {
      "needs_background": "light"
     },
     "output_type": "display_data"
    }
   ],
   "source": [
    "tmp = Data['Close']\n",
    "tmp.plot()"
   ]
  },
  {
   "cell_type": "code",
   "execution_count": 118,
   "id": "65ef547d",
   "metadata": {
    "scrolled": true
   },
   "outputs": [
    {
     "data": {
      "text/plain": [
       "(61, 1)"
      ]
     },
     "execution_count": 118,
     "metadata": {},
     "output_type": "execute_result"
    }
   ],
   "source": [
    "tmp = tmp.to_numpy().reshape(-1, 1)\n",
    "\n",
    "from sklearn.preprocessing import MinMaxScaler\n",
    "scaler = MinMaxScaler()\n",
    "temp = scaler.fit_transform(tmp)\n",
    "temp.shape"
   ]
  },
  {
   "cell_type": "code",
   "execution_count": 119,
   "id": "f689da25",
   "metadata": {},
   "outputs": [],
   "source": [
    "def df_to_X_y(df, window_size=3):\n",
    "    X = []\n",
    "    y = []\n",
    "    for i in range(len(df)-window_size):\n",
    "        row = [a for a in df[i:i+window_size]]\n",
    "        X.append(row)\n",
    "        label = df[i+window_size]\n",
    "        y.append(label)\n",
    "    return np.array(X), np.array(y)"
   ]
  },
  {
   "cell_type": "code",
   "execution_count": 120,
   "id": "d304e5f5",
   "metadata": {},
   "outputs": [
    {
     "data": {
      "text/plain": [
       "((58, 3, 1), (58, 1))"
      ]
     },
     "execution_count": 120,
     "metadata": {},
     "output_type": "execute_result"
    }
   ],
   "source": [
    "WINDOW_SIZE = 3\n",
    "X1, y1 = df_to_X_y(temp, WINDOW_SIZE)\n",
    "X1.shape, y1.shape"
   ]
  },
  {
   "cell_type": "code",
   "execution_count": 121,
   "id": "f2034609",
   "metadata": {},
   "outputs": [
    {
     "data": {
      "text/plain": [
       "((38, 3, 1), (38, 1), (17, 3, 1), (17, 1))"
      ]
     },
     "execution_count": 121,
     "metadata": {},
     "output_type": "execute_result"
    }
   ],
   "source": [
    "X_train1, y_train1 = X1[:38], y1[:38]\n",
    "X_test1, y_test1 = X1[41:], y1[41:]\n",
    "X_train1.shape, y_train1.shape, X_test1.shape, y_test1.shape"
   ]
  },
  {
   "cell_type": "code",
   "execution_count": 122,
   "id": "b50fc9b2",
   "metadata": {},
   "outputs": [
    {
     "name": "stdout",
     "output_type": "stream",
     "text": [
      "Model: \"sequential_4\"\n",
      "_________________________________________________________________\n",
      " Layer (type)                Output Shape              Param #   \n",
      "=================================================================\n",
      " lstm_4 (LSTM)               (None, 64)                16896     \n",
      "                                                                 \n",
      " dense_8 (Dense)             (None, 8)                 520       \n",
      "                                                                 \n",
      " dense_9 (Dense)             (None, 1)                 9         \n",
      "                                                                 \n",
      "=================================================================\n",
      "Total params: 17,425\n",
      "Trainable params: 17,425\n",
      "Non-trainable params: 0\n",
      "_________________________________________________________________\n"
     ]
    }
   ],
   "source": [
    "from tensorflow.keras.models import Sequential\n",
    "from tensorflow.keras.layers import *\n",
    "from tensorflow.keras.callbacks import ModelCheckpoint\n",
    "from tensorflow.keras.losses import MeanSquaredError\n",
    "from tensorflow.keras.metrics import RootMeanSquaredError\n",
    "from tensorflow.keras.optimizers import Adam\n",
    "\n",
    "model1 = Sequential()\n",
    "model1.add(InputLayer((3, 1)))\n",
    "model1.add(LSTM(64))\n",
    "model1.add(Dense(8, 'relu'))\n",
    "model1.add(Dense(1, 'linear'))\n",
    "\n",
    "model1.summary()"
   ]
  },
  {
   "cell_type": "code",
   "execution_count": 123,
   "id": "3fb3ac5c",
   "metadata": {
    "scrolled": true
   },
   "outputs": [
    {
     "name": "stdout",
     "output_type": "stream",
     "text": [
      "Epoch 1/10\n",
      "2/2 [==============================] - 2s 5ms/step - loss: 0.2912 - root_mean_squared_error: 0.5396\n",
      "Epoch 2/10\n",
      "2/2 [==============================] - 0s 6ms/step - loss: 0.0326 - root_mean_squared_error: 0.1806\n",
      "Epoch 3/10\n",
      "2/2 [==============================] - 0s 4ms/step - loss: 0.0755 - root_mean_squared_error: 0.2748\n",
      "Epoch 4/10\n",
      "2/2 [==============================] - 0s 5ms/step - loss: 0.0232 - root_mean_squared_error: 0.1523\n",
      "Epoch 5/10\n",
      "2/2 [==============================] - 0s 17ms/step - loss: 0.0178 - root_mean_squared_error: 0.1335\n",
      "Epoch 6/10\n",
      "2/2 [==============================] - 0s 4ms/step - loss: 0.0279 - root_mean_squared_error: 0.1670\n",
      "Epoch 7/10\n",
      "2/2 [==============================] - 0s 4ms/step - loss: 0.0206 - root_mean_squared_error: 0.1434\n",
      "Epoch 8/10\n",
      "2/2 [==============================] - 0s 5ms/step - loss: 0.0135 - root_mean_squared_error: 0.1162\n",
      "Epoch 9/10\n",
      "2/2 [==============================] - 0s 5ms/step - loss: 0.0212 - root_mean_squared_error: 0.1455\n",
      "Epoch 10/10\n",
      "2/2 [==============================] - 0s 5ms/step - loss: 0.0213 - root_mean_squared_error: 0.1459\n"
     ]
    },
    {
     "data": {
      "text/plain": [
       "<keras.callbacks.History at 0x189ed2268b0>"
      ]
     },
     "execution_count": 123,
     "metadata": {},
     "output_type": "execute_result"
    }
   ],
   "source": [
    "model1.compile(loss=MeanSquaredError(), optimizer=Adam(learning_rate=0.01), metrics=[RootMeanSquaredError()])\n",
    "\n",
    "model1.fit(X_train1, y_train1, epochs=10)"
   ]
  },
  {
   "cell_type": "code",
   "execution_count": 127,
   "id": "986e8874",
   "metadata": {
    "scrolled": true
   },
   "outputs": [
    {
     "data": {
      "text/plain": [
       "[<matplotlib.lines.Line2D at 0x189f06dbb50>]"
      ]
     },
     "execution_count": 127,
     "metadata": {},
     "output_type": "execute_result"
    },
    {
     "data": {
      "image/png": "[encoded data removed]",
      "text/plain": [
       "<Figure size 432x288 with 1 Axes>"
      ]
     },
     "metadata": {
      "needs_background": "light"
     },
     "output_type": "display_data"
    }
   ],
   "source": [
    "# train result\n",
    "train_predictions = model1.predict(X_train1).flatten()\n",
    "pred = scaler.inverse_transform(train_predictions.reshape(-1, 1))\n",
    "pred = pred.reshape(-1,)\n",
    "act = scaler.inverse_transform(y_train1)\n",
    "act = act.reshape(-1,)\n",
    "\n",
    "train_results = pd.DataFrame(data={\n",
    "    'Train Predictions':pred, \n",
    "    'Actuals':act})\n",
    "\n",
    "plt.plot(train_results['Train Predictions'], c='b')\n",
    "plt.plot(train_results['Actuals'], c='g')"
   ]
  },
  {
   "cell_type": "code",
   "execution_count": 128,
   "id": "585c022c",
   "metadata": {},
   "outputs": [
    {
     "data": {
      "text/plain": [
       "[<matplotlib.lines.Line2D at 0x189f074a820>]"
      ]
     },
     "execution_count": 128,
     "metadata": {},
     "output_type": "execute_result"
    },
    {
     "data": {
      "image/png": "[encoded data removed]",
      "text/plain": [
       "<Figure size 432x288 with 1 Axes>"
      ]
     },
     "metadata": {
      "needs_background": "light"
     },
     "output_type": "display_data"
    }
   ],
   "source": [
    "# Test result\n",
    "test_predictions = model1.predict(X_test1).flatten()\n",
    "pred = scaler.inverse_transform(test_predictions.reshape(-1, 1))\n",
    "pred = pred.reshape(-1,)\n",
    "act = scaler.inverse_transform(y_test1)\n",
    "act = act.reshape(-1,)\n",
    "\n",
    "test_results = pd.DataFrame(data={\n",
    "    'Test Predictions':pred, \n",
    "    'Actuals':act})\n",
    "\n",
    "plt.plot(test_results['Test Predictions'], c='b')\n",
    "plt.plot(test_results['Actuals'], c='g')"
   ]
  },
  {
   "cell_type": "markdown",
   "id": "12121a3f",
   "metadata": {},
   "source": [
    "Can't predict it precisely"
   ]
  },
  {
   "cell_type": "markdown",
   "id": "3ad838f9",
   "metadata": {},
   "source": [
    "Part 2: 提供過去3天的DJIA + OF 資料: \n",
    "\n",
    "multi-variable\n",
    "\n",
    "> X[0]: [[ [1-1, 1-2, ..], [2-1, 2-2, ...], [3-1, 3-2, ...]]]\n",
    "\n",
    "> y[0]: [4]\n"
   ]
  },
  {
   "cell_type": "code",
   "execution_count": null,
   "id": "34be84a2",
   "metadata": {},
   "outputs": [],
   "source": []
  },
  {
   "cell_type": "code",
   "execution_count": null,
   "id": "f2660949",
   "metadata": {},
   "outputs": [],
   "source": []
  },
  {
   "cell_type": "code",
   "execution_count": null,
   "id": "8064b4c7",
   "metadata": {},
   "outputs": [],
   "source": []
  },
  {
   "cell_type": "code",
   "execution_count": null,
   "id": "25095aa0",
   "metadata": {},
   "outputs": [],
   "source": []
  },
  {
   "cell_type": "code",
   "execution_count": null,
   "id": "cbe05d9f",
   "metadata": {},
   "outputs": [],
   "source": []
  },
  {
   "cell_type": "code",
   "execution_count": null,
   "id": "06c73682",
   "metadata": {},
   "outputs": [],
   "source": []
  },
  {
   "cell_type": "code",
   "execution_count": null,
   "id": "6966bc91",
   "metadata": {},
   "outputs": [],
   "source": []
  },
  {
   "cell_type": "code",
   "execution_count": null,
   "id": "91d42f6a",
   "metadata": {},
   "outputs": [],
   "source": []
  },
  {
   "cell_type": "code",
   "execution_count": null,
   "id": "b7a425cc",
   "metadata": {},
   "outputs": [],
   "source": []
  },
  {
   "cell_type": "code",
   "execution_count": null,
   "id": "c46128f8",
   "metadata": {},
   "outputs": [],
   "source": []
  },
  {
   "cell_type": "code",
   "execution_count": null,
   "id": "171c7b9a",
   "metadata": {},
   "outputs": [],
   "source": []
  },
  {
   "cell_type": "markdown",
   "id": "5f6ba393",
   "metadata": {},
   "source": [
    "# IV. Compute MAPE & Direction correct rate"
   ]
  },
  {
   "cell_type": "code",
   "execution_count": 129,
   "id": "e5d782b3",
   "metadata": {},
   "outputs": [],
   "source": [
    "def mape(actual, pred): \n",
    "    actual, pred = np.array(actual), np.array(pred)\n",
    "    return np.mean(np.abs((actual - pred) / actual)) * 100\n",
    "\n",
    "def direction(actual, pred): \n",
    "    prev_act = actual[0]\n",
    "    prev_pred = pred[0]\n",
    "    true = []\n",
    "    res = []\n",
    "    for i, j in zip(actual[1:], pred[1:]): \n",
    "        if i>=prev_act:\n",
    "            true.append(1)\n",
    "        else:\n",
    "            true.append(-1)\n",
    "        if j>=prev_pred:\n",
    "            res.append(1)\n",
    "        else:\n",
    "            res.append(-1)\n",
    "        prev_act = i\n",
    "        prev_pred = j\n",
    "    denorminator = len(actual) -1\n",
    "    numerator = 0\n",
    "    for i, j in zip(true, res):\n",
    "        if i==j:\n",
    "            numerator += 1\n",
    "    return (numerator / denorminator)"
   ]
  },
  {
   "cell_type": "code",
   "execution_count": 130,
   "id": "d3db4359",
   "metadata": {},
   "outputs": [
    {
     "name": "stdout",
     "output_type": "stream",
     "text": [
      "MAPE for scenario 1:  2.384 %\n",
      "Directional correction rate  for scenario 1: 50%\n"
     ]
    }
   ],
   "source": [
    "# Part 1: past three days' DJIA data\n",
    "print(\"MAPE for scenario 1: \", mape(test_results['Actuals'], test_results['Test Predictions']).round(3), \"%\")\n",
    "print(\"Directional correction rate  for scenario 1:\", \"{0:.0%}\".format(direction(test_results['Actuals'], test_results['Test Predictions'])) )"
   ]
  },
  {
   "cell_type": "code",
   "execution_count": null,
   "id": "1fcbf295",
   "metadata": {},
   "outputs": [],
   "source": [
    "# Part 2: past three days' DJIA data + Opinion Finder data\n",
    "print(\"MAPE for scenario 1: \", mape(test_results['Actuals'], test_results['Test Predictions']).round(3), \"%\")\n",
    "print(\"Directional correction rate  for scenario 1:\", \"{0:.0%}\".format(direction(test_results['Actuals'], test_results['Test Predictions'])) )"
   ]
  },
  {
   "cell_type": "code",
   "execution_count": null,
   "id": "a0f7329b",
   "metadata": {},
   "outputs": [],
   "source": []
  },
  {
   "cell_type": "code",
   "execution_count": null,
   "id": "e7250b11",
   "metadata": {},
   "outputs": [],
   "source": []
  },
  {
   "cell_type": "code",
   "execution_count": null,
   "id": "0c287480",
   "metadata": {},
   "outputs": [],
   "source": []
  },
  {
   "cell_type": "code",
   "execution_count": null,
   "id": "66951f73",
   "metadata": {},
   "outputs": [],
   "source": []
  },
  {
   "cell_type": "code",
   "execution_count": null,
   "id": "52e0786d",
   "metadata": {},
   "outputs": [],
   "source": []
  },
  {
   "cell_type": "code",
   "execution_count": null,
   "id": "1c3b7e33",
   "metadata": {},
   "outputs": [],
   "source": []
  }
 ],
 "metadata": {
  "kernelspec": {
   "display_name": "Python 3 (ipykernel)",
   "language": "python",
   "name": "python3"
  },
  "language_info": {
   "codemirror_mode": {
    "name": "ipython",
    "version": 3
   },
   "file_extension": ".py",
   "mimetype": "text/x-python",
   "name": "python",
   "nbconvert_exporter": "python",
   "pygments_lexer": "ipython3",
   "version": "3.9.7"
  }
 },
 "nbformat": 4,
 "nbformat_minor": 5
}
