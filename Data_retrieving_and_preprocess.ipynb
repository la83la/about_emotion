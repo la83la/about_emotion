{
 "cells": [
  {
   "cell_type": "markdown",
   "id": "cb90e666",
   "metadata": {},
   "source": [
    "# 1. Get Data"
   ]
  },
  {
   "cell_type": "code",
   "execution_count": 1,
   "id": "54e1e677",
   "metadata": {},
   "outputs": [],
   "source": [
    "# pip install tweepy"
   ]
  },
  {
   "cell_type": "code",
   "execution_count": 3,
   "id": "dd0058dd",
   "metadata": {},
   "outputs": [],
   "source": [
    "import tweepy  # https://github.com/tweepy/tweepy\n",
    "import csv\n",
    "import json\n",
    "import sys\n",
    "import datetime\n",
    "import matplotlib.pyplot as plt\n",
    "from pytz import timezone\n",
    "import hashlib\n",
    "import pandas as pd"
   ]
  },
  {
   "cell_type": "code",
   "execution_count": 3,
   "id": "ff38a45c",
   "metadata": {},
   "outputs": [
    {
     "name": "stdout",
     "output_type": "stream",
     "text": [
      "Authentication OK\n"
     ]
    }
   ],
   "source": [
    "# CREDENTIALS\n",
    "api_key = \"zGWacA8CkRVNQgY5vgAh4nfAp\"\n",
    "api_secret_key = \"DWaRZpAls3u4YcotLKcImKeYy03qlcBqXBKlDr6CtK5Y33Jc3I\"\n",
    "access_token = \"1140211942436429825-5D5hkMjOGr5WyxciM8qO7WH6lz0cOq\"\n",
    "access_token_secret = \"AZZ0OhhV2t8W1n9Q8MqopgtvZaChXsZzxwr1CbF9OmcIz\"\n",
    "\n",
    "auth = tweepy.OAuthHandler(api_key, api_secret_key)\n",
    "auth.set_access_token(access_token, access_token_secret)\n",
    "api = tweepy.API(auth)\n",
    "\n",
    "try:\n",
    "    api.verify_credentials()\n",
    "    print(\"Authentication OK\")\n",
    "except:\n",
    "    print(\"Error during authentication\")"
   ]
  },
  {
   "cell_type": "code",
   "execution_count": 4,
   "id": "6d30377e",
   "metadata": {},
   "outputs": [],
   "source": [
    "# Total 33 companied of DJIA\n",
    "companies = \"3M,Walgreens,Salesforce,Amgen,Honeywell,American Express,Apple,Boeing,Caterpillar,Chevron,Cisco Systems,\" \\\n",
    "            \"Coca-Cola,ExxonMobil,General Electric,Goldman Sachs,IBM,\" \\\n",
    "            \"Intel,Johnson & Johnson,JPMorgan Chase,McDonald's,Merck,Microsoft,Nike,\" \\\n",
    "            \"Pfizer,Procter & Gamble,The Home Depot,Travelers,United Technologies,\" \\\n",
    "            \"UnitedHealth Group,Verizon,Visa,Walmart,Walt Disney\".split(\",\")\n",
    "\n",
    "accounts = \"3M,Walgreens,Salesforce,Amgen,Honeywell,AmericanExpress,AppleSupport,Boeing,CaterpillarInc,Chevron,Cisco,\" \\\n",
    "           \"CocaCola,exxonmobil,generalelectric,GoldmanSachs,IBM,intel,\" \\\n",
    "           \"JNJNews,jpmorgan,McDonalds,Merck,Microsoft,Nike,pfizer,ProcterGamble,\" \\\n",
    "           \"HomeDepot,Travelers,UTC,UnitedHealthGrp,verizon,Visa,Walmart,DisneyStudios\".split(\",\")\n",
    "\n",
    "comDic = dict(zip(accounts, companies))"
   ]
  },
  {
   "cell_type": "code",
   "execution_count": 5,
   "id": "9ba40b5a",
   "metadata": {},
   "outputs": [
    {
     "data": {
      "text/plain": [
       "{'3M': '3M',\n",
       " 'Walgreens': 'Walgreens',\n",
       " 'Salesforce': 'Salesforce',\n",
       " 'Amgen': 'Amgen',\n",
       " 'Honeywell': 'Honeywell',\n",
       " 'AmericanExpress': 'American Express',\n",
       " 'AppleSupport': 'Apple',\n",
       " 'Boeing': 'Boeing',\n",
       " 'CaterpillarInc': 'Caterpillar',\n",
       " 'Chevron': 'Chevron',\n",
       " 'Cisco': 'Cisco Systems',\n",
       " 'CocaCola': 'Coca-Cola',\n",
       " 'exxonmobil': 'ExxonMobil',\n",
       " 'generalelectric': 'General Electric',\n",
       " 'GoldmanSachs': 'Goldman Sachs',\n",
       " 'IBM': 'IBM',\n",
       " 'intel': 'Intel',\n",
       " 'JNJNews': 'Johnson & Johnson',\n",
       " 'jpmorgan': 'JPMorgan Chase',\n",
       " 'McDonalds': \"McDonald's\",\n",
       " 'Merck': 'Merck',\n",
       " 'Microsoft': 'Microsoft',\n",
       " 'Nike': 'Nike',\n",
       " 'pfizer': 'Pfizer',\n",
       " 'ProcterGamble': 'Procter & Gamble',\n",
       " 'HomeDepot': 'The Home Depot',\n",
       " 'Travelers': 'Travelers',\n",
       " 'UTC': 'United Technologies',\n",
       " 'UnitedHealthGrp': 'UnitedHealth Group',\n",
       " 'verizon': 'Verizon',\n",
       " 'Visa': 'Visa',\n",
       " 'Walmart': 'Walmart',\n",
       " 'DisneyStudios': 'Walt Disney'}"
      ]
     },
     "execution_count": 5,
     "metadata": {},
     "output_type": "execute_result"
    }
   ],
   "source": [
    "comDic"
   ]
  },
  {
   "cell_type": "code",
   "execution_count": 6,
   "id": "746f6e42",
   "metadata": {},
   "outputs": [],
   "source": [
    "# function to get the tweets base on their screen_name(user_id)\n",
    "def get_all_tweets(screen_name):\n",
    "    # Twitter only allows access to a users most recent 3200 tweets with this method\n",
    "\n",
    "    print(\"collecting tweets from: \" + screen_name)\n",
    "    # initialize a list to hold all the tweepy Tweets\n",
    "    alltweets = []\n",
    "\n",
    "    # make initial request for most recent tweets (200 is the maximum allowed count)\n",
    "    new_tweets = api.user_timeline(screen_name=screen_name, count=200)\n",
    "\n",
    "    # save most recent tweets\n",
    "    alltweets.extend(new_tweets)\n",
    "\n",
    "    # save the id of the oldest tweet less one\n",
    "    oldest = alltweets[-1].id - 1\n",
    "\n",
    "    # keep grabbing tweets until there are no tweets left to grab\n",
    "    while len(new_tweets) > 0:\n",
    "        # all subsequent requests use the max_id param to prevent duplicates\n",
    "        new_tweets = api.user_timeline(screen_name=screen_name, count=200,\n",
    "                                       max_id=oldest, exclude_replies=True)\n",
    "\n",
    "        # save most recent tweets\n",
    "        alltweets.extend(new_tweets)\n",
    "\n",
    "        # update the id of the oldest tweet less one\n",
    "        oldest = alltweets[-1].id - 1\n",
    "\n",
    "        print(\"...%s tweets downloaded so far\" % (len(alltweets)))\n",
    "\n",
    "    # transform the tweepy tweets into a 2D array that will populate the csv\n",
    "    outtweets = [[\n",
    "        tweet.created_at,\n",
    "        comDic[screen_name],\n",
    "        \"https://twitter.com/\" + screen_name + \"/status/\" + tweet.id_str,\n",
    "        tweet.text.encode(\"utf-8\"),\n",
    "        tweet.retweet_count,\n",
    "        tweet.favorite_count,\n",
    "        tweet.id_str]\n",
    "        for tweet in alltweets]\n",
    "\n",
    "    # compose dataframe for outputting\n",
    "    df = pd.DataFrame(columns=[\"created_at\", \"company\", \"url\", \"tweets\", \"re_tweets\", \"likes\", \"id\"])\n",
    "    for tweet in outtweets:\n",
    "        row = pd.Series(tweet,index=[\"created_at\", \"company\", \"url\", \"tweets\", \"re_tweets\", \"likes\", \"id\"])\n",
    "        df = df.append(row, ignore_index=True)\n",
    "        \n",
    "    return df"
   ]
  },
  {
   "cell_type": "code",
   "execution_count": 7,
   "id": "e5fd7b5c",
   "metadata": {},
   "outputs": [
    {
     "name": "stdout",
     "output_type": "stream",
     "text": [
      "collecting tweets from: 3M\n",
      "...257 tweets downloaded so far\n",
      "...297 tweets downloaded so far\n",
      "...356 tweets downloaded so far\n",
      "...409 tweets downloaded so far\n",
      "...467 tweets downloaded so far\n",
      "...537 tweets downloaded so far\n",
      "...578 tweets downloaded so far\n",
      "...622 tweets downloaded so far\n",
      "...682 tweets downloaded so far\n",
      "...731 tweets downloaded so far\n",
      "...753 tweets downloaded so far\n",
      "...770 tweets downloaded so far\n",
      "...803 tweets downloaded so far\n",
      "...835 tweets downloaded so far\n",
      "...867 tweets downloaded so far\n",
      "...894 tweets downloaded so far\n",
      "...894 tweets downloaded so far\n",
      "collecting tweets from: Walgreens\n",
      "...207 tweets downloaded so far\n",
      "...210 tweets downloaded so far\n",
      "...212 tweets downloaded so far\n",
      "...213 tweets downloaded so far\n",
      "...214 tweets downloaded so far\n",
      "...215 tweets downloaded so far\n",
      "...217 tweets downloaded so far\n",
      "...228 tweets downloaded so far\n",
      "...232 tweets downloaded so far\n",
      "...239 tweets downloaded so far\n",
      "...249 tweets downloaded so far\n",
      "...253 tweets downloaded so far\n",
      "...260 tweets downloaded so far\n",
      "...263 tweets downloaded so far\n",
      "...263 tweets downloaded so far\n",
      "collecting tweets from: Salesforce\n",
      "...245 tweets downloaded so far\n",
      "...306 tweets downloaded so far\n",
      "...415 tweets downloaded so far\n",
      "...562 tweets downloaded so far\n",
      "...611 tweets downloaded so far\n",
      "...728 tweets downloaded so far\n",
      "...819 tweets downloaded so far\n",
      "...907 tweets downloaded so far\n",
      "...937 tweets downloaded so far\n",
      "...988 tweets downloaded so far\n",
      "...1051 tweets downloaded so far\n",
      "...1068 tweets downloaded so far\n",
      "...1069 tweets downloaded so far\n",
      "...1069 tweets downloaded so far\n",
      "collecting tweets from: Amgen\n",
      "...382 tweets downloaded so far\n",
      "...545 tweets downloaded so far\n",
      "...733 tweets downloaded so far\n",
      "...930 tweets downloaded so far\n",
      "...1124 tweets downloaded so far\n",
      "...1310 tweets downloaded so far\n",
      "...1505 tweets downloaded so far\n",
      "...1664 tweets downloaded so far\n",
      "...1832 tweets downloaded so far\n",
      "...1973 tweets downloaded so far\n",
      "...2146 tweets downloaded so far\n",
      "...2285 tweets downloaded so far\n",
      "...2461 tweets downloaded so far\n",
      "...2648 tweets downloaded so far\n",
      "...2819 tweets downloaded so far\n",
      "...2867 tweets downloaded so far\n",
      "...2867 tweets downloaded so far\n",
      "collecting tweets from: Honeywell\n",
      "...251 tweets downloaded so far\n",
      "...313 tweets downloaded so far\n",
      "...361 tweets downloaded so far\n",
      "...418 tweets downloaded so far\n",
      "...464 tweets downloaded so far\n",
      "...496 tweets downloaded so far\n",
      "...531 tweets downloaded so far\n",
      "...574 tweets downloaded so far\n",
      "...607 tweets downloaded so far\n",
      "...630 tweets downloaded so far\n",
      "...687 tweets downloaded so far\n",
      "...758 tweets downloaded so far\n",
      "...872 tweets downloaded so far\n",
      "...991 tweets downloaded so far\n",
      "...1177 tweets downloaded so far\n",
      "...1265 tweets downloaded so far\n",
      "...1265 tweets downloaded so far\n",
      "collecting tweets from: AmericanExpress\n",
      "...224 tweets downloaded so far\n",
      "...253 tweets downloaded so far\n",
      "...284 tweets downloaded so far\n",
      "...302 tweets downloaded so far\n",
      "...353 tweets downloaded so far\n",
      "...408 tweets downloaded so far\n",
      "...436 tweets downloaded so far\n",
      "...485 tweets downloaded so far\n",
      "...510 tweets downloaded so far\n",
      "...563 tweets downloaded so far\n",
      "...598 tweets downloaded so far\n",
      "...637 tweets downloaded so far\n",
      "...676 tweets downloaded so far\n",
      "...700 tweets downloaded so far\n",
      "...759 tweets downloaded so far\n",
      "...786 tweets downloaded so far\n",
      "...786 tweets downloaded so far\n",
      "collecting tweets from: AppleSupport\n",
      "...201 tweets downloaded so far\n",
      "...202 tweets downloaded so far\n",
      "...203 tweets downloaded so far\n",
      "...204 tweets downloaded so far\n",
      "...205 tweets downloaded so far\n",
      "...206 tweets downloaded so far\n",
      "...207 tweets downloaded so far\n",
      "...208 tweets downloaded so far\n",
      "...209 tweets downloaded so far\n",
      "...210 tweets downloaded so far\n",
      "...211 tweets downloaded so far\n",
      "...212 tweets downloaded so far\n",
      "...212 tweets downloaded so far\n",
      "collecting tweets from: Boeing\n",
      "...364 tweets downloaded so far\n",
      "...497 tweets downloaded so far\n",
      "...684 tweets downloaded so far\n",
      "...863 tweets downloaded so far\n",
      "...1054 tweets downloaded so far\n",
      "...1234 tweets downloaded so far\n",
      "...1347 tweets downloaded so far\n",
      "...1513 tweets downloaded so far\n",
      "...1711 tweets downloaded so far\n",
      "...1900 tweets downloaded so far\n",
      "...2093 tweets downloaded so far\n",
      "...2293 tweets downloaded so far\n",
      "...2491 tweets downloaded so far\n",
      "...2676 tweets downloaded so far\n",
      "...2863 tweets downloaded so far\n",
      "...2932 tweets downloaded so far\n",
      "...2932 tweets downloaded so far\n",
      "collecting tweets from: CaterpillarInc\n",
      "...316 tweets downloaded so far\n",
      "...461 tweets downloaded so far\n",
      "...590 tweets downloaded so far\n",
      "...735 tweets downloaded so far\n",
      "...886 tweets downloaded so far\n",
      "...959 tweets downloaded so far\n",
      "...1017 tweets downloaded so far\n",
      "...1149 tweets downloaded so far\n",
      "...1303 tweets downloaded so far\n",
      "...1459 tweets downloaded so far\n",
      "...1612 tweets downloaded so far\n",
      "...1737 tweets downloaded so far\n",
      "...1850 tweets downloaded so far\n",
      "...1981 tweets downloaded so far\n",
      "...2144 tweets downloaded so far\n",
      "...2192 tweets downloaded so far\n",
      "...2192 tweets downloaded so far\n",
      "collecting tweets from: Chevron\n",
      "...276 tweets downloaded so far\n",
      "...334 tweets downloaded so far\n",
      "...379 tweets downloaded so far\n",
      "...429 tweets downloaded so far\n",
      "...461 tweets downloaded so far\n",
      "...509 tweets downloaded so far\n",
      "...564 tweets downloaded so far\n",
      "...630 tweets downloaded so far\n",
      "...718 tweets downloaded so far\n",
      "...811 tweets downloaded so far\n",
      "...881 tweets downloaded so far\n",
      "...955 tweets downloaded so far\n",
      "...1043 tweets downloaded so far\n",
      "...1102 tweets downloaded so far\n",
      "...1158 tweets downloaded so far\n",
      "...1193 tweets downloaded so far\n",
      "...1193 tweets downloaded so far\n",
      "collecting tweets from: Cisco\n",
      "...371 tweets downloaded so far\n",
      "...548 tweets downloaded so far\n",
      "...731 tweets downloaded so far\n",
      "...891 tweets downloaded so far\n",
      "...1041 tweets downloaded so far\n",
      "...1193 tweets downloaded so far\n",
      "...1373 tweets downloaded so far\n",
      "...1540 tweets downloaded so far\n",
      "...1715 tweets downloaded so far\n",
      "...1884 tweets downloaded so far\n",
      "...2054 tweets downloaded so far\n",
      "...2191 tweets downloaded so far\n",
      "...2323 tweets downloaded so far\n",
      "...2488 tweets downloaded so far\n",
      "...2669 tweets downloaded so far\n",
      "...2721 tweets downloaded so far\n",
      "...2721 tweets downloaded so far\n",
      "collecting tweets from: CocaCola\n",
      "...207 tweets downloaded so far\n",
      "...218 tweets downloaded so far\n",
      "...234 tweets downloaded so far\n",
      "...245 tweets downloaded so far\n",
      "...256 tweets downloaded so far\n",
      "...266 tweets downloaded so far\n",
      "...272 tweets downloaded so far\n",
      "...274 tweets downloaded so far\n",
      "...281 tweets downloaded so far\n",
      "...284 tweets downloaded so far\n",
      "...289 tweets downloaded so far\n",
      "...302 tweets downloaded so far\n",
      "...305 tweets downloaded so far\n",
      "...306 tweets downloaded so far\n",
      "...311 tweets downloaded so far\n",
      "...320 tweets downloaded so far\n",
      "...320 tweets downloaded so far\n",
      "collecting tweets from: exxonmobil\n",
      "...387 tweets downloaded so far\n",
      "...586 tweets downloaded so far\n",
      "...774 tweets downloaded so far\n",
      "...962 tweets downloaded so far\n",
      "...1142 tweets downloaded so far\n",
      "...1296 tweets downloaded so far\n",
      "...1417 tweets downloaded so far\n",
      "...1510 tweets downloaded so far\n",
      "...1541 tweets downloaded so far\n",
      "...1602 tweets downloaded so far\n",
      "...1725 tweets downloaded so far\n",
      "...1923 tweets downloaded so far\n",
      "...2109 tweets downloaded so far\n",
      "...2289 tweets downloaded so far\n",
      "...2468 tweets downloaded so far\n",
      "...2530 tweets downloaded so far\n",
      "...2530 tweets downloaded so far\n",
      "collecting tweets from: generalelectric\n",
      "...365 tweets downloaded so far\n",
      "...540 tweets downloaded so far\n",
      "...708 tweets downloaded so far\n",
      "...849 tweets downloaded so far\n",
      "...1014 tweets downloaded so far\n",
      "...1196 tweets downloaded so far\n",
      "...1350 tweets downloaded so far\n",
      "...1495 tweets downloaded so far\n",
      "...1632 tweets downloaded so far\n",
      "...1755 tweets downloaded so far\n",
      "...1852 tweets downloaded so far\n",
      "...1954 tweets downloaded so far\n",
      "...2014 tweets downloaded so far\n",
      "...2068 tweets downloaded so far\n",
      "...2115 tweets downloaded so far\n",
      "...2148 tweets downloaded so far\n",
      "...2148 tweets downloaded so far\n",
      "collecting tweets from: GoldmanSachs\n",
      "...354 tweets downloaded so far\n",
      "...540 tweets downloaded so far\n",
      "...732 tweets downloaded so far\n",
      "...922 tweets downloaded so far\n",
      "...1108 tweets downloaded so far\n",
      "...1308 tweets downloaded so far\n",
      "...1507 tweets downloaded so far\n",
      "...1707 tweets downloaded so far\n",
      "...1907 tweets downloaded so far\n"
     ]
    },
    {
     "name": "stdout",
     "output_type": "stream",
     "text": [
      "...2107 tweets downloaded so far\n",
      "...2306 tweets downloaded so far\n",
      "...2506 tweets downloaded so far\n",
      "...2706 tweets downloaded so far\n",
      "...2906 tweets downloaded so far\n",
      "...3106 tweets downloaded so far\n",
      "...3156 tweets downloaded so far\n",
      "...3156 tweets downloaded so far\n",
      "collecting tweets from: IBM\n",
      "...219 tweets downloaded so far\n",
      "...233 tweets downloaded so far\n",
      "...256 tweets downloaded so far\n",
      "...280 tweets downloaded so far\n",
      "...292 tweets downloaded so far\n",
      "...297 tweets downloaded so far\n",
      "...306 tweets downloaded so far\n",
      "...321 tweets downloaded so far\n",
      "...330 tweets downloaded so far\n",
      "...338 tweets downloaded so far\n",
      "...349 tweets downloaded so far\n",
      "...360 tweets downloaded so far\n",
      "...373 tweets downloaded so far\n",
      "...383 tweets downloaded so far\n",
      "...398 tweets downloaded so far\n",
      "...409 tweets downloaded so far\n",
      "...409 tweets downloaded so far\n",
      "collecting tweets from: intel\n",
      "...335 tweets downloaded so far\n",
      "...440 tweets downloaded so far\n",
      "...521 tweets downloaded so far\n",
      "...572 tweets downloaded so far\n",
      "...636 tweets downloaded so far\n",
      "...695 tweets downloaded so far\n",
      "...737 tweets downloaded so far\n",
      "...784 tweets downloaded so far\n",
      "...819 tweets downloaded so far\n",
      "...884 tweets downloaded so far\n",
      "...957 tweets downloaded so far\n",
      "...1044 tweets downloaded so far\n",
      "...1115 tweets downloaded so far\n",
      "...1220 tweets downloaded so far\n",
      "...1348 tweets downloaded so far\n",
      "...1402 tweets downloaded so far\n",
      "...1402 tweets downloaded so far\n",
      "collecting tweets from: JNJNews\n",
      "...242 tweets downloaded so far\n",
      "...327 tweets downloaded so far\n",
      "...357 tweets downloaded so far\n",
      "...411 tweets downloaded so far\n",
      "...483 tweets downloaded so far\n",
      "...633 tweets downloaded so far\n",
      "...789 tweets downloaded so far\n",
      "...945 tweets downloaded so far\n",
      "...1080 tweets downloaded so far\n",
      "...1255 tweets downloaded so far\n",
      "...1413 tweets downloaded so far\n",
      "...1556 tweets downloaded so far\n",
      "...1709 tweets downloaded so far\n",
      "...1859 tweets downloaded so far\n",
      "...1971 tweets downloaded so far\n",
      "...1972 tweets downloaded so far\n",
      "...1972 tweets downloaded so far\n",
      "collecting tweets from: jpmorgan\n",
      "...361 tweets downloaded so far\n",
      "...502 tweets downloaded so far\n",
      "...658 tweets downloaded so far\n",
      "...825 tweets downloaded so far\n",
      "...1017 tweets downloaded so far\n",
      "...1208 tweets downloaded so far\n",
      "...1401 tweets downloaded so far\n",
      "...1596 tweets downloaded so far\n",
      "...1787 tweets downloaded so far\n",
      "...1977 tweets downloaded so far\n",
      "...2167 tweets downloaded so far\n",
      "...2366 tweets downloaded so far\n",
      "...2565 tweets downloaded so far\n",
      "...2742 tweets downloaded so far\n",
      "...2938 tweets downloaded so far\n",
      "...2995 tweets downloaded so far\n",
      "...2995 tweets downloaded so far\n",
      "collecting tweets from: McDonalds\n",
      "...200 tweets downloaded so far\n",
      "collecting tweets from: Merck\n",
      "...391 tweets downloaded so far\n",
      "...587 tweets downloaded so far\n",
      "...759 tweets downloaded so far\n",
      "...932 tweets downloaded so far\n",
      "...1076 tweets downloaded so far\n",
      "...1079 tweets downloaded so far\n",
      "...1191 tweets downloaded so far\n",
      "...1385 tweets downloaded so far\n",
      "...1575 tweets downloaded so far\n",
      "...1713 tweets downloaded so far\n",
      "...1870 tweets downloaded so far\n",
      "...2057 tweets downloaded so far\n",
      "...2235 tweets downloaded so far\n",
      "...2422 tweets downloaded so far\n",
      "...2604 tweets downloaded so far\n",
      "...2746 tweets downloaded so far\n",
      "...2746 tweets downloaded so far\n",
      "collecting tweets from: Microsoft\n",
      "...242 tweets downloaded so far\n",
      "...317 tweets downloaded so far\n",
      "...368 tweets downloaded so far\n",
      "...426 tweets downloaded so far\n",
      "...472 tweets downloaded so far\n",
      "...514 tweets downloaded so far\n",
      "...564 tweets downloaded so far\n",
      "...613 tweets downloaded so far\n",
      "...673 tweets downloaded so far\n",
      "...728 tweets downloaded so far\n",
      "...777 tweets downloaded so far\n",
      "...830 tweets downloaded so far\n",
      "...875 tweets downloaded so far\n",
      "...922 tweets downloaded so far\n",
      "...958 tweets downloaded so far\n",
      "...986 tweets downloaded so far\n",
      "...986 tweets downloaded so far\n",
      "collecting tweets from: Nike\n",
      "...224 tweets downloaded so far\n",
      "...234 tweets downloaded so far\n",
      "...252 tweets downloaded so far\n",
      "...258 tweets downloaded so far\n",
      "...259 tweets downloaded so far\n",
      "...266 tweets downloaded so far\n",
      "...278 tweets downloaded so far\n",
      "...283 tweets downloaded so far\n",
      "...291 tweets downloaded so far\n",
      "...294 tweets downloaded so far\n",
      "...298 tweets downloaded so far\n",
      "...305 tweets downloaded so far\n",
      "...307 tweets downloaded so far\n",
      "...309 tweets downloaded so far\n",
      "...315 tweets downloaded so far\n",
      "...318 tweets downloaded so far\n",
      "...319 tweets downloaded so far\n",
      "...319 tweets downloaded so far\n",
      "collecting tweets from: pfizer\n",
      "...351 tweets downloaded so far\n",
      "...522 tweets downloaded so far\n",
      "...679 tweets downloaded so far\n",
      "...841 tweets downloaded so far\n",
      "...997 tweets downloaded so far\n",
      "...1169 tweets downloaded so far\n",
      "...1326 tweets downloaded so far\n",
      "...1476 tweets downloaded so far\n",
      "...1663 tweets downloaded so far\n",
      "...1852 tweets downloaded so far\n",
      "...2032 tweets downloaded so far\n",
      "...2206 tweets downloaded so far\n",
      "...2395 tweets downloaded so far\n",
      "...2588 tweets downloaded so far\n",
      "...2780 tweets downloaded so far\n",
      "...2828 tweets downloaded so far\n",
      "...2828 tweets downloaded so far\n",
      "collecting tweets from: ProcterGamble\n",
      "...252 tweets downloaded so far\n",
      "...347 tweets downloaded so far\n",
      "...376 tweets downloaded so far\n",
      "...399 tweets downloaded so far\n",
      "...465 tweets downloaded so far\n",
      "...547 tweets downloaded so far\n",
      "...617 tweets downloaded so far\n",
      "...695 tweets downloaded so far\n",
      "...775 tweets downloaded so far\n",
      "...858 tweets downloaded so far\n",
      "...927 tweets downloaded so far\n",
      "...990 tweets downloaded so far\n",
      "...1057 tweets downloaded so far\n",
      "...1120 tweets downloaded so far\n",
      "...1187 tweets downloaded so far\n",
      "...1229 tweets downloaded so far\n",
      "...1229 tweets downloaded so far\n",
      "collecting tweets from: HomeDepot\n",
      "...366 tweets downloaded so far\n",
      "...504 tweets downloaded so far\n",
      "...681 tweets downloaded so far\n",
      "...838 tweets downloaded so far\n",
      "...1001 tweets downloaded so far\n",
      "...1112 tweets downloaded so far\n",
      "...1223 tweets downloaded so far\n",
      "...1306 tweets downloaded so far\n",
      "...1501 tweets downloaded so far\n",
      "...1685 tweets downloaded so far\n",
      "...1878 tweets downloaded so far\n",
      "...2076 tweets downloaded so far\n",
      "...2274 tweets downloaded so far\n",
      "...2469 tweets downloaded so far\n",
      "...2663 tweets downloaded so far\n",
      "...2726 tweets downloaded so far\n",
      "...2726 tweets downloaded so far\n",
      "collecting tweets from: Travelers\n",
      "...357 tweets downloaded so far\n",
      "...506 tweets downloaded so far\n",
      "...643 tweets downloaded so far\n",
      "...782 tweets downloaded so far\n",
      "...922 tweets downloaded so far\n",
      "...985 tweets downloaded so far\n",
      "...1129 tweets downloaded so far\n",
      "...1278 tweets downloaded so far\n",
      "...1382 tweets downloaded so far\n",
      "...1541 tweets downloaded so far\n",
      "...1710 tweets downloaded so far\n",
      "...1868 tweets downloaded so far\n",
      "...2027 tweets downloaded so far\n",
      "...2175 tweets downloaded so far\n",
      "...2328 tweets downloaded so far\n",
      "...2372 tweets downloaded so far\n",
      "...2372 tweets downloaded so far\n",
      "collecting tweets from: UTC\n",
      "...384 tweets downloaded so far\n",
      "...567 tweets downloaded so far\n",
      "...741 tweets downloaded so far\n",
      "...908 tweets downloaded so far\n",
      "...1094 tweets downloaded so far\n",
      "...1284 tweets downloaded so far\n",
      "...1471 tweets downloaded so far\n",
      "...1650 tweets downloaded so far\n",
      "...1837 tweets downloaded so far\n",
      "...2031 tweets downloaded so far\n",
      "...2213 tweets downloaded so far\n",
      "...2397 tweets downloaded so far\n",
      "...2575 tweets downloaded so far\n",
      "...2768 tweets downloaded so far\n",
      "...2960 tweets downloaded so far\n",
      "...2962 tweets downloaded so far\n",
      "...2962 tweets downloaded so far\n",
      "collecting tweets from: UnitedHealthGrp\n",
      "...325 tweets downloaded so far\n",
      "...432 tweets downloaded so far\n",
      "...586 tweets downloaded so far\n",
      "...730 tweets downloaded so far\n",
      "...925 tweets downloaded so far\n",
      "...1109 tweets downloaded so far\n",
      "...1304 tweets downloaded so far\n",
      "...1503 tweets downloaded so far\n",
      "...1702 tweets downloaded so far\n",
      "...1899 tweets downloaded so far\n",
      "...2098 tweets downloaded so far\n",
      "...2298 tweets downloaded so far\n",
      "...2498 tweets downloaded so far\n",
      "...2696 tweets downloaded so far\n",
      "...2762 tweets downloaded so far\n",
      "...2762 tweets downloaded so far\n",
      "collecting tweets from: verizon\n",
      "...308 tweets downloaded so far\n",
      "...406 tweets downloaded so far\n",
      "...471 tweets downloaded so far\n",
      "...530 tweets downloaded so far\n",
      "...596 tweets downloaded so far\n",
      "...630 tweets downloaded so far\n",
      "...655 tweets downloaded so far\n",
      "...675 tweets downloaded so far\n"
     ]
    },
    {
     "name": "stdout",
     "output_type": "stream",
     "text": [
      "...730 tweets downloaded so far\n",
      "...746 tweets downloaded so far\n",
      "...854 tweets downloaded so far\n",
      "...949 tweets downloaded so far\n",
      "...1038 tweets downloaded so far\n",
      "...1117 tweets downloaded so far\n",
      "...1192 tweets downloaded so far\n",
      "...1232 tweets downloaded so far\n",
      "...1232 tweets downloaded so far\n",
      "collecting tweets from: Visa\n",
      "...235 tweets downloaded so far\n",
      "...253 tweets downloaded so far\n",
      "...257 tweets downloaded so far\n",
      "...258 tweets downloaded so far\n",
      "...259 tweets downloaded so far\n",
      "...261 tweets downloaded so far\n",
      "...262 tweets downloaded so far\n",
      "...263 tweets downloaded so far\n",
      "...330 tweets downloaded so far\n",
      "...330 tweets downloaded so far\n",
      "collecting tweets from: Walmart\n",
      "...204 tweets downloaded so far\n",
      "...208 tweets downloaded so far\n",
      "...210 tweets downloaded so far\n",
      "...236 tweets downloaded so far\n",
      "...237 tweets downloaded so far\n",
      "...239 tweets downloaded so far\n",
      "...241 tweets downloaded so far\n",
      "...242 tweets downloaded so far\n",
      "...244 tweets downloaded so far\n",
      "...249 tweets downloaded so far\n",
      "...250 tweets downloaded so far\n",
      "...253 tweets downloaded so far\n",
      "...259 tweets downloaded so far\n",
      "...268 tweets downloaded so far\n",
      "...268 tweets downloaded so far\n",
      "collecting tweets from: DisneyStudios\n",
      "...366 tweets downloaded so far\n",
      "...541 tweets downloaded so far\n",
      "...725 tweets downloaded so far\n",
      "...900 tweets downloaded so far\n",
      "...1088 tweets downloaded so far\n",
      "...1275 tweets downloaded so far\n",
      "...1443 tweets downloaded so far\n",
      "...1635 tweets downloaded so far\n",
      "...1820 tweets downloaded so far\n",
      "...1997 tweets downloaded so far\n",
      "...2188 tweets downloaded so far\n",
      "...2379 tweets downloaded so far\n",
      "...2547 tweets downloaded so far\n",
      "...2732 tweets downloaded so far\n",
      "...2915 tweets downloaded so far\n",
      "...2915 tweets downloaded so far\n"
     ]
    }
   ],
   "source": [
    "allData_list = []\n",
    "for acc in accounts:\n",
    "    allData_list.append(get_all_tweets(acc))"
   ]
  },
  {
   "cell_type": "code",
   "execution_count": 8,
   "id": "61970f7d",
   "metadata": {},
   "outputs": [
    {
     "data": {
      "text/html": [
       "<div>\n",
       "<style scoped>\n",
       "    .dataframe tbody tr th:only-of-type {\n",
       "        vertical-align: middle;\n",
       "    }\n",
       "\n",
       "    .dataframe tbody tr th {\n",
       "        vertical-align: top;\n",
       "    }\n",
       "\n",
       "    .dataframe thead th {\n",
       "        text-align: right;\n",
       "    }\n",
       "</style>\n",
       "<table border=\"1\" class=\"dataframe\">\n",
       "  <thead>\n",
       "    <tr style=\"text-align: right;\">\n",
       "      <th></th>\n",
       "      <th>created_at</th>\n",
       "      <th>company</th>\n",
       "      <th>url</th>\n",
       "      <th>tweets</th>\n",
       "      <th>re_tweets</th>\n",
       "      <th>likes</th>\n",
       "      <th>id</th>\n",
       "    </tr>\n",
       "  </thead>\n",
       "  <tbody>\n",
       "    <tr>\n",
       "      <th>0</th>\n",
       "      <td>2022-08-16 18:35:08+00:00</td>\n",
       "      <td>3M</td>\n",
       "      <td>https://twitter.com/3M/status/1559609719840440320</td>\n",
       "      <td>b'@bob0pearls Hello - We are sorry to hear of ...</td>\n",
       "      <td>0</td>\n",
       "      <td>0</td>\n",
       "      <td>1559609719840440320</td>\n",
       "    </tr>\n",
       "    <tr>\n",
       "      <th>1</th>\n",
       "      <td>2022-08-16 17:44:04+00:00</td>\n",
       "      <td>3M</td>\n",
       "      <td>https://twitter.com/3M/status/1559596870866984963</td>\n",
       "      <td>b'To help increase visibility and safety, this...</td>\n",
       "      <td>0</td>\n",
       "      <td>10</td>\n",
       "      <td>1559596870866984963</td>\n",
       "    </tr>\n",
       "    <tr>\n",
       "      <th>2</th>\n",
       "      <td>2022-08-16 17:04:41+00:00</td>\n",
       "      <td>3M</td>\n",
       "      <td>https://twitter.com/3M/status/1559586957969293312</td>\n",
       "      <td>b'@__deeannaa Hello - We are sorry to hear of ...</td>\n",
       "      <td>0</td>\n",
       "      <td>0</td>\n",
       "      <td>1559586957969293312</td>\n",
       "    </tr>\n",
       "    <tr>\n",
       "      <th>3</th>\n",
       "      <td>2022-08-16 16:48:00+00:00</td>\n",
       "      <td>3M</td>\n",
       "      <td>https://twitter.com/3M/status/1559582761865846785</td>\n",
       "      <td>b'@DeptofRage Hello - We are sorry to hear of ...</td>\n",
       "      <td>0</td>\n",
       "      <td>0</td>\n",
       "      <td>1559582761865846785</td>\n",
       "    </tr>\n",
       "    <tr>\n",
       "      <th>4</th>\n",
       "      <td>2022-08-15 21:15:12+00:00</td>\n",
       "      <td>3M</td>\n",
       "      <td>https://twitter.com/3M/status/1559287617908244482</td>\n",
       "      <td>b'@thicciceberg Hello - We are sorry to hear o...</td>\n",
       "      <td>0</td>\n",
       "      <td>2</td>\n",
       "      <td>1559287617908244482</td>\n",
       "    </tr>\n",
       "    <tr>\n",
       "      <th>...</th>\n",
       "      <td>...</td>\n",
       "      <td>...</td>\n",
       "      <td>...</td>\n",
       "      <td>...</td>\n",
       "      <td>...</td>\n",
       "      <td>...</td>\n",
       "      <td>...</td>\n",
       "    </tr>\n",
       "    <tr>\n",
       "      <th>55196</th>\n",
       "      <td>2019-04-07 19:06:00+00:00</td>\n",
       "      <td>Walt Disney</td>\n",
       "      <td>https://twitter.com/DisneyStudios/status/11149...</td>\n",
       "      <td>b'In Dreamland, everything is possible. See #D...</td>\n",
       "      <td>104</td>\n",
       "      <td>937</td>\n",
       "      <td>1114967577883762691</td>\n",
       "    </tr>\n",
       "    <tr>\n",
       "      <th>55197</th>\n",
       "      <td>2019-04-07 16:00:00+00:00</td>\n",
       "      <td>Walt Disney</td>\n",
       "      <td>https://twitter.com/DisneyStudios/status/11149...</td>\n",
       "      <td>b'Celebrate 10 years of @Disneynature in advan...</td>\n",
       "      <td>100</td>\n",
       "      <td>734</td>\n",
       "      <td>1114920771753844736</td>\n",
       "    </tr>\n",
       "    <tr>\n",
       "      <th>55198</th>\n",
       "      <td>2019-04-06 19:00:00+00:00</td>\n",
       "      <td>Walt Disney</td>\n",
       "      <td>https://twitter.com/DisneyStudios/status/11146...</td>\n",
       "      <td>b'See the #1 movie in the world, in theaters n...</td>\n",
       "      <td>51</td>\n",
       "      <td>522</td>\n",
       "      <td>1114603682195095553</td>\n",
       "    </tr>\n",
       "    <tr>\n",
       "      <th>55199</th>\n",
       "      <td>2019-04-06 18:00:01+00:00</td>\n",
       "      <td>Walt Disney</td>\n",
       "      <td>https://twitter.com/DisneyStudios/status/11145...</td>\n",
       "      <td>b'There\\xe2\\x80\\x99s no one quite like Steve. ...</td>\n",
       "      <td>207</td>\n",
       "      <td>1340</td>\n",
       "      <td>1114588585485918208</td>\n",
       "    </tr>\n",
       "    <tr>\n",
       "      <th>55200</th>\n",
       "      <td>2019-04-06 17:00:00+00:00</td>\n",
       "      <td>Walt Disney</td>\n",
       "      <td>https://twitter.com/DisneyStudios/status/11145...</td>\n",
       "      <td>b'Have you met the newest performer? See #Dumb...</td>\n",
       "      <td>84</td>\n",
       "      <td>882</td>\n",
       "      <td>1114573481432084482</td>\n",
       "    </tr>\n",
       "  </tbody>\n",
       "</table>\n",
       "<p>55201 rows × 7 columns</p>\n",
       "</div>"
      ],
      "text/plain": [
       "                     created_at      company  \\\n",
       "0     2022-08-16 18:35:08+00:00           3M   \n",
       "1     2022-08-16 17:44:04+00:00           3M   \n",
       "2     2022-08-16 17:04:41+00:00           3M   \n",
       "3     2022-08-16 16:48:00+00:00           3M   \n",
       "4     2022-08-15 21:15:12+00:00           3M   \n",
       "...                         ...          ...   \n",
       "55196 2019-04-07 19:06:00+00:00  Walt Disney   \n",
       "55197 2019-04-07 16:00:00+00:00  Walt Disney   \n",
       "55198 2019-04-06 19:00:00+00:00  Walt Disney   \n",
       "55199 2019-04-06 18:00:01+00:00  Walt Disney   \n",
       "55200 2019-04-06 17:00:00+00:00  Walt Disney   \n",
       "\n",
       "                                                     url  \\\n",
       "0      https://twitter.com/3M/status/1559609719840440320   \n",
       "1      https://twitter.com/3M/status/1559596870866984963   \n",
       "2      https://twitter.com/3M/status/1559586957969293312   \n",
       "3      https://twitter.com/3M/status/1559582761865846785   \n",
       "4      https://twitter.com/3M/status/1559287617908244482   \n",
       "...                                                  ...   \n",
       "55196  https://twitter.com/DisneyStudios/status/11149...   \n",
       "55197  https://twitter.com/DisneyStudios/status/11149...   \n",
       "55198  https://twitter.com/DisneyStudios/status/11146...   \n",
       "55199  https://twitter.com/DisneyStudios/status/11145...   \n",
       "55200  https://twitter.com/DisneyStudios/status/11145...   \n",
       "\n",
       "                                                  tweets re_tweets likes  \\\n",
       "0      b'@bob0pearls Hello - We are sorry to hear of ...         0     0   \n",
       "1      b'To help increase visibility and safety, this...         0    10   \n",
       "2      b'@__deeannaa Hello - We are sorry to hear of ...         0     0   \n",
       "3      b'@DeptofRage Hello - We are sorry to hear of ...         0     0   \n",
       "4      b'@thicciceberg Hello - We are sorry to hear o...         0     2   \n",
       "...                                                  ...       ...   ...   \n",
       "55196  b'In Dreamland, everything is possible. See #D...       104   937   \n",
       "55197  b'Celebrate 10 years of @Disneynature in advan...       100   734   \n",
       "55198  b'See the #1 movie in the world, in theaters n...        51   522   \n",
       "55199  b'There\\xe2\\x80\\x99s no one quite like Steve. ...       207  1340   \n",
       "55200  b'Have you met the newest performer? See #Dumb...        84   882   \n",
       "\n",
       "                        id  \n",
       "0      1559609719840440320  \n",
       "1      1559596870866984963  \n",
       "2      1559586957969293312  \n",
       "3      1559582761865846785  \n",
       "4      1559287617908244482  \n",
       "...                    ...  \n",
       "55196  1114967577883762691  \n",
       "55197  1114920771753844736  \n",
       "55198  1114603682195095553  \n",
       "55199  1114588585485918208  \n",
       "55200  1114573481432084482  \n",
       "\n",
       "[55201 rows x 7 columns]"
      ]
     },
     "execution_count": 8,
     "metadata": {},
     "output_type": "execute_result"
    }
   ],
   "source": [
    "allData_df = pd.concat(allData_list).reset_index(drop=True)\n",
    "allData_df"
   ]
  },
  {
   "cell_type": "code",
   "execution_count": 9,
   "id": "1c95d9f7",
   "metadata": {},
   "outputs": [
    {
     "data": {
      "text/plain": [
       "b'@bob0pearls Hello - We are sorry to hear of the trouble! Please connect with our Command Brand product support team\\xe2\\x80\\xa6 https://t.co/9AhLbxI8ut'"
      ]
     },
     "execution_count": 9,
     "metadata": {},
     "output_type": "execute_result"
    }
   ],
   "source": [
    "allData_df['tweets'][0]"
   ]
  },
  {
   "cell_type": "code",
   "execution_count": 10,
   "id": "a1f08bd7",
   "metadata": {},
   "outputs": [
    {
     "name": "stderr",
     "output_type": "stream",
     "text": [
      "/opt/anaconda3/lib/python3.7/site-packages/ipykernel_launcher.py:1: FutureWarning: Treating datetime data as categorical rather than numeric in `.describe` is deprecated and will be removed in a future version of pandas. Specify `datetime_is_numeric=True` to silence this warning and adopt the future behavior now.\n",
      "  \"\"\"Entry point for launching an IPython kernel.\n"
     ]
    },
    {
     "data": {
      "text/html": [
       "<div>\n",
       "<style scoped>\n",
       "    .dataframe tbody tr th:only-of-type {\n",
       "        vertical-align: middle;\n",
       "    }\n",
       "\n",
       "    .dataframe tbody tr th {\n",
       "        vertical-align: top;\n",
       "    }\n",
       "\n",
       "    .dataframe thead th {\n",
       "        text-align: right;\n",
       "    }\n",
       "</style>\n",
       "<table border=\"1\" class=\"dataframe\">\n",
       "  <thead>\n",
       "    <tr style=\"text-align: right;\">\n",
       "      <th></th>\n",
       "      <th>created_at</th>\n",
       "      <th>company</th>\n",
       "      <th>url</th>\n",
       "      <th>tweets</th>\n",
       "      <th>re_tweets</th>\n",
       "      <th>likes</th>\n",
       "      <th>id</th>\n",
       "    </tr>\n",
       "  </thead>\n",
       "  <tbody>\n",
       "    <tr>\n",
       "      <th>count</th>\n",
       "      <td>55201</td>\n",
       "      <td>55201</td>\n",
       "      <td>55201</td>\n",
       "      <td>55201</td>\n",
       "      <td>55201.0</td>\n",
       "      <td>55201.0</td>\n",
       "      <td>55201</td>\n",
       "    </tr>\n",
       "    <tr>\n",
       "      <th>unique</th>\n",
       "      <td>54771</td>\n",
       "      <td>33</td>\n",
       "      <td>55201</td>\n",
       "      <td>55062</td>\n",
       "      <td>1020.0</td>\n",
       "      <td>2038.0</td>\n",
       "      <td>55201</td>\n",
       "    </tr>\n",
       "    <tr>\n",
       "      <th>top</th>\n",
       "      <td>2022-08-08 14:18:14+00:00</td>\n",
       "      <td>Goldman Sachs</td>\n",
       "      <td>https://twitter.com/3M/status/1559609719840440320</td>\n",
       "      <td>b'Here are 5 ways Amgen supports the environme...</td>\n",
       "      <td>0.0</td>\n",
       "      <td>0.0</td>\n",
       "      <td>1559609719840440320</td>\n",
       "    </tr>\n",
       "    <tr>\n",
       "      <th>freq</th>\n",
       "      <td>4</td>\n",
       "      <td>3156</td>\n",
       "      <td>1</td>\n",
       "      <td>10</td>\n",
       "      <td>5572.0</td>\n",
       "      <td>12178.0</td>\n",
       "      <td>1</td>\n",
       "    </tr>\n",
       "    <tr>\n",
       "      <th>first</th>\n",
       "      <td>2012-05-17 17:22:38+00:00</td>\n",
       "      <td>NaN</td>\n",
       "      <td>NaN</td>\n",
       "      <td>NaN</td>\n",
       "      <td>NaN</td>\n",
       "      <td>NaN</td>\n",
       "      <td>NaN</td>\n",
       "    </tr>\n",
       "    <tr>\n",
       "      <th>last</th>\n",
       "      <td>2022-08-17 01:15:16+00:00</td>\n",
       "      <td>NaN</td>\n",
       "      <td>NaN</td>\n",
       "      <td>NaN</td>\n",
       "      <td>NaN</td>\n",
       "      <td>NaN</td>\n",
       "      <td>NaN</td>\n",
       "    </tr>\n",
       "  </tbody>\n",
       "</table>\n",
       "</div>"
      ],
      "text/plain": [
       "                       created_at        company  \\\n",
       "count                       55201          55201   \n",
       "unique                      54771             33   \n",
       "top     2022-08-08 14:18:14+00:00  Goldman Sachs   \n",
       "freq                            4           3156   \n",
       "first   2012-05-17 17:22:38+00:00            NaN   \n",
       "last    2022-08-17 01:15:16+00:00            NaN   \n",
       "\n",
       "                                                      url  \\\n",
       "count                                               55201   \n",
       "unique                                              55201   \n",
       "top     https://twitter.com/3M/status/1559609719840440320   \n",
       "freq                                                    1   \n",
       "first                                                 NaN   \n",
       "last                                                  NaN   \n",
       "\n",
       "                                                   tweets  re_tweets    likes  \\\n",
       "count                                               55201    55201.0  55201.0   \n",
       "unique                                              55062     1020.0   2038.0   \n",
       "top     b'Here are 5 ways Amgen supports the environme...        0.0      0.0   \n",
       "freq                                                   10     5572.0  12178.0   \n",
       "first                                                 NaN        NaN      NaN   \n",
       "last                                                  NaN        NaN      NaN   \n",
       "\n",
       "                         id  \n",
       "count                 55201  \n",
       "unique                55201  \n",
       "top     1559609719840440320  \n",
       "freq                      1  \n",
       "first                   NaN  \n",
       "last                    NaN  "
      ]
     },
     "execution_count": 10,
     "metadata": {},
     "output_type": "execute_result"
    }
   ],
   "source": [
    "allData_df.describe()"
   ]
  },
  {
   "cell_type": "code",
   "execution_count": 11,
   "id": "35d3fa96",
   "metadata": {},
   "outputs": [],
   "source": [
    "# allData_df.to_pickle(\"Merge_data.pkl\")"
   ]
  },
  {
   "cell_type": "code",
   "execution_count": 4,
   "id": "05ae4167",
   "metadata": {},
   "outputs": [],
   "source": [
    "start_date = \"2022-04-15\"\n",
    "start_date = datetime.datetime.strptime(start_date, \"%Y-%m-%d\")\n",
    "end_date = \"2022-07-15\"\n",
    "end_date = datetime.datetime.strptime(end_date, \"%Y-%m-%d\")\n",
    "\n",
    "# Right way!\n",
    "start_date = start_date.replace(tzinfo=timezone('UTC'))\n",
    "end_date = end_date.replace(tzinfo=timezone('UTC'))"
   ]
  },
  {
   "cell_type": "code",
   "execution_count": 13,
   "id": "2c830dab",
   "metadata": {},
   "outputs": [
    {
     "name": "stdout",
     "output_type": "stream",
     "text": [
      "2022-05-01 00:00:00+00:00\n",
      "2022-07-01 00:00:00+00:00\n"
     ]
    }
   ],
   "source": [
    "print(start_date)\n",
    "print(end_date)"
   ]
  },
  {
   "cell_type": "code",
   "execution_count": 15,
   "id": "ba776d33",
   "metadata": {},
   "outputs": [
    {
     "data": {
      "text/html": [
       "<div>\n",
       "<style scoped>\n",
       "    .dataframe tbody tr th:only-of-type {\n",
       "        vertical-align: middle;\n",
       "    }\n",
       "\n",
       "    .dataframe tbody tr th {\n",
       "        vertical-align: top;\n",
       "    }\n",
       "\n",
       "    .dataframe thead th {\n",
       "        text-align: right;\n",
       "    }\n",
       "</style>\n",
       "<table border=\"1\" class=\"dataframe\">\n",
       "  <thead>\n",
       "    <tr style=\"text-align: right;\">\n",
       "      <th></th>\n",
       "      <th>created_at</th>\n",
       "      <th>company</th>\n",
       "      <th>url</th>\n",
       "      <th>tweets</th>\n",
       "      <th>re_tweets</th>\n",
       "      <th>likes</th>\n",
       "      <th>id</th>\n",
       "    </tr>\n",
       "  </thead>\n",
       "  <tbody>\n",
       "    <tr>\n",
       "      <th>0</th>\n",
       "      <td>2022-05-01 12:00:47+00:00</td>\n",
       "      <td>Caterpillar</td>\n",
       "      <td>https://twitter.com/CaterpillarInc/status/1520...</td>\n",
       "      <td>b'Find out how our customized operator trainin...</td>\n",
       "      <td>2</td>\n",
       "      <td>33</td>\n",
       "      <td>1520734977914200064</td>\n",
       "    </tr>\n",
       "    <tr>\n",
       "      <th>1</th>\n",
       "      <td>2022-05-01 12:08:13+00:00</td>\n",
       "      <td>Cisco Systems</td>\n",
       "      <td>https://twitter.com/Cisco/status/1520736848938...</td>\n",
       "      <td>b\"While the day for when we'll have a powerful...</td>\n",
       "      <td>6</td>\n",
       "      <td>24</td>\n",
       "      <td>1520736848938688513</td>\n",
       "    </tr>\n",
       "    <tr>\n",
       "      <th>2</th>\n",
       "      <td>2022-05-01 13:53:45+00:00</td>\n",
       "      <td>Nike</td>\n",
       "      <td>https://twitter.com/Nike/status/15207634062355...</td>\n",
       "      <td>b'It was never about what she got from basketb...</td>\n",
       "      <td>2206</td>\n",
       "      <td>7958</td>\n",
       "      <td>1520763406235541504</td>\n",
       "    </tr>\n",
       "    <tr>\n",
       "      <th>3</th>\n",
       "      <td>2022-05-01 15:00:01+00:00</td>\n",
       "      <td>Verizon</td>\n",
       "      <td>https://twitter.com/verizon/status/15207800846...</td>\n",
       "      <td>b'When the pandemic hit, Principal Akbar Cook\\...</td>\n",
       "      <td>3</td>\n",
       "      <td>23</td>\n",
       "      <td>1520780084658929664</td>\n",
       "    </tr>\n",
       "    <tr>\n",
       "      <th>4</th>\n",
       "      <td>2022-05-01 15:00:25+00:00</td>\n",
       "      <td>Salesforce</td>\n",
       "      <td>https://twitter.com/Salesforce/status/15207801...</td>\n",
       "      <td>b'Is it time to ditch the resume?\\n\\nAs an emp...</td>\n",
       "      <td>10</td>\n",
       "      <td>29</td>\n",
       "      <td>1520780184655478784</td>\n",
       "    </tr>\n",
       "    <tr>\n",
       "      <th>...</th>\n",
       "      <td>...</td>\n",
       "      <td>...</td>\n",
       "      <td>...</td>\n",
       "      <td>...</td>\n",
       "      <td>...</td>\n",
       "      <td>...</td>\n",
       "      <td>...</td>\n",
       "    </tr>\n",
       "    <tr>\n",
       "      <th>3083</th>\n",
       "      <td>2022-06-30 23:00:31+00:00</td>\n",
       "      <td>The Home Depot</td>\n",
       "      <td>https://twitter.com/HomeDepot/status/154264427...</td>\n",
       "      <td>b'After getting their hands a little dirty, cr...</td>\n",
       "      <td>8</td>\n",
       "      <td>38</td>\n",
       "      <td>1542644277687320576</td>\n",
       "    </tr>\n",
       "    <tr>\n",
       "      <th>3084</th>\n",
       "      <td>2022-06-30 23:08:11+00:00</td>\n",
       "      <td>Intel</td>\n",
       "      <td>https://twitter.com/intel/status/1542646206144...</td>\n",
       "      <td>b\"@magius2013 @Alienware https://t.co/VYF2Vq76...</td>\n",
       "      <td>0</td>\n",
       "      <td>2</td>\n",
       "      <td>1542646206144208897</td>\n",
       "    </tr>\n",
       "    <tr>\n",
       "      <th>3085</th>\n",
       "      <td>2022-06-30 23:26:35+00:00</td>\n",
       "      <td>Walt Disney</td>\n",
       "      <td>https://twitter.com/DisneyStudios/status/15426...</td>\n",
       "      <td>b\"RT @Disney_Insiders: It's time to rise toget...</td>\n",
       "      <td>11</td>\n",
       "      <td>0</td>\n",
       "      <td>1542650836899155969</td>\n",
       "    </tr>\n",
       "    <tr>\n",
       "      <th>3086</th>\n",
       "      <td>2022-06-30 23:31:00+00:00</td>\n",
       "      <td>American Express</td>\n",
       "      <td>https://twitter.com/AmericanExpress/status/154...</td>\n",
       "      <td>b'@odieloveslattes Hi Danae, so sorry to hear ...</td>\n",
       "      <td>0</td>\n",
       "      <td>0</td>\n",
       "      <td>1542651949870465026</td>\n",
       "    </tr>\n",
       "    <tr>\n",
       "      <th>3087</th>\n",
       "      <td>2022-06-30 23:37:39+00:00</td>\n",
       "      <td>Microsoft</td>\n",
       "      <td>https://twitter.com/Microsoft/status/154265362...</td>\n",
       "      <td>b'RT @MicrosoftLife: \\xe2\\x80\\x9cWe have far m...</td>\n",
       "      <td>7</td>\n",
       "      <td>0</td>\n",
       "      <td>1542653621191561218</td>\n",
       "    </tr>\n",
       "  </tbody>\n",
       "</table>\n",
       "<p>3088 rows × 7 columns</p>\n",
       "</div>"
      ],
      "text/plain": [
       "                    created_at           company  \\\n",
       "0    2022-05-01 12:00:47+00:00       Caterpillar   \n",
       "1    2022-05-01 12:08:13+00:00     Cisco Systems   \n",
       "2    2022-05-01 13:53:45+00:00              Nike   \n",
       "3    2022-05-01 15:00:01+00:00           Verizon   \n",
       "4    2022-05-01 15:00:25+00:00        Salesforce   \n",
       "...                        ...               ...   \n",
       "3083 2022-06-30 23:00:31+00:00    The Home Depot   \n",
       "3084 2022-06-30 23:08:11+00:00             Intel   \n",
       "3085 2022-06-30 23:26:35+00:00       Walt Disney   \n",
       "3086 2022-06-30 23:31:00+00:00  American Express   \n",
       "3087 2022-06-30 23:37:39+00:00         Microsoft   \n",
       "\n",
       "                                                    url  \\\n",
       "0     https://twitter.com/CaterpillarInc/status/1520...   \n",
       "1     https://twitter.com/Cisco/status/1520736848938...   \n",
       "2     https://twitter.com/Nike/status/15207634062355...   \n",
       "3     https://twitter.com/verizon/status/15207800846...   \n",
       "4     https://twitter.com/Salesforce/status/15207801...   \n",
       "...                                                 ...   \n",
       "3083  https://twitter.com/HomeDepot/status/154264427...   \n",
       "3084  https://twitter.com/intel/status/1542646206144...   \n",
       "3085  https://twitter.com/DisneyStudios/status/15426...   \n",
       "3086  https://twitter.com/AmericanExpress/status/154...   \n",
       "3087  https://twitter.com/Microsoft/status/154265362...   \n",
       "\n",
       "                                                 tweets re_tweets likes  \\\n",
       "0     b'Find out how our customized operator trainin...         2    33   \n",
       "1     b\"While the day for when we'll have a powerful...         6    24   \n",
       "2     b'It was never about what she got from basketb...      2206  7958   \n",
       "3     b'When the pandemic hit, Principal Akbar Cook\\...         3    23   \n",
       "4     b'Is it time to ditch the resume?\\n\\nAs an emp...        10    29   \n",
       "...                                                 ...       ...   ...   \n",
       "3083  b'After getting their hands a little dirty, cr...         8    38   \n",
       "3084  b\"@magius2013 @Alienware https://t.co/VYF2Vq76...         0     2   \n",
       "3085  b\"RT @Disney_Insiders: It's time to rise toget...        11     0   \n",
       "3086  b'@odieloveslattes Hi Danae, so sorry to hear ...         0     0   \n",
       "3087  b'RT @MicrosoftLife: \\xe2\\x80\\x9cWe have far m...         7     0   \n",
       "\n",
       "                       id  \n",
       "0     1520734977914200064  \n",
       "1     1520736848938688513  \n",
       "2     1520763406235541504  \n",
       "3     1520780084658929664  \n",
       "4     1520780184655478784  \n",
       "...                   ...  \n",
       "3083  1542644277687320576  \n",
       "3084  1542646206144208897  \n",
       "3085  1542650836899155969  \n",
       "3086  1542651949870465026  \n",
       "3087  1542653621191561218  \n",
       "\n",
       "[3088 rows x 7 columns]"
      ]
     },
     "execution_count": 15,
     "metadata": {},
     "output_type": "execute_result"
    }
   ],
   "source": [
    "prune_tweets_data = allData_df.query(' created_at >= @start_date and created_at <= @end_date').reset_index(drop=True)\n",
    "prune_tweets_data = prune_tweets_data.sort_values(by=\"created_at\").reset_index(drop=True)\n",
    "prune_tweets_data"
   ]
  },
  {
   "cell_type": "code",
   "execution_count": null,
   "id": "a7cc10f3",
   "metadata": {},
   "outputs": [],
   "source": [
    "# prune_tweets_data.to_pickle(\"MayToJune_TweetsData.pkl\")"
   ]
  },
  {
   "cell_type": "markdown",
   "id": "8cbc91da",
   "metadata": {},
   "source": [
    "# 2. Preprocess"
   ]
  },
  {
   "cell_type": "markdown",
   "id": "f001e654",
   "metadata": {},
   "source": [
    "## I. removal of stop-words and punctuation<br>\n",
    "First thing first. To make natural language understandable for machines.\n",
    "So here are four things to do:\n",
    "\n",
    "1. load data\n",
    "2. preprocess the sentences\n",
    "\n",
    "refer: http://www.lrec-conf.org/proceedings/lrec2014/pdf/292_Paper.pdf"
   ]
  },
  {
   "cell_type": "code",
   "execution_count": null,
   "id": "abc01910",
   "metadata": {},
   "outputs": [],
   "source": [
    "# pip install nltk"
   ]
  },
  {
   "cell_type": "code",
   "execution_count": 16,
   "id": "58fbae35",
   "metadata": {},
   "outputs": [],
   "source": [
    "# 如果你想往前移再往前拿\n",
    "from nltk.corpus import stopwords\n",
    "import re"
   ]
  },
  {
   "cell_type": "code",
   "execution_count": 17,
   "id": "e48c8206",
   "metadata": {},
   "outputs": [
    {
     "name": "stderr",
     "output_type": "stream",
     "text": [
      "[nltk_data] Downloading package stopwords to /Users/lala/nltk_data...\n",
      "[nltk_data]   Package stopwords is already up-to-date!\n"
     ]
    },
    {
     "data": {
      "text/plain": [
       "True"
      ]
     },
     "execution_count": 17,
     "metadata": {},
     "output_type": "execute_result"
    }
   ],
   "source": [
    "import nltk\n",
    "nltk.download('stopwords')"
   ]
  },
  {
   "cell_type": "code",
   "execution_count": 18,
   "id": "f31814cb",
   "metadata": {},
   "outputs": [],
   "source": [
    "EngStopWords = set(stopwords.words('english'))"
   ]
  },
  {
   "cell_type": "code",
   "execution_count": 19,
   "id": "73da4031",
   "metadata": {},
   "outputs": [],
   "source": [
    "def preprocess(text): \n",
    "    text = re.sub(r'[^\\w\\s]',' ',text)\n",
    "    \n",
    "    tokens = []\n",
    "    for word in text.split():\n",
    "        if word in EngStopWords:\n",
    "            pass #如果詞彙是個英文的停用詞的話，就略過不處理。\n",
    "        else:\n",
    "            tokens.append(word)\n",
    "    return tokens\n"
   ]
  },
  {
   "cell_type": "code",
   "execution_count": 20,
   "id": "1af60573",
   "metadata": {
    "scrolled": true
   },
   "outputs": [
    {
     "data": {
      "text/plain": [
       "b'Find out how our customized operator training is helping the team at Morgan Corp. improve productivity, enhance saf\\xe2\\x80\\xa6 https://t.co/uphkCfP3nq'"
      ]
     },
     "execution_count": 20,
     "metadata": {},
     "output_type": "execute_result"
    }
   ],
   "source": [
    "tryyy = prune_tweets_data['tweets'][0]\n",
    "# preprocess(tryyy)\n",
    "tryyy"
   ]
  },
  {
   "cell_type": "code",
   "execution_count": 21,
   "id": "2810d277",
   "metadata": {},
   "outputs": [],
   "source": [
    "#start replaceTwoOrMore\n",
    "def replaceTwoOrMore(s):\n",
    "    #look for 2 or more repetitions of character\n",
    "    pattern = re.compile(r\"(.)\\1{1,}\", re.DOTALL) \n",
    "    return pattern.sub(r\"\\1\\1\", s)\n",
    "\n",
    "#start process_tweet\n",
    "def processTweet(tweet):\n",
    "    # process the tweets\n",
    "    \n",
    "    #Convert to lower case\n",
    "    tweet = tweet.lower()\n",
    "    #Convert www.* or https?://* to URL\n",
    "    tweet = re.sub('((www\\.[^\\s]+)|(https?://[^\\s]+))','URL',tweet)\n",
    "    #Convert @username to AT_USER\n",
    "    tweet = re.sub('@[^\\s]+','AT_USER',tweet)    \n",
    "    #Remove additional white spaces\n",
    "    tweet = re.sub('[\\s]+', ' ', tweet)\n",
    "    #Replace #word with word\n",
    "    tweet = re.sub(r'#([^\\s]+)', r'\\1', tweet)\n",
    "    #trim\n",
    "    tweet = tweet.strip('\\'\"')\n",
    "    return tweet\n",
    "\n",
    "#start getStopWordList\n",
    "def getStopWordList(stopWordListFileName):\n",
    "    #read the stopwords\n",
    "    stopWords = []\n",
    "    stopWords.append('AT_USER')\n",
    "    stopWords.append('URL')\n",
    "\n",
    "    fp = open(stopWordListFileName, 'r')\n",
    "    line = fp.readline()\n",
    "    while line:\n",
    "        word = line.strip()\n",
    "        stopWords.append(word)\n",
    "        line = fp.readline()\n",
    "    fp.close()\n",
    "    return stopWords\n",
    "\n",
    "#start getfeatureVector\n",
    "def getFeatureVector(tweet, stopWords):\n",
    "    featureVector = []  \n",
    "    words = tweet.split()\n",
    "    for w in words:\n",
    "        #replace two or more with two occurrences \n",
    "        w = replaceTwoOrMore(w) \n",
    "        #strip punctuation\n",
    "        w = w.strip('\\'\"?,.')\n",
    "        #check if it consists of only words\n",
    "        val = re.search(r\"^[a-zA-Z][a-zA-Z0-9]*[a-zA-Z]+[a-zA-Z0-9]*$\", w)\n",
    "        #ignore if it is a stopWord\n",
    "        if(w in stopWords or val is None):\n",
    "            continue\n",
    "        else:\n",
    "            featureVector.append(w.lower())\n",
    "    return featureVector   \n",
    "\n",
    "#start extract_features\n",
    "def extract_features(tweet):\n",
    "    tweet_words = set(tweet)\n",
    "    features = {}\n",
    "    for word in featureList:\n",
    "        features['contains(%s)' % word] = (word in tweet_words)\n",
    "    return \n"
   ]
  },
  {
   "cell_type": "code",
   "execution_count": 22,
   "id": "358a6869",
   "metadata": {},
   "outputs": [],
   "source": [
    "count = 0;\n",
    "featureList = []\n",
    "tweets = []"
   ]
  },
  {
   "cell_type": "code",
   "execution_count": null,
   "id": "40ad800a",
   "metadata": {},
   "outputs": [],
   "source": [
    "tryyy"
   ]
  },
  {
   "cell_type": "code",
   "execution_count": 24,
   "id": "5d305847",
   "metadata": {},
   "outputs": [],
   "source": [
    "tryyy = str(tryyy)\n",
    "tweet = tryyy\n",
    "processedTweet = processTweet(tweet)\n",
    "featureVector = getFeatureVector(processedTweet, EngStopWords)\n",
    "# featureList.extend(featureVector)\n",
    "# tweets.append((featureVector, sentiment))"
   ]
  },
  {
   "cell_type": "code",
   "execution_count": 25,
   "id": "d0821d4d",
   "metadata": {},
   "outputs": [
    {
     "name": "stdout",
     "output_type": "stream",
     "text": [
      "['customized', 'operator', 'training', 'helping', 'team', 'morgan', 'corp', 'improve', 'productivity', 'enhance', 'url']\n",
      "[]\n"
     ]
    }
   ],
   "source": [
    "print(featureList)\n",
    "print(tweets)"
   ]
  },
  {
   "cell_type": "code",
   "execution_count": 71,
   "id": "11606667",
   "metadata": {},
   "outputs": [
    {
     "data": {
      "text/html": [
       "<div>\n",
       "<style scoped>\n",
       "    .dataframe tbody tr th:only-of-type {\n",
       "        vertical-align: middle;\n",
       "    }\n",
       "\n",
       "    .dataframe tbody tr th {\n",
       "        vertical-align: top;\n",
       "    }\n",
       "\n",
       "    .dataframe thead th {\n",
       "        text-align: right;\n",
       "    }\n",
       "</style>\n",
       "<table border=\"1\" class=\"dataframe\">\n",
       "  <thead>\n",
       "    <tr style=\"text-align: right;\">\n",
       "      <th></th>\n",
       "      <th>created_at</th>\n",
       "      <th>company</th>\n",
       "      <th>url</th>\n",
       "      <th>tweets</th>\n",
       "      <th>re_tweets</th>\n",
       "      <th>likes</th>\n",
       "      <th>id</th>\n",
       "    </tr>\n",
       "  </thead>\n",
       "  <tbody>\n",
       "    <tr>\n",
       "      <th>0</th>\n",
       "      <td>2022-05-01 12:00:47+00:00</td>\n",
       "      <td>Caterpillar</td>\n",
       "      <td>https://twitter.com/CaterpillarInc/status/1520...</td>\n",
       "      <td>b'Find out how our customized operator trainin...</td>\n",
       "      <td>2</td>\n",
       "      <td>33</td>\n",
       "      <td>1520734977914200064</td>\n",
       "    </tr>\n",
       "    <tr>\n",
       "      <th>1</th>\n",
       "      <td>2022-05-01 12:08:13+00:00</td>\n",
       "      <td>Cisco Systems</td>\n",
       "      <td>https://twitter.com/Cisco/status/1520736848938...</td>\n",
       "      <td>b\"While the day for when we'll have a powerful...</td>\n",
       "      <td>6</td>\n",
       "      <td>24</td>\n",
       "      <td>1520736848938688513</td>\n",
       "    </tr>\n",
       "    <tr>\n",
       "      <th>2</th>\n",
       "      <td>2022-05-01 13:53:45+00:00</td>\n",
       "      <td>Nike</td>\n",
       "      <td>https://twitter.com/Nike/status/15207634062355...</td>\n",
       "      <td>b'It was never about what she got from basketb...</td>\n",
       "      <td>2206</td>\n",
       "      <td>7958</td>\n",
       "      <td>1520763406235541504</td>\n",
       "    </tr>\n",
       "    <tr>\n",
       "      <th>3</th>\n",
       "      <td>2022-05-01 15:00:01+00:00</td>\n",
       "      <td>Verizon</td>\n",
       "      <td>https://twitter.com/verizon/status/15207800846...</td>\n",
       "      <td>b'When the pandemic hit, Principal Akbar Cook\\...</td>\n",
       "      <td>3</td>\n",
       "      <td>23</td>\n",
       "      <td>1520780084658929664</td>\n",
       "    </tr>\n",
       "    <tr>\n",
       "      <th>4</th>\n",
       "      <td>2022-05-01 15:00:25+00:00</td>\n",
       "      <td>Salesforce</td>\n",
       "      <td>https://twitter.com/Salesforce/status/15207801...</td>\n",
       "      <td>b'Is it time to ditch the resume?\\n\\nAs an emp...</td>\n",
       "      <td>10</td>\n",
       "      <td>29</td>\n",
       "      <td>1520780184655478784</td>\n",
       "    </tr>\n",
       "  </tbody>\n",
       "</table>\n",
       "</div>"
      ],
      "text/plain": [
       "                 created_at        company  \\\n",
       "0 2022-05-01 12:00:47+00:00    Caterpillar   \n",
       "1 2022-05-01 12:08:13+00:00  Cisco Systems   \n",
       "2 2022-05-01 13:53:45+00:00           Nike   \n",
       "3 2022-05-01 15:00:01+00:00        Verizon   \n",
       "4 2022-05-01 15:00:25+00:00     Salesforce   \n",
       "\n",
       "                                                 url  \\\n",
       "0  https://twitter.com/CaterpillarInc/status/1520...   \n",
       "1  https://twitter.com/Cisco/status/1520736848938...   \n",
       "2  https://twitter.com/Nike/status/15207634062355...   \n",
       "3  https://twitter.com/verizon/status/15207800846...   \n",
       "4  https://twitter.com/Salesforce/status/15207801...   \n",
       "\n",
       "                                              tweets re_tweets likes  \\\n",
       "0  b'Find out how our customized operator trainin...         2    33   \n",
       "1  b\"While the day for when we'll have a powerful...         6    24   \n",
       "2  b'It was never about what she got from basketb...      2206  7958   \n",
       "3  b'When the pandemic hit, Principal Akbar Cook\\...         3    23   \n",
       "4  b'Is it time to ditch the resume?\\n\\nAs an emp...        10    29   \n",
       "\n",
       "                    id  \n",
       "0  1520734977914200064  \n",
       "1  1520736848938688513  \n",
       "2  1520763406235541504  \n",
       "3  1520780084658929664  \n",
       "4  1520780184655478784  "
      ]
     },
     "execution_count": 71,
     "metadata": {},
     "output_type": "execute_result"
    }
   ],
   "source": [
    "prune_tweets_data.head()"
   ]
  },
  {
   "cell_type": "code",
   "execution_count": 72,
   "id": "5b41e528",
   "metadata": {},
   "outputs": [
    {
     "data": {
      "text/html": [
       "<div>\n",
       "<style scoped>\n",
       "    .dataframe tbody tr th:only-of-type {\n",
       "        vertical-align: middle;\n",
       "    }\n",
       "\n",
       "    .dataframe tbody tr th {\n",
       "        vertical-align: top;\n",
       "    }\n",
       "\n",
       "    .dataframe thead th {\n",
       "        text-align: right;\n",
       "    }\n",
       "</style>\n",
       "<table border=\"1\" class=\"dataframe\">\n",
       "  <thead>\n",
       "    <tr style=\"text-align: right;\">\n",
       "      <th></th>\n",
       "      <th>tweets</th>\n",
       "      <th>date</th>\n",
       "    </tr>\n",
       "  </thead>\n",
       "  <tbody>\n",
       "    <tr>\n",
       "      <th>0</th>\n",
       "      <td>b'Find out how our customized operator trainin...</td>\n",
       "      <td>2022-05-01 12:00:47</td>\n",
       "    </tr>\n",
       "    <tr>\n",
       "      <th>1</th>\n",
       "      <td>b\"While the day for when we'll have a powerful...</td>\n",
       "      <td>2022-05-01 12:08:13</td>\n",
       "    </tr>\n",
       "    <tr>\n",
       "      <th>2</th>\n",
       "      <td>b'It was never about what she got from basketb...</td>\n",
       "      <td>2022-05-01 13:53:45</td>\n",
       "    </tr>\n",
       "    <tr>\n",
       "      <th>3</th>\n",
       "      <td>b'When the pandemic hit, Principal Akbar Cook\\...</td>\n",
       "      <td>2022-05-01 15:00:01</td>\n",
       "    </tr>\n",
       "    <tr>\n",
       "      <th>4</th>\n",
       "      <td>b'Is it time to ditch the resume?\\n\\nAs an emp...</td>\n",
       "      <td>2022-05-01 15:00:25</td>\n",
       "    </tr>\n",
       "  </tbody>\n",
       "</table>\n",
       "</div>"
      ],
      "text/plain": [
       "                                              tweets                date\n",
       "0  b'Find out how our customized operator trainin... 2022-05-01 12:00:47\n",
       "1  b\"While the day for when we'll have a powerful... 2022-05-01 12:08:13\n",
       "2  b'It was never about what she got from basketb... 2022-05-01 13:53:45\n",
       "3  b'When the pandemic hit, Principal Akbar Cook\\... 2022-05-01 15:00:01\n",
       "4  b'Is it time to ditch the resume?\\n\\nAs an emp... 2022-05-01 15:00:25"
      ]
     },
     "execution_count": 72,
     "metadata": {},
     "output_type": "execute_result"
    }
   ],
   "source": [
    "distil_df = pd.DataFrame(prune_tweets_data, columns=['created_at','tweets'])\n",
    "# 轉換created_at\n",
    "distil_df ['created_at'] = distil_df ['created_at'].astype('str')\n",
    "distil_df['date'] = pd.to_datetime( distil_df['created_at'], format=\"%Y-%m-%d %H:%M:%S+00:00\")\n",
    "distil_df = distil_df.sort_values(by=['date'], ignore_index = True)\n",
    "\n",
    "# 轉換tweets\n",
    "distil_df ['tweets'] = distil_df ['tweets'].astype('str')\n",
    "\n",
    "del distil_df ['created_at'] \n",
    "distil_df.head()"
   ]
  },
  {
   "cell_type": "code",
   "execution_count": 73,
   "id": "695d71f3",
   "metadata": {},
   "outputs": [
    {
     "name": "stderr",
     "output_type": "stream",
     "text": [
      "/opt/anaconda3/lib/python3.7/site-packages/ipykernel_launcher.py:1: FutureWarning:\n",
      "\n",
      "Treating datetime data as categorical rather than numeric in `.describe` is deprecated and will be removed in a future version of pandas. Specify `datetime_is_numeric=True` to silence this warning and adopt the future behavior now.\n",
      "\n"
     ]
    },
    {
     "data": {
      "text/html": [
       "<div>\n",
       "<style scoped>\n",
       "    .dataframe tbody tr th:only-of-type {\n",
       "        vertical-align: middle;\n",
       "    }\n",
       "\n",
       "    .dataframe tbody tr th {\n",
       "        vertical-align: top;\n",
       "    }\n",
       "\n",
       "    .dataframe thead th {\n",
       "        text-align: right;\n",
       "    }\n",
       "</style>\n",
       "<table border=\"1\" class=\"dataframe\">\n",
       "  <thead>\n",
       "    <tr style=\"text-align: right;\">\n",
       "      <th></th>\n",
       "      <th>tweets</th>\n",
       "      <th>date</th>\n",
       "    </tr>\n",
       "  </thead>\n",
       "  <tbody>\n",
       "    <tr>\n",
       "      <th>count</th>\n",
       "      <td>3088</td>\n",
       "      <td>3088</td>\n",
       "    </tr>\n",
       "    <tr>\n",
       "      <th>unique</th>\n",
       "      <td>3067</td>\n",
       "      <td>3046</td>\n",
       "    </tr>\n",
       "    <tr>\n",
       "      <th>top</th>\n",
       "      <td>b'Here are 5 ways Amgen supports the environme...</td>\n",
       "      <td>2022-06-23 14:14:57</td>\n",
       "    </tr>\n",
       "    <tr>\n",
       "      <th>freq</th>\n",
       "      <td>8</td>\n",
       "      <td>3</td>\n",
       "    </tr>\n",
       "    <tr>\n",
       "      <th>first</th>\n",
       "      <td>NaN</td>\n",
       "      <td>2022-05-01 12:00:47</td>\n",
       "    </tr>\n",
       "    <tr>\n",
       "      <th>last</th>\n",
       "      <td>NaN</td>\n",
       "      <td>2022-06-30 23:37:39</td>\n",
       "    </tr>\n",
       "  </tbody>\n",
       "</table>\n",
       "</div>"
      ],
      "text/plain": [
       "                                                   tweets                 date\n",
       "count                                                3088                 3088\n",
       "unique                                               3067                 3046\n",
       "top     b'Here are 5 ways Amgen supports the environme...  2022-06-23 14:14:57\n",
       "freq                                                    8                    3\n",
       "first                                                 NaN  2022-05-01 12:00:47\n",
       "last                                                  NaN  2022-06-30 23:37:39"
      ]
     },
     "execution_count": 73,
     "metadata": {},
     "output_type": "execute_result"
    }
   ],
   "source": [
    "distil_df.describe()"
   ]
  },
  {
   "cell_type": "code",
   "execution_count": 74,
   "id": "9653be2e",
   "metadata": {},
   "outputs": [],
   "source": [
    "def preprocess(text):\n",
    "    tweet = str(text)\n",
    "    processedTweet = processTweet(tweet)\n",
    "    featureVector = getFeatureVector(processedTweet, EngStopWords)\n",
    "    return featureVector "
   ]
  },
  {
   "cell_type": "code",
   "execution_count": 75,
   "id": "319ae45d",
   "metadata": {
    "scrolled": true
   },
   "outputs": [
    {
     "data": {
      "text/plain": [
       "0       b'Find out how our customized operator trainin...\n",
       "1       b\"While the day for when we'll have a powerful...\n",
       "2       b'It was never about what she got from basketb...\n",
       "3       b'When the pandemic hit, Principal Akbar Cook\\...\n",
       "4       b'Is it time to ditch the resume?\\n\\nAs an emp...\n",
       "                              ...                        \n",
       "3083    b'After getting their hands a little dirty, cr...\n",
       "3084    b\"@magius2013 @Alienware https://t.co/VYF2Vq76...\n",
       "3085    b\"RT @Disney_Insiders: It's time to rise toget...\n",
       "3086    b'@odieloveslattes Hi Danae, so sorry to hear ...\n",
       "3087    b'RT @MicrosoftLife: \\xe2\\x80\\x9cWe have far m...\n",
       "Name: tweets, Length: 3088, dtype: object"
      ]
     },
     "execution_count": 75,
     "metadata": {},
     "output_type": "execute_result"
    }
   ],
   "source": [
    "distil_df['tweets']"
   ]
  },
  {
   "cell_type": "code",
   "execution_count": 76,
   "id": "440ebd08",
   "metadata": {},
   "outputs": [
    {
     "data": {
      "text/html": [
       "<div>\n",
       "<style scoped>\n",
       "    .dataframe tbody tr th:only-of-type {\n",
       "        vertical-align: middle;\n",
       "    }\n",
       "\n",
       "    .dataframe tbody tr th {\n",
       "        vertical-align: top;\n",
       "    }\n",
       "\n",
       "    .dataframe thead th {\n",
       "        text-align: right;\n",
       "    }\n",
       "</style>\n",
       "<table border=\"1\" class=\"dataframe\">\n",
       "  <thead>\n",
       "    <tr style=\"text-align: right;\">\n",
       "      <th></th>\n",
       "      <th>date</th>\n",
       "      <th>tweets_processed</th>\n",
       "    </tr>\n",
       "  </thead>\n",
       "  <tbody>\n",
       "    <tr>\n",
       "      <th>0</th>\n",
       "      <td>2022-05-01 12:00:47</td>\n",
       "      <td>[customized, operator, training, helping, team...</td>\n",
       "    </tr>\n",
       "    <tr>\n",
       "      <th>1</th>\n",
       "      <td>2022-05-01 12:08:13</td>\n",
       "      <td>[day, powerful, quantumcomputer, still, tbd, s...</td>\n",
       "    </tr>\n",
       "    <tr>\n",
       "      <th>2</th>\n",
       "      <td>2022-05-01 13:53:45</td>\n",
       "      <td>[never, got, basketball, always, gave, back, g...</td>\n",
       "    </tr>\n",
       "    <tr>\n",
       "      <th>3</th>\n",
       "      <td>2022-05-01 15:00:01</td>\n",
       "      <td>[pandemic, hit, principal, akbar, school, beca...</td>\n",
       "    </tr>\n",
       "    <tr>\n",
       "      <th>4</th>\n",
       "      <td>2022-05-01 15:00:25</td>\n",
       "      <td>[time, ditch, employer, need, question, rethin...</td>\n",
       "    </tr>\n",
       "    <tr>\n",
       "      <th>...</th>\n",
       "      <td>...</td>\n",
       "      <td>...</td>\n",
       "    </tr>\n",
       "    <tr>\n",
       "      <th>3083</th>\n",
       "      <td>2022-06-30 23:00:31</td>\n",
       "      <td>[getting, hands, little, dirty, creators, dyla...</td>\n",
       "    </tr>\n",
       "    <tr>\n",
       "      <th>3084</th>\n",
       "      <td>2022-06-30 23:08:11</td>\n",
       "      <td>[url, july, welcome]</td>\n",
       "    </tr>\n",
       "    <tr>\n",
       "      <th>3085</th>\n",
       "      <td>2022-06-30 23:26:35</td>\n",
       "      <td>[time, rise, talking, director, akin, omotoso,...</td>\n",
       "    </tr>\n",
       "    <tr>\n",
       "      <th>3086</th>\n",
       "      <td>2022-06-30 23:31:00</td>\n",
       "      <td>[hi, danae, sorry, hear, looping, case, help]</td>\n",
       "    </tr>\n",
       "    <tr>\n",
       "      <th>3087</th>\n",
       "      <td>2022-06-30 23:37:39</td>\n",
       "      <td>[far, power, often, much, others, want, us, ma...</td>\n",
       "    </tr>\n",
       "  </tbody>\n",
       "</table>\n",
       "<p>3088 rows × 2 columns</p>\n",
       "</div>"
      ],
      "text/plain": [
       "                    date                                   tweets_processed\n",
       "0    2022-05-01 12:00:47  [customized, operator, training, helping, team...\n",
       "1    2022-05-01 12:08:13  [day, powerful, quantumcomputer, still, tbd, s...\n",
       "2    2022-05-01 13:53:45  [never, got, basketball, always, gave, back, g...\n",
       "3    2022-05-01 15:00:01  [pandemic, hit, principal, akbar, school, beca...\n",
       "4    2022-05-01 15:00:25  [time, ditch, employer, need, question, rethin...\n",
       "...                  ...                                                ...\n",
       "3083 2022-06-30 23:00:31  [getting, hands, little, dirty, creators, dyla...\n",
       "3084 2022-06-30 23:08:11                               [url, july, welcome]\n",
       "3085 2022-06-30 23:26:35  [time, rise, talking, director, akin, omotoso,...\n",
       "3086 2022-06-30 23:31:00      [hi, danae, sorry, hear, looping, case, help]\n",
       "3087 2022-06-30 23:37:39  [far, power, often, much, others, want, us, ma...\n",
       "\n",
       "[3088 rows x 2 columns]"
      ]
     },
     "execution_count": 76,
     "metadata": {},
     "output_type": "execute_result"
    }
   ],
   "source": [
    "distil_df['tweets_processed'] = distil_df.apply(lambda x: preprocess(x['tweets']),axis=1)\n",
    "del distil_df['tweets']\n",
    "distil_df"
   ]
  },
  {
   "cell_type": "markdown",
   "id": "8365ae17",
   "metadata": {},
   "source": [
    "### GPOMS data"
   ]
  },
  {
   "cell_type": "code",
   "execution_count": 50,
   "id": "150a3ef1",
   "metadata": {},
   "outputs": [],
   "source": [
    "def processTweet_G(tweet):\n",
    "\n",
    "    #Convert to lower case\n",
    "    tweet = tweet.lower()\n",
    "    #Convert www.* or https?://* to URL\n",
    "    tweet = re.sub('((www\\.[^\\s]+)|(https?://[^\\s]+))','',tweet)\n",
    "    #Convert @username to AT_USER\n",
    "    tweet = re.sub('@[^\\s]+','',tweet)    \n",
    "    #Remove additional white spaces\n",
    "    tweet = re.sub('[\\s]+', ' ', tweet)\n",
    "    #Replace #word with word\n",
    "    tweet = re.sub(r'#([^\\s]+)', r'\\1', tweet)\n",
    "    #trim\n",
    "    tweet = tweet.strip('\\'\"')\n",
    "    return tweet\n",
    "\n",
    "def preprocess_GPOMS(text):\n",
    "    tweet = str(text)\n",
    "    processedTweet = processTweet_G(tweet)\n",
    "#     featureVector = getFeatureVector(processedTweet, EngStopWords)\n",
    "    return processedTweet"
   ]
  },
  {
   "cell_type": "code",
   "execution_count": 51,
   "id": "653f6d3b",
   "metadata": {},
   "outputs": [
    {
     "data": {
      "text/plain": [
       "\"b'find out how our customized operator training is helping the team at morgan corp. improve productivity, enhance saf\\\\xe2\\\\x80\\\\xa6 URL\""
      ]
     },
     "execution_count": 51,
     "metadata": {},
     "output_type": "execute_result"
    }
   ],
   "source": [
    "GPOMS_df['tweets_processed'][0]"
   ]
  },
  {
   "cell_type": "code",
   "execution_count": 58,
   "id": "a6643b12",
   "metadata": {},
   "outputs": [
    {
     "data": {
      "text/html": [
       "<div>\n",
       "<style scoped>\n",
       "    .dataframe tbody tr th:only-of-type {\n",
       "        vertical-align: middle;\n",
       "    }\n",
       "\n",
       "    .dataframe tbody tr th {\n",
       "        vertical-align: top;\n",
       "    }\n",
       "\n",
       "    .dataframe thead th {\n",
       "        text-align: right;\n",
       "    }\n",
       "</style>\n",
       "<table border=\"1\" class=\"dataframe\">\n",
       "  <thead>\n",
       "    <tr style=\"text-align: right;\">\n",
       "      <th></th>\n",
       "      <th>date</th>\n",
       "      <th>tweet_size</th>\n",
       "    </tr>\n",
       "  </thead>\n",
       "  <tbody>\n",
       "    <tr>\n",
       "      <th>0</th>\n",
       "      <td>2022-05-01 12:00:47</td>\n",
       "      <td>133</td>\n",
       "    </tr>\n",
       "    <tr>\n",
       "      <th>1</th>\n",
       "      <td>2022-05-01 12:08:13</td>\n",
       "      <td>127</td>\n",
       "    </tr>\n",
       "    <tr>\n",
       "      <th>2</th>\n",
       "      <td>2022-05-01 13:53:45</td>\n",
       "      <td>133</td>\n",
       "    </tr>\n",
       "    <tr>\n",
       "      <th>3</th>\n",
       "      <td>2022-05-01 15:00:01</td>\n",
       "      <td>144</td>\n",
       "    </tr>\n",
       "    <tr>\n",
       "      <th>4</th>\n",
       "      <td>2022-05-01 15:00:25</td>\n",
       "      <td>135</td>\n",
       "    </tr>\n",
       "    <tr>\n",
       "      <th>...</th>\n",
       "      <td>...</td>\n",
       "      <td>...</td>\n",
       "    </tr>\n",
       "    <tr>\n",
       "      <th>3083</th>\n",
       "      <td>2022-06-30 23:00:31</td>\n",
       "      <td>141</td>\n",
       "    </tr>\n",
       "    <tr>\n",
       "      <th>3084</th>\n",
       "      <td>2022-06-30 23:08:11</td>\n",
       "      <td>74</td>\n",
       "    </tr>\n",
       "    <tr>\n",
       "      <th>3085</th>\n",
       "      <td>2022-06-30 23:26:35</td>\n",
       "      <td>157</td>\n",
       "    </tr>\n",
       "    <tr>\n",
       "      <th>3086</th>\n",
       "      <td>2022-06-30 23:31:00</td>\n",
       "      <td>90</td>\n",
       "    </tr>\n",
       "    <tr>\n",
       "      <th>3087</th>\n",
       "      <td>2022-06-30 23:37:39</td>\n",
       "      <td>188</td>\n",
       "    </tr>\n",
       "  </tbody>\n",
       "</table>\n",
       "<p>3088 rows × 2 columns</p>\n",
       "</div>"
      ],
      "text/plain": [
       "                    date  tweet_size\n",
       "0    2022-05-01 12:00:47         133\n",
       "1    2022-05-01 12:08:13         127\n",
       "2    2022-05-01 13:53:45         133\n",
       "3    2022-05-01 15:00:01         144\n",
       "4    2022-05-01 15:00:25         135\n",
       "...                  ...         ...\n",
       "3083 2022-06-30 23:00:31         141\n",
       "3084 2022-06-30 23:08:11          74\n",
       "3085 2022-06-30 23:26:35         157\n",
       "3086 2022-06-30 23:31:00          90\n",
       "3087 2022-06-30 23:37:39         188\n",
       "\n",
       "[3088 rows x 2 columns]"
      ]
     },
     "execution_count": 58,
     "metadata": {},
     "output_type": "execute_result"
    }
   ],
   "source": [
    "distil_df"
   ]
  },
  {
   "cell_type": "code",
   "execution_count": 64,
   "id": "979a4cb1",
   "metadata": {},
   "outputs": [
    {
     "data": {
      "text/html": [
       "<div>\n",
       "<style scoped>\n",
       "    .dataframe tbody tr th:only-of-type {\n",
       "        vertical-align: middle;\n",
       "    }\n",
       "\n",
       "    .dataframe tbody tr th {\n",
       "        vertical-align: top;\n",
       "    }\n",
       "\n",
       "    .dataframe thead th {\n",
       "        text-align: right;\n",
       "    }\n",
       "</style>\n",
       "<table border=\"1\" class=\"dataframe\">\n",
       "  <thead>\n",
       "    <tr style=\"text-align: right;\">\n",
       "      <th></th>\n",
       "      <th>created_at</th>\n",
       "      <th>tweets_processed</th>\n",
       "    </tr>\n",
       "  </thead>\n",
       "  <tbody>\n",
       "    <tr>\n",
       "      <th>0</th>\n",
       "      <td>2022-05-01 12:00:47+00:00</td>\n",
       "      <td>b'find out how our customized operator trainin...</td>\n",
       "    </tr>\n",
       "    <tr>\n",
       "      <th>1</th>\n",
       "      <td>2022-05-01 12:08:13+00:00</td>\n",
       "      <td>b\"while the day for when we'll have a powerful...</td>\n",
       "    </tr>\n",
       "    <tr>\n",
       "      <th>2</th>\n",
       "      <td>2022-05-01 13:53:45+00:00</td>\n",
       "      <td>b'it was never about what she got from basketb...</td>\n",
       "    </tr>\n",
       "    <tr>\n",
       "      <th>3</th>\n",
       "      <td>2022-05-01 15:00:01+00:00</td>\n",
       "      <td>b'when the pandemic hit, principal akbar cook\\...</td>\n",
       "    </tr>\n",
       "    <tr>\n",
       "      <th>4</th>\n",
       "      <td>2022-05-01 15:00:25+00:00</td>\n",
       "      <td>b'is it time to ditch the resume?\\n\\nas an emp...</td>\n",
       "    </tr>\n",
       "    <tr>\n",
       "      <th>...</th>\n",
       "      <td>...</td>\n",
       "      <td>...</td>\n",
       "    </tr>\n",
       "    <tr>\n",
       "      <th>3083</th>\n",
       "      <td>2022-06-30 23:00:31+00:00</td>\n",
       "      <td>b'after getting their hands a little dirty, cr...</td>\n",
       "    </tr>\n",
       "    <tr>\n",
       "      <th>3084</th>\n",
       "      <td>2022-06-30 23:08:11+00:00</td>\n",
       "      <td>b\" have until july 7th. you're welcome \\xf0\\x9...</td>\n",
       "    </tr>\n",
       "    <tr>\n",
       "      <th>3085</th>\n",
       "      <td>2022-06-30 23:26:35+00:00</td>\n",
       "      <td>b\"rt it's time to rise together! \\xf0\\x9f\\x8f\\...</td>\n",
       "    </tr>\n",
       "    <tr>\n",
       "      <th>3086</th>\n",
       "      <td>2022-06-30 23:31:00+00:00</td>\n",
       "      <td>b' hi danae, so sorry to hear this. looping in...</td>\n",
       "    </tr>\n",
       "    <tr>\n",
       "      <th>3087</th>\n",
       "      <td>2022-06-30 23:37:39+00:00</td>\n",
       "      <td>b'rt \\xe2\\x80\\x9cwe have far more power than w...</td>\n",
       "    </tr>\n",
       "  </tbody>\n",
       "</table>\n",
       "<p>3088 rows × 2 columns</p>\n",
       "</div>"
      ],
      "text/plain": [
       "                    created_at  \\\n",
       "0    2022-05-01 12:00:47+00:00   \n",
       "1    2022-05-01 12:08:13+00:00   \n",
       "2    2022-05-01 13:53:45+00:00   \n",
       "3    2022-05-01 15:00:01+00:00   \n",
       "4    2022-05-01 15:00:25+00:00   \n",
       "...                        ...   \n",
       "3083 2022-06-30 23:00:31+00:00   \n",
       "3084 2022-06-30 23:08:11+00:00   \n",
       "3085 2022-06-30 23:26:35+00:00   \n",
       "3086 2022-06-30 23:31:00+00:00   \n",
       "3087 2022-06-30 23:37:39+00:00   \n",
       "\n",
       "                                       tweets_processed  \n",
       "0     b'find out how our customized operator trainin...  \n",
       "1     b\"while the day for when we'll have a powerful...  \n",
       "2     b'it was never about what she got from basketb...  \n",
       "3     b'when the pandemic hit, principal akbar cook\\...  \n",
       "4     b'is it time to ditch the resume?\\n\\nas an emp...  \n",
       "...                                                 ...  \n",
       "3083  b'after getting their hands a little dirty, cr...  \n",
       "3084  b\" have until july 7th. you're welcome \\xf0\\x9...  \n",
       "3085  b\"rt it's time to rise together! \\xf0\\x9f\\x8f\\...  \n",
       "3086  b' hi danae, so sorry to hear this. looping in...  \n",
       "3087  b'rt \\xe2\\x80\\x9cwe have far more power than w...  \n",
       "\n",
       "[3088 rows x 2 columns]"
      ]
     },
     "execution_count": 64,
     "metadata": {},
     "output_type": "execute_result"
    }
   ],
   "source": [
    "GPOMS_df = pd.DataFrame(prune_tweets_data, columns=['created_at','tweets'])\n",
    "GPOMS_df['tweets_processed'] = GPOMS_df.apply(lambda x: preprocess_GPOMS(x['tweets']),axis=1)\n",
    "del GPOMS_df['tweets']\n",
    "GPOMS_df"
   ]
  },
  {
   "cell_type": "code",
   "execution_count": 65,
   "id": "dad9cb73",
   "metadata": {},
   "outputs": [
    {
     "data": {
      "text/html": [
       "<div>\n",
       "<style scoped>\n",
       "    .dataframe tbody tr th:only-of-type {\n",
       "        vertical-align: middle;\n",
       "    }\n",
       "\n",
       "    .dataframe tbody tr th {\n",
       "        vertical-align: top;\n",
       "    }\n",
       "\n",
       "    .dataframe thead th {\n",
       "        text-align: right;\n",
       "    }\n",
       "</style>\n",
       "<table border=\"1\" class=\"dataframe\">\n",
       "  <thead>\n",
       "    <tr style=\"text-align: right;\">\n",
       "      <th></th>\n",
       "      <th>created_at</th>\n",
       "      <th>tweets_processed</th>\n",
       "      <th>tweet_size</th>\n",
       "    </tr>\n",
       "  </thead>\n",
       "  <tbody>\n",
       "    <tr>\n",
       "      <th>0</th>\n",
       "      <td>2022-05-01 12:00:47+00:00</td>\n",
       "      <td>b'find out how our customized operator trainin...</td>\n",
       "      <td>130</td>\n",
       "    </tr>\n",
       "    <tr>\n",
       "      <th>1</th>\n",
       "      <td>2022-05-01 12:08:13+00:00</td>\n",
       "      <td>b\"while the day for when we'll have a powerful...</td>\n",
       "      <td>124</td>\n",
       "    </tr>\n",
       "    <tr>\n",
       "      <th>2</th>\n",
       "      <td>2022-05-01 13:53:45+00:00</td>\n",
       "      <td>b'it was never about what she got from basketb...</td>\n",
       "      <td>130</td>\n",
       "    </tr>\n",
       "    <tr>\n",
       "      <th>3</th>\n",
       "      <td>2022-05-01 15:00:01+00:00</td>\n",
       "      <td>b'when the pandemic hit, principal akbar cook\\...</td>\n",
       "      <td>141</td>\n",
       "    </tr>\n",
       "    <tr>\n",
       "      <th>4</th>\n",
       "      <td>2022-05-01 15:00:25+00:00</td>\n",
       "      <td>b'is it time to ditch the resume?\\n\\nas an emp...</td>\n",
       "      <td>132</td>\n",
       "    </tr>\n",
       "    <tr>\n",
       "      <th>...</th>\n",
       "      <td>...</td>\n",
       "      <td>...</td>\n",
       "      <td>...</td>\n",
       "    </tr>\n",
       "    <tr>\n",
       "      <th>3083</th>\n",
       "      <td>2022-06-30 23:00:31+00:00</td>\n",
       "      <td>b'after getting their hands a little dirty, cr...</td>\n",
       "      <td>130</td>\n",
       "    </tr>\n",
       "    <tr>\n",
       "      <th>3084</th>\n",
       "      <td>2022-06-30 23:08:11+00:00</td>\n",
       "      <td>b\" have until july 7th. you're welcome \\xf0\\x9...</td>\n",
       "      <td>55</td>\n",
       "    </tr>\n",
       "    <tr>\n",
       "      <th>3085</th>\n",
       "      <td>2022-06-30 23:26:35+00:00</td>\n",
       "      <td>b\"rt it's time to rise together! \\xf0\\x9f\\x8f\\...</td>\n",
       "      <td>149</td>\n",
       "    </tr>\n",
       "    <tr>\n",
       "      <th>3086</th>\n",
       "      <td>2022-06-30 23:31:00+00:00</td>\n",
       "      <td>b' hi danae, so sorry to hear this. looping in...</td>\n",
       "      <td>75</td>\n",
       "    </tr>\n",
       "    <tr>\n",
       "      <th>3087</th>\n",
       "      <td>2022-06-30 23:37:39+00:00</td>\n",
       "      <td>b'rt \\xe2\\x80\\x9cwe have far more power than w...</td>\n",
       "      <td>180</td>\n",
       "    </tr>\n",
       "  </tbody>\n",
       "</table>\n",
       "<p>3088 rows × 3 columns</p>\n",
       "</div>"
      ],
      "text/plain": [
       "                    created_at  \\\n",
       "0    2022-05-01 12:00:47+00:00   \n",
       "1    2022-05-01 12:08:13+00:00   \n",
       "2    2022-05-01 13:53:45+00:00   \n",
       "3    2022-05-01 15:00:01+00:00   \n",
       "4    2022-05-01 15:00:25+00:00   \n",
       "...                        ...   \n",
       "3083 2022-06-30 23:00:31+00:00   \n",
       "3084 2022-06-30 23:08:11+00:00   \n",
       "3085 2022-06-30 23:26:35+00:00   \n",
       "3086 2022-06-30 23:31:00+00:00   \n",
       "3087 2022-06-30 23:37:39+00:00   \n",
       "\n",
       "                                       tweets_processed  tweet_size  \n",
       "0     b'find out how our customized operator trainin...         130  \n",
       "1     b\"while the day for when we'll have a powerful...         124  \n",
       "2     b'it was never about what she got from basketb...         130  \n",
       "3     b'when the pandemic hit, principal akbar cook\\...         141  \n",
       "4     b'is it time to ditch the resume?\\n\\nas an emp...         132  \n",
       "...                                                 ...         ...  \n",
       "3083  b'after getting their hands a little dirty, cr...         130  \n",
       "3084  b\" have until july 7th. you're welcome \\xf0\\x9...          55  \n",
       "3085  b\"rt it's time to rise together! \\xf0\\x9f\\x8f\\...         149  \n",
       "3086  b' hi danae, so sorry to hear this. looping in...          75  \n",
       "3087  b'rt \\xe2\\x80\\x9cwe have far more power than w...         180  \n",
       "\n",
       "[3088 rows x 3 columns]"
      ]
     },
     "execution_count": 65,
     "metadata": {},
     "output_type": "execute_result"
    }
   ],
   "source": [
    "GPOMS_df['tweet_size'] = GPOMS_df['tweets_processed'].map(len)\n",
    "GPOMS_df"
   ]
  },
  {
   "cell_type": "code",
   "execution_count": 67,
   "id": "d9f94736",
   "metadata": {},
   "outputs": [
    {
     "data": {
      "text/html": [
       "<div>\n",
       "<style scoped>\n",
       "    .dataframe tbody tr th:only-of-type {\n",
       "        vertical-align: middle;\n",
       "    }\n",
       "\n",
       "    .dataframe tbody tr th {\n",
       "        vertical-align: top;\n",
       "    }\n",
       "\n",
       "    .dataframe thead th {\n",
       "        text-align: right;\n",
       "    }\n",
       "</style>\n",
       "<table border=\"1\" class=\"dataframe\">\n",
       "  <thead>\n",
       "    <tr style=\"text-align: right;\">\n",
       "      <th></th>\n",
       "      <th>tweet_size</th>\n",
       "    </tr>\n",
       "  </thead>\n",
       "  <tbody>\n",
       "    <tr>\n",
       "      <th>count</th>\n",
       "      <td>3088.000000</td>\n",
       "    </tr>\n",
       "    <tr>\n",
       "      <th>mean</th>\n",
       "      <td>123.701425</td>\n",
       "    </tr>\n",
       "    <tr>\n",
       "      <th>std</th>\n",
       "      <td>32.318110</td>\n",
       "    </tr>\n",
       "    <tr>\n",
       "      <th>min</th>\n",
       "      <td>1.000000</td>\n",
       "    </tr>\n",
       "    <tr>\n",
       "      <th>25%</th>\n",
       "      <td>114.000000</td>\n",
       "    </tr>\n",
       "    <tr>\n",
       "      <th>50%</th>\n",
       "      <td>129.000000</td>\n",
       "    </tr>\n",
       "    <tr>\n",
       "      <th>75%</th>\n",
       "      <td>140.250000</td>\n",
       "    </tr>\n",
       "    <tr>\n",
       "      <th>max</th>\n",
       "      <td>345.000000</td>\n",
       "    </tr>\n",
       "  </tbody>\n",
       "</table>\n",
       "</div>"
      ],
      "text/plain": [
       "        tweet_size\n",
       "count  3088.000000\n",
       "mean    123.701425\n",
       "std      32.318110\n",
       "min       1.000000\n",
       "25%     114.000000\n",
       "50%     129.000000\n",
       "75%     140.250000\n",
       "max     345.000000"
      ]
     },
     "execution_count": 67,
     "metadata": {},
     "output_type": "execute_result"
    }
   ],
   "source": [
    "GPOMS_df.describe()"
   ]
  },
  {
   "cell_type": "code",
   "execution_count": 70,
   "id": "b7c41754",
   "metadata": {},
   "outputs": [],
   "source": [
    "GPOMS_df.to_pickle(\"corpus_GPOMS.pkl\")"
   ]
  },
  {
   "cell_type": "markdown",
   "id": "b5b6af0d",
   "metadata": {},
   "source": [
    "## II. group all tweets that were submitted on the same date"
   ]
  },
  {
   "cell_type": "code",
   "execution_count": 77,
   "id": "d5471982",
   "metadata": {
    "scrolled": true
   },
   "outputs": [
    {
     "data": {
      "text/html": [
       "<div>\n",
       "<style scoped>\n",
       "    .dataframe tbody tr th:only-of-type {\n",
       "        vertical-align: middle;\n",
       "    }\n",
       "\n",
       "    .dataframe tbody tr th {\n",
       "        vertical-align: top;\n",
       "    }\n",
       "\n",
       "    .dataframe thead th {\n",
       "        text-align: right;\n",
       "    }\n",
       "</style>\n",
       "<table border=\"1\" class=\"dataframe\">\n",
       "  <thead>\n",
       "    <tr style=\"text-align: right;\">\n",
       "      <th></th>\n",
       "      <th>tweets_processed</th>\n",
       "      <th>date_processed</th>\n",
       "    </tr>\n",
       "  </thead>\n",
       "  <tbody>\n",
       "    <tr>\n",
       "      <th>0</th>\n",
       "      <td>[customized, operator, training, helping, team...</td>\n",
       "      <td>2022-05-01</td>\n",
       "    </tr>\n",
       "    <tr>\n",
       "      <th>1</th>\n",
       "      <td>[day, powerful, quantumcomputer, still, tbd, s...</td>\n",
       "      <td>2022-05-01</td>\n",
       "    </tr>\n",
       "    <tr>\n",
       "      <th>2</th>\n",
       "      <td>[never, got, basketball, always, gave, back, g...</td>\n",
       "      <td>2022-05-01</td>\n",
       "    </tr>\n",
       "    <tr>\n",
       "      <th>3</th>\n",
       "      <td>[pandemic, hit, principal, akbar, school, beca...</td>\n",
       "      <td>2022-05-01</td>\n",
       "    </tr>\n",
       "    <tr>\n",
       "      <th>4</th>\n",
       "      <td>[time, ditch, employer, need, question, rethin...</td>\n",
       "      <td>2022-05-01</td>\n",
       "    </tr>\n",
       "    <tr>\n",
       "      <th>...</th>\n",
       "      <td>...</td>\n",
       "      <td>...</td>\n",
       "    </tr>\n",
       "    <tr>\n",
       "      <th>3083</th>\n",
       "      <td>[getting, hands, little, dirty, creators, dyla...</td>\n",
       "      <td>2022-06-30</td>\n",
       "    </tr>\n",
       "    <tr>\n",
       "      <th>3084</th>\n",
       "      <td>[url, july, welcome]</td>\n",
       "      <td>2022-06-30</td>\n",
       "    </tr>\n",
       "    <tr>\n",
       "      <th>3085</th>\n",
       "      <td>[time, rise, talking, director, akin, omotoso,...</td>\n",
       "      <td>2022-06-30</td>\n",
       "    </tr>\n",
       "    <tr>\n",
       "      <th>3086</th>\n",
       "      <td>[hi, danae, sorry, hear, looping, case, help]</td>\n",
       "      <td>2022-06-30</td>\n",
       "    </tr>\n",
       "    <tr>\n",
       "      <th>3087</th>\n",
       "      <td>[far, power, often, much, others, want, us, ma...</td>\n",
       "      <td>2022-06-30</td>\n",
       "    </tr>\n",
       "  </tbody>\n",
       "</table>\n",
       "<p>3088 rows × 2 columns</p>\n",
       "</div>"
      ],
      "text/plain": [
       "                                       tweets_processed date_processed\n",
       "0     [customized, operator, training, helping, team...     2022-05-01\n",
       "1     [day, powerful, quantumcomputer, still, tbd, s...     2022-05-01\n",
       "2     [never, got, basketball, always, gave, back, g...     2022-05-01\n",
       "3     [pandemic, hit, principal, akbar, school, beca...     2022-05-01\n",
       "4     [time, ditch, employer, need, question, rethin...     2022-05-01\n",
       "...                                                 ...            ...\n",
       "3083  [getting, hands, little, dirty, creators, dyla...     2022-06-30\n",
       "3084                               [url, july, welcome]     2022-06-30\n",
       "3085  [time, rise, talking, director, akin, omotoso,...     2022-06-30\n",
       "3086      [hi, danae, sorry, hear, looping, case, help]     2022-06-30\n",
       "3087  [far, power, often, much, others, want, us, ma...     2022-06-30\n",
       "\n",
       "[3088 rows x 2 columns]"
      ]
     },
     "execution_count": 77,
     "metadata": {},
     "output_type": "execute_result"
    }
   ],
   "source": [
    "distil_df['date_processed'] = distil_df.apply(lambda x: datetime.datetime.strftime(x['date'], \"%Y-%m-%d\"),axis=1)\n",
    "del distil_df['date'] \n",
    "distil_df"
   ]
  },
  {
   "cell_type": "code",
   "execution_count": 78,
   "id": "22d8a589",
   "metadata": {},
   "outputs": [
    {
     "data": {
      "text/plain": [
       "date_processed\n",
       "2022-05-01    15\n",
       "2022-05-02    47\n",
       "2022-05-03    47\n",
       "2022-05-04    50\n",
       "2022-05-05    54\n",
       "              ..\n",
       "2022-06-26     8\n",
       "2022-06-27    47\n",
       "2022-06-28    50\n",
       "2022-06-29    61\n",
       "2022-06-30    80\n",
       "Length: 61, dtype: int64"
      ]
     },
     "execution_count": 78,
     "metadata": {},
     "output_type": "execute_result"
    }
   ],
   "source": [
    "sector = distil_df.groupby(\"date_processed\")\n",
    "sector.size()"
   ]
  },
  {
   "cell_type": "code",
   "execution_count": 79,
   "id": "1c84a9ed",
   "metadata": {},
   "outputs": [
    {
     "data": {
      "text/html": [
       "<div>\n",
       "<style scoped>\n",
       "    .dataframe tbody tr th:only-of-type {\n",
       "        vertical-align: middle;\n",
       "    }\n",
       "\n",
       "    .dataframe tbody tr th {\n",
       "        vertical-align: top;\n",
       "    }\n",
       "\n",
       "    .dataframe thead th {\n",
       "        text-align: right;\n",
       "    }\n",
       "</style>\n",
       "<table border=\"1\" class=\"dataframe\">\n",
       "  <thead>\n",
       "    <tr style=\"text-align: right;\">\n",
       "      <th></th>\n",
       "      <th>tweets_processed</th>\n",
       "    </tr>\n",
       "    <tr>\n",
       "      <th>date_processed</th>\n",
       "      <th></th>\n",
       "    </tr>\n",
       "  </thead>\n",
       "  <tbody>\n",
       "    <tr>\n",
       "      <th>2022-05-01</th>\n",
       "      <td>[customized, operator, training, helping, team...</td>\n",
       "    </tr>\n",
       "    <tr>\n",
       "      <th>2022-05-02</th>\n",
       "      <td>[power, higher, education, one, network, time,...</td>\n",
       "    </tr>\n",
       "    <tr>\n",
       "      <th>2022-05-03</th>\n",
       "      <td>[ambulances, make, india, bharti, airtel, hosp...</td>\n",
       "    </tr>\n",
       "    <tr>\n",
       "      <th>2022-05-04</th>\n",
       "      <td>[cisco, calculates, emissions, products, math,...</td>\n",
       "    </tr>\n",
       "    <tr>\n",
       "      <th>2022-05-05</th>\n",
       "      <td>[employees, said, able, work, remotely, made, ...</td>\n",
       "    </tr>\n",
       "    <tr>\n",
       "      <th>...</th>\n",
       "      <td>...</td>\n",
       "    </tr>\n",
       "    <tr>\n",
       "      <th>2022-06-26</th>\n",
       "      <td>[follow, final, day, action, sundays, trophies...</td>\n",
       "    </tr>\n",
       "    <tr>\n",
       "      <th>2022-06-27</th>\n",
       "      <td>[hola, enviarnos, un, mensaje, privado, desde,...</td>\n",
       "    </tr>\n",
       "    <tr>\n",
       "      <th>2022-06-28</th>\n",
       "      <td>[ciscolive, keynote, roundup, las, ante, learn...</td>\n",
       "    </tr>\n",
       "    <tr>\n",
       "      <th>2022-06-29</th>\n",
       "      <td>[salesforcetour, nyc, chair, joined, url, prof...</td>\n",
       "    </tr>\n",
       "    <tr>\n",
       "      <th>2022-06-30</th>\n",
       "      <td>[hi, sorry, hear, something, help, relationshi...</td>\n",
       "    </tr>\n",
       "  </tbody>\n",
       "</table>\n",
       "<p>61 rows × 1 columns</p>\n",
       "</div>"
      ],
      "text/plain": [
       "                                                 tweets_processed\n",
       "date_processed                                                   \n",
       "2022-05-01      [customized, operator, training, helping, team...\n",
       "2022-05-02      [power, higher, education, one, network, time,...\n",
       "2022-05-03      [ambulances, make, india, bharti, airtel, hosp...\n",
       "2022-05-04      [cisco, calculates, emissions, products, math,...\n",
       "2022-05-05      [employees, said, able, work, remotely, made, ...\n",
       "...                                                           ...\n",
       "2022-06-26      [follow, final, day, action, sundays, trophies...\n",
       "2022-06-27      [hola, enviarnos, un, mensaje, privado, desde,...\n",
       "2022-06-28      [ciscolive, keynote, roundup, las, ante, learn...\n",
       "2022-06-29      [salesforcetour, nyc, chair, joined, url, prof...\n",
       "2022-06-30      [hi, sorry, hear, something, help, relationshi...\n",
       "\n",
       "[61 rows x 1 columns]"
      ]
     },
     "execution_count": 79,
     "metadata": {},
     "output_type": "execute_result"
    }
   ],
   "source": [
    "condense_df = distil_df.groupby(\"date_processed\").agg({'tweets_processed':'sum'})\n",
    "condense_df"
   ]
  },
  {
   "cell_type": "code",
   "execution_count": 80,
   "id": "094dc607",
   "metadata": {},
   "outputs": [
    {
     "data": {
      "text/html": [
       "<div>\n",
       "<style scoped>\n",
       "    .dataframe tbody tr th:only-of-type {\n",
       "        vertical-align: middle;\n",
       "    }\n",
       "\n",
       "    .dataframe tbody tr th {\n",
       "        vertical-align: top;\n",
       "    }\n",
       "\n",
       "    .dataframe thead th {\n",
       "        text-align: right;\n",
       "    }\n",
       "</style>\n",
       "<table border=\"1\" class=\"dataframe\">\n",
       "  <thead>\n",
       "    <tr style=\"text-align: right;\">\n",
       "      <th></th>\n",
       "      <th>tweets_processed</th>\n",
       "      <th>tweet_size</th>\n",
       "    </tr>\n",
       "    <tr>\n",
       "      <th>date_processed</th>\n",
       "      <th></th>\n",
       "      <th></th>\n",
       "    </tr>\n",
       "  </thead>\n",
       "  <tbody>\n",
       "    <tr>\n",
       "      <th>2022-05-01</th>\n",
       "      <td>[customized, operator, training, helping, team...</td>\n",
       "      <td>142</td>\n",
       "    </tr>\n",
       "    <tr>\n",
       "      <th>2022-05-02</th>\n",
       "      <td>[power, higher, education, one, network, time,...</td>\n",
       "      <td>413</td>\n",
       "    </tr>\n",
       "    <tr>\n",
       "      <th>2022-05-03</th>\n",
       "      <td>[ambulances, make, india, bharti, airtel, hosp...</td>\n",
       "      <td>425</td>\n",
       "    </tr>\n",
       "    <tr>\n",
       "      <th>2022-05-04</th>\n",
       "      <td>[cisco, calculates, emissions, products, math,...</td>\n",
       "      <td>438</td>\n",
       "    </tr>\n",
       "    <tr>\n",
       "      <th>2022-05-05</th>\n",
       "      <td>[employees, said, able, work, remotely, made, ...</td>\n",
       "      <td>474</td>\n",
       "    </tr>\n",
       "    <tr>\n",
       "      <th>...</th>\n",
       "      <td>...</td>\n",
       "      <td>...</td>\n",
       "    </tr>\n",
       "    <tr>\n",
       "      <th>2022-06-26</th>\n",
       "      <td>[follow, final, day, action, sundays, trophies...</td>\n",
       "      <td>54</td>\n",
       "    </tr>\n",
       "    <tr>\n",
       "      <th>2022-06-27</th>\n",
       "      <td>[hola, enviarnos, un, mensaje, privado, desde,...</td>\n",
       "      <td>459</td>\n",
       "    </tr>\n",
       "    <tr>\n",
       "      <th>2022-06-28</th>\n",
       "      <td>[ciscolive, keynote, roundup, las, ante, learn...</td>\n",
       "      <td>444</td>\n",
       "    </tr>\n",
       "    <tr>\n",
       "      <th>2022-06-29</th>\n",
       "      <td>[salesforcetour, nyc, chair, joined, url, prof...</td>\n",
       "      <td>535</td>\n",
       "    </tr>\n",
       "    <tr>\n",
       "      <th>2022-06-30</th>\n",
       "      <td>[hi, sorry, hear, something, help, relationshi...</td>\n",
       "      <td>670</td>\n",
       "    </tr>\n",
       "  </tbody>\n",
       "</table>\n",
       "<p>61 rows × 2 columns</p>\n",
       "</div>"
      ],
      "text/plain": [
       "                                                 tweets_processed  tweet_size\n",
       "date_processed                                                               \n",
       "2022-05-01      [customized, operator, training, helping, team...         142\n",
       "2022-05-02      [power, higher, education, one, network, time,...         413\n",
       "2022-05-03      [ambulances, make, india, bharti, airtel, hosp...         425\n",
       "2022-05-04      [cisco, calculates, emissions, products, math,...         438\n",
       "2022-05-05      [employees, said, able, work, remotely, made, ...         474\n",
       "...                                                           ...         ...\n",
       "2022-06-26      [follow, final, day, action, sundays, trophies...          54\n",
       "2022-06-27      [hola, enviarnos, un, mensaje, privado, desde,...         459\n",
       "2022-06-28      [ciscolive, keynote, roundup, las, ante, learn...         444\n",
       "2022-06-29      [salesforcetour, nyc, chair, joined, url, prof...         535\n",
       "2022-06-30      [hi, sorry, hear, something, help, relationshi...         670\n",
       "\n",
       "[61 rows x 2 columns]"
      ]
     },
     "execution_count": 80,
     "metadata": {},
     "output_type": "execute_result"
    }
   ],
   "source": [
    "condense_df['tweet_size'] = condense_df['tweets_processed'].map(len)\n",
    "condense_df"
   ]
  },
  {
   "cell_type": "code",
   "execution_count": 81,
   "id": "a1ed168f",
   "metadata": {},
   "outputs": [],
   "source": [
    "# pip install plotly"
   ]
  },
  {
   "cell_type": "code",
   "execution_count": 82,
   "id": "eba2c3f2",
   "metadata": {},
   "outputs": [
    {
     "data": {
      "application/vnd.plotly.v1+json": {
       "config": {
        "plotlyServerURL": "https://plot.ly"
       },
       "data": [
        {
         "hovertemplate": "date_processed=%{x}<br>tweet_size=%{y}<extra></extra>",
         "legendgroup": "",
         "line": {
          "color": "#636efa",
          "dash": "solid"
         },
         "marker": {
          "symbol": "circle"
         },
         "mode": "lines",
         "name": "",
         "orientation": "v",
         "showlegend": false,
         "type": "scatter",
         "x": [
          "2022-05-01",
          "2022-05-02",
          "2022-05-03",
          "2022-05-04",
          "2022-05-05",
          "2022-05-06",
          "2022-05-07",
          "2022-05-08",
          "2022-05-09",
          "2022-05-10",
          "2022-05-11",
          "2022-05-12",
          "2022-05-13",
          "2022-05-14",
          "2022-05-15",
          "2022-05-16",
          "2022-05-17",
          "2022-05-18",
          "2022-05-19",
          "2022-05-20",
          "2022-05-21",
          "2022-05-22",
          "2022-05-23",
          "2022-05-24",
          "2022-05-25",
          "2022-05-26",
          "2022-05-27",
          "2022-05-28",
          "2022-05-29",
          "2022-05-30",
          "2022-05-31",
          "2022-06-01",
          "2022-06-02",
          "2022-06-03",
          "2022-06-04",
          "2022-06-05",
          "2022-06-06",
          "2022-06-07",
          "2022-06-08",
          "2022-06-09",
          "2022-06-10",
          "2022-06-11",
          "2022-06-12",
          "2022-06-13",
          "2022-06-14",
          "2022-06-15",
          "2022-06-16",
          "2022-06-17",
          "2022-06-18",
          "2022-06-19",
          "2022-06-20",
          "2022-06-21",
          "2022-06-22",
          "2022-06-23",
          "2022-06-24",
          "2022-06-25",
          "2022-06-26",
          "2022-06-27",
          "2022-06-28",
          "2022-06-29",
          "2022-06-30"
         ],
         "xaxis": "x",
         "y": [
          142,
          413,
          425,
          438,
          474,
          466,
          128,
          109,
          449,
          737,
          681,
          552,
          373,
          118,
          72,
          492,
          515,
          602,
          498,
          398,
          157,
          112,
          546,
          697,
          125,
          155,
          315,
          158,
          93,
          198,
          711,
          686,
          757,
          528,
          223,
          253,
          555,
          504,
          756,
          559,
          585,
          144,
          118,
          894,
          720,
          1119,
          863,
          627,
          158,
          163,
          287,
          654,
          589,
          1014,
          288,
          117,
          54,
          459,
          444,
          535,
          670
         ],
         "yaxis": "y"
        }
       ],
       "layout": {
        "legend": {
         "tracegroupgap": 0
        },
        "template": {
         "data": {
          "bar": [
           {
            "error_x": {
             "color": "#2a3f5f"
            },
            "error_y": {
             "color": "#2a3f5f"
            },
            "marker": {
             "line": {
              "color": "#E5ECF6",
              "width": 0.5
             },
             "pattern": {
              "fillmode": "overlay",
              "size": 10,
              "solidity": 0.2
             }
            },
            "type": "bar"
           }
          ],
          "barpolar": [
           {
            "marker": {
             "line": {
              "color": "#E5ECF6",
              "width": 0.5
             },
             "pattern": {
              "fillmode": "overlay",
              "size": 10,
              "solidity": 0.2
             }
            },
            "type": "barpolar"
           }
          ],
          "carpet": [
           {
            "aaxis": {
             "endlinecolor": "#2a3f5f",
             "gridcolor": "white",
             "linecolor": "white",
             "minorgridcolor": "white",
             "startlinecolor": "#2a3f5f"
            },
            "baxis": {
             "endlinecolor": "#2a3f5f",
             "gridcolor": "white",
             "linecolor": "white",
             "minorgridcolor": "white",
             "startlinecolor": "#2a3f5f"
            },
            "type": "carpet"
           }
          ],
          "choropleth": [
           {
            "colorbar": {
             "outlinewidth": 0,
             "ticks": ""
            },
            "type": "choropleth"
           }
          ],
          "contour": [
           {
            "colorbar": {
             "outlinewidth": 0,
             "ticks": ""
            },
            "colorscale": [
             [
              0,
              "#0d0887"
             ],
             [
              0.1111111111111111,
              "#46039f"
             ],
             [
              0.2222222222222222,
              "#7201a8"
             ],
             [
              0.3333333333333333,
              "#9c179e"
             ],
             [
              0.4444444444444444,
              "#bd3786"
             ],
             [
              0.5555555555555556,
              "#d8576b"
             ],
             [
              0.6666666666666666,
              "#ed7953"
             ],
             [
              0.7777777777777778,
              "#fb9f3a"
             ],
             [
              0.8888888888888888,
              "#fdca26"
             ],
             [
              1,
              "#f0f921"
             ]
            ],
            "type": "contour"
           }
          ],
          "contourcarpet": [
           {
            "colorbar": {
             "outlinewidth": 0,
             "ticks": ""
            },
            "type": "contourcarpet"
           }
          ],
          "heatmap": [
           {
            "colorbar": {
             "outlinewidth": 0,
             "ticks": ""
            },
            "colorscale": [
             [
              0,
              "#0d0887"
             ],
             [
              0.1111111111111111,
              "#46039f"
             ],
             [
              0.2222222222222222,
              "#7201a8"
             ],
             [
              0.3333333333333333,
              "#9c179e"
             ],
             [
              0.4444444444444444,
              "#bd3786"
             ],
             [
              0.5555555555555556,
              "#d8576b"
             ],
             [
              0.6666666666666666,
              "#ed7953"
             ],
             [
              0.7777777777777778,
              "#fb9f3a"
             ],
             [
              0.8888888888888888,
              "#fdca26"
             ],
             [
              1,
              "#f0f921"
             ]
            ],
            "type": "heatmap"
           }
          ],
          "heatmapgl": [
           {
            "colorbar": {
             "outlinewidth": 0,
             "ticks": ""
            },
            "colorscale": [
             [
              0,
              "#0d0887"
             ],
             [
              0.1111111111111111,
              "#46039f"
             ],
             [
              0.2222222222222222,
              "#7201a8"
             ],
             [
              0.3333333333333333,
              "#9c179e"
             ],
             [
              0.4444444444444444,
              "#bd3786"
             ],
             [
              0.5555555555555556,
              "#d8576b"
             ],
             [
              0.6666666666666666,
              "#ed7953"
             ],
             [
              0.7777777777777778,
              "#fb9f3a"
             ],
             [
              0.8888888888888888,
              "#fdca26"
             ],
             [
              1,
              "#f0f921"
             ]
            ],
            "type": "heatmapgl"
           }
          ],
          "histogram": [
           {
            "marker": {
             "pattern": {
              "fillmode": "overlay",
              "size": 10,
              "solidity": 0.2
             }
            },
            "type": "histogram"
           }
          ],
          "histogram2d": [
           {
            "colorbar": {
             "outlinewidth": 0,
             "ticks": ""
            },
            "colorscale": [
             [
              0,
              "#0d0887"
             ],
             [
              0.1111111111111111,
              "#46039f"
             ],
             [
              0.2222222222222222,
              "#7201a8"
             ],
             [
              0.3333333333333333,
              "#9c179e"
             ],
             [
              0.4444444444444444,
              "#bd3786"
             ],
             [
              0.5555555555555556,
              "#d8576b"
             ],
             [
              0.6666666666666666,
              "#ed7953"
             ],
             [
              0.7777777777777778,
              "#fb9f3a"
             ],
             [
              0.8888888888888888,
              "#fdca26"
             ],
             [
              1,
              "#f0f921"
             ]
            ],
            "type": "histogram2d"
           }
          ],
          "histogram2dcontour": [
           {
            "colorbar": {
             "outlinewidth": 0,
             "ticks": ""
            },
            "colorscale": [
             [
              0,
              "#0d0887"
             ],
             [
              0.1111111111111111,
              "#46039f"
             ],
             [
              0.2222222222222222,
              "#7201a8"
             ],
             [
              0.3333333333333333,
              "#9c179e"
             ],
             [
              0.4444444444444444,
              "#bd3786"
             ],
             [
              0.5555555555555556,
              "#d8576b"
             ],
             [
              0.6666666666666666,
              "#ed7953"
             ],
             [
              0.7777777777777778,
              "#fb9f3a"
             ],
             [
              0.8888888888888888,
              "#fdca26"
             ],
             [
              1,
              "#f0f921"
             ]
            ],
            "type": "histogram2dcontour"
           }
          ],
          "mesh3d": [
           {
            "colorbar": {
             "outlinewidth": 0,
             "ticks": ""
            },
            "type": "mesh3d"
           }
          ],
          "parcoords": [
           {
            "line": {
             "colorbar": {
              "outlinewidth": 0,
              "ticks": ""
             }
            },
            "type": "parcoords"
           }
          ],
          "pie": [
           {
            "automargin": true,
            "type": "pie"
           }
          ],
          "scatter": [
           {
            "fillpattern": {
             "fillmode": "overlay",
             "size": 10,
             "solidity": 0.2
            },
            "type": "scatter"
           }
          ],
          "scatter3d": [
           {
            "line": {
             "colorbar": {
              "outlinewidth": 0,
              "ticks": ""
             }
            },
            "marker": {
             "colorbar": {
              "outlinewidth": 0,
              "ticks": ""
             }
            },
            "type": "scatter3d"
           }
          ],
          "scattercarpet": [
           {
            "marker": {
             "colorbar": {
              "outlinewidth": 0,
              "ticks": ""
             }
            },
            "type": "scattercarpet"
           }
          ],
          "scattergeo": [
           {
            "marker": {
             "colorbar": {
              "outlinewidth": 0,
              "ticks": ""
             }
            },
            "type": "scattergeo"
           }
          ],
          "scattergl": [
           {
            "marker": {
             "colorbar": {
              "outlinewidth": 0,
              "ticks": ""
             }
            },
            "type": "scattergl"
           }
          ],
          "scattermapbox": [
           {
            "marker": {
             "colorbar": {
              "outlinewidth": 0,
              "ticks": ""
             }
            },
            "type": "scattermapbox"
           }
          ],
          "scatterpolar": [
           {
            "marker": {
             "colorbar": {
              "outlinewidth": 0,
              "ticks": ""
             }
            },
            "type": "scatterpolar"
           }
          ],
          "scatterpolargl": [
           {
            "marker": {
             "colorbar": {
              "outlinewidth": 0,
              "ticks": ""
             }
            },
            "type": "scatterpolargl"
           }
          ],
          "scatterternary": [
           {
            "marker": {
             "colorbar": {
              "outlinewidth": 0,
              "ticks": ""
             }
            },
            "type": "scatterternary"
           }
          ],
          "surface": [
           {
            "colorbar": {
             "outlinewidth": 0,
             "ticks": ""
            },
            "colorscale": [
             [
              0,
              "#0d0887"
             ],
             [
              0.1111111111111111,
              "#46039f"
             ],
             [
              0.2222222222222222,
              "#7201a8"
             ],
             [
              0.3333333333333333,
              "#9c179e"
             ],
             [
              0.4444444444444444,
              "#bd3786"
             ],
             [
              0.5555555555555556,
              "#d8576b"
             ],
             [
              0.6666666666666666,
              "#ed7953"
             ],
             [
              0.7777777777777778,
              "#fb9f3a"
             ],
             [
              0.8888888888888888,
              "#fdca26"
             ],
             [
              1,
              "#f0f921"
             ]
            ],
            "type": "surface"
           }
          ],
          "table": [
           {
            "cells": {
             "fill": {
              "color": "#EBF0F8"
             },
             "line": {
              "color": "white"
             }
            },
            "header": {
             "fill": {
              "color": "#C8D4E3"
             },
             "line": {
              "color": "white"
             }
            },
            "type": "table"
           }
          ]
         },
         "layout": {
          "annotationdefaults": {
           "arrowcolor": "#2a3f5f",
           "arrowhead": 0,
           "arrowwidth": 1
          },
          "autotypenumbers": "strict",
          "coloraxis": {
           "colorbar": {
            "outlinewidth": 0,
            "ticks": ""
           }
          },
          "colorscale": {
           "diverging": [
            [
             0,
             "#8e0152"
            ],
            [
             0.1,
             "#c51b7d"
            ],
            [
             0.2,
             "#de77ae"
            ],
            [
             0.3,
             "#f1b6da"
            ],
            [
             0.4,
             "#fde0ef"
            ],
            [
             0.5,
             "#f7f7f7"
            ],
            [
             0.6,
             "#e6f5d0"
            ],
            [
             0.7,
             "#b8e186"
            ],
            [
             0.8,
             "#7fbc41"
            ],
            [
             0.9,
             "#4d9221"
            ],
            [
             1,
             "#276419"
            ]
           ],
           "sequential": [
            [
             0,
             "#0d0887"
            ],
            [
             0.1111111111111111,
             "#46039f"
            ],
            [
             0.2222222222222222,
             "#7201a8"
            ],
            [
             0.3333333333333333,
             "#9c179e"
            ],
            [
             0.4444444444444444,
             "#bd3786"
            ],
            [
             0.5555555555555556,
             "#d8576b"
            ],
            [
             0.6666666666666666,
             "#ed7953"
            ],
            [
             0.7777777777777778,
             "#fb9f3a"
            ],
            [
             0.8888888888888888,
             "#fdca26"
            ],
            [
             1,
             "#f0f921"
            ]
           ],
           "sequentialminus": [
            [
             0,
             "#0d0887"
            ],
            [
             0.1111111111111111,
             "#46039f"
            ],
            [
             0.2222222222222222,
             "#7201a8"
            ],
            [
             0.3333333333333333,
             "#9c179e"
            ],
            [
             0.4444444444444444,
             "#bd3786"
            ],
            [
             0.5555555555555556,
             "#d8576b"
            ],
            [
             0.6666666666666666,
             "#ed7953"
            ],
            [
             0.7777777777777778,
             "#fb9f3a"
            ],
            [
             0.8888888888888888,
             "#fdca26"
            ],
            [
             1,
             "#f0f921"
            ]
           ]
          },
          "colorway": [
           "#636efa",
           "#EF553B",
           "#00cc96",
           "#ab63fa",
           "#FFA15A",
           "#19d3f3",
           "#FF6692",
           "#B6E880",
           "#FF97FF",
           "#FECB52"
          ],
          "font": {
           "color": "#2a3f5f"
          },
          "geo": {
           "bgcolor": "white",
           "lakecolor": "white",
           "landcolor": "#E5ECF6",
           "showlakes": true,
           "showland": true,
           "subunitcolor": "white"
          },
          "hoverlabel": {
           "align": "left"
          },
          "hovermode": "closest",
          "mapbox": {
           "style": "light"
          },
          "paper_bgcolor": "white",
          "plot_bgcolor": "#E5ECF6",
          "polar": {
           "angularaxis": {
            "gridcolor": "white",
            "linecolor": "white",
            "ticks": ""
           },
           "bgcolor": "#E5ECF6",
           "radialaxis": {
            "gridcolor": "white",
            "linecolor": "white",
            "ticks": ""
           }
          },
          "scene": {
           "xaxis": {
            "backgroundcolor": "#E5ECF6",
            "gridcolor": "white",
            "gridwidth": 2,
            "linecolor": "white",
            "showbackground": true,
            "ticks": "",
            "zerolinecolor": "white"
           },
           "yaxis": {
            "backgroundcolor": "#E5ECF6",
            "gridcolor": "white",
            "gridwidth": 2,
            "linecolor": "white",
            "showbackground": true,
            "ticks": "",
            "zerolinecolor": "white"
           },
           "zaxis": {
            "backgroundcolor": "#E5ECF6",
            "gridcolor": "white",
            "gridwidth": 2,
            "linecolor": "white",
            "showbackground": true,
            "ticks": "",
            "zerolinecolor": "white"
           }
          },
          "shapedefaults": {
           "line": {
            "color": "#2a3f5f"
           }
          },
          "ternary": {
           "aaxis": {
            "gridcolor": "white",
            "linecolor": "white",
            "ticks": ""
           },
           "baxis": {
            "gridcolor": "white",
            "linecolor": "white",
            "ticks": ""
           },
           "bgcolor": "#E5ECF6",
           "caxis": {
            "gridcolor": "white",
            "linecolor": "white",
            "ticks": ""
           }
          },
          "title": {
           "x": 0.05
          },
          "xaxis": {
           "automargin": true,
           "gridcolor": "white",
           "linecolor": "white",
           "ticks": "",
           "title": {
            "standoff": 15
           },
           "zerolinecolor": "white",
           "zerolinewidth": 2
          },
          "yaxis": {
           "automargin": true,
           "gridcolor": "white",
           "linecolor": "white",
           "ticks": "",
           "title": {
            "standoff": 15
           },
           "zerolinecolor": "white",
           "zerolinewidth": 2
          }
         }
        },
        "title": {
         "text": "Variation of tweet size"
        },
        "xaxis": {
         "anchor": "y",
         "domain": [
          0,
          1
         ],
         "title": {
          "text": "date_processed"
         }
        },
        "yaxis": {
         "anchor": "x",
         "domain": [
          0,
          1
         ],
         "title": {
          "text": "tweet_size"
         }
        }
       }
      },
      "text/html": [
       "<div>                            <div id=\"d9c0c3f1-6476-4976-aea7-7c44b0399528\" class=\"plotly-graph-div\" style=\"height:525px; width:100%;\"></div>            <script type=\"text/javascript\">                require([\"plotly\"], function(Plotly) {                    window.PLOTLYENV=window.PLOTLYENV || {};                                    if (document.getElementById(\"d9c0c3f1-6476-4976-aea7-7c44b0399528\")) {                    Plotly.newPlot(                        \"d9c0c3f1-6476-4976-aea7-7c44b0399528\",                        [{\"hovertemplate\":\"date_processed=%{x}<br>tweet_size=%{y}<extra></extra>\",\"legendgroup\":\"\",\"line\":{\"color\":\"#636efa\",\"dash\":\"solid\"},\"marker\":{\"symbol\":\"circle\"},\"mode\":\"lines\",\"name\":\"\",\"orientation\":\"v\",\"showlegend\":false,\"x\":[\"2022-05-01\",\"2022-05-02\",\"2022-05-03\",\"2022-05-04\",\"2022-05-05\",\"2022-05-06\",\"2022-05-07\",\"2022-05-08\",\"2022-05-09\",\"2022-05-10\",\"2022-05-11\",\"2022-05-12\",\"2022-05-13\",\"2022-05-14\",\"2022-05-15\",\"2022-05-16\",\"2022-05-17\",\"2022-05-18\",\"2022-05-19\",\"2022-05-20\",\"2022-05-21\",\"2022-05-22\",\"2022-05-23\",\"2022-05-24\",\"2022-05-25\",\"2022-05-26\",\"2022-05-27\",\"2022-05-28\",\"2022-05-29\",\"2022-05-30\",\"2022-05-31\",\"2022-06-01\",\"2022-06-02\",\"2022-06-03\",\"2022-06-04\",\"2022-06-05\",\"2022-06-06\",\"2022-06-07\",\"2022-06-08\",\"2022-06-09\",\"2022-06-10\",\"2022-06-11\",\"2022-06-12\",\"2022-06-13\",\"2022-06-14\",\"2022-06-15\",\"2022-06-16\",\"2022-06-17\",\"2022-06-18\",\"2022-06-19\",\"2022-06-20\",\"2022-06-21\",\"2022-06-22\",\"2022-06-23\",\"2022-06-24\",\"2022-06-25\",\"2022-06-26\",\"2022-06-27\",\"2022-06-28\",\"2022-06-29\",\"2022-06-30\"],\"xaxis\":\"x\",\"y\":[142,413,425,438,474,466,128,109,449,737,681,552,373,118,72,492,515,602,498,398,157,112,546,697,125,155,315,158,93,198,711,686,757,528,223,253,555,504,756,559,585,144,118,894,720,1119,863,627,158,163,287,654,589,1014,288,117,54,459,444,535,670],\"yaxis\":\"y\",\"type\":\"scatter\"}],                        {\"template\":{\"data\":{\"histogram2dcontour\":[{\"type\":\"histogram2dcontour\",\"colorbar\":{\"outlinewidth\":0,\"ticks\":\"\"},\"colorscale\":[[0.0,\"#0d0887\"],[0.1111111111111111,\"#46039f\"],[0.2222222222222222,\"#7201a8\"],[0.3333333333333333,\"#9c179e\"],[0.4444444444444444,\"#bd3786\"],[0.5555555555555556,\"#d8576b\"],[0.6666666666666666,\"#ed7953\"],[0.7777777777777778,\"#fb9f3a\"],[0.8888888888888888,\"#fdca26\"],[1.0,\"#f0f921\"]]}],\"choropleth\":[{\"type\":\"choropleth\",\"colorbar\":{\"outlinewidth\":0,\"ticks\":\"\"}}],\"histogram2d\":[{\"type\":\"histogram2d\",\"colorbar\":{\"outlinewidth\":0,\"ticks\":\"\"},\"colorscale\":[[0.0,\"#0d0887\"],[0.1111111111111111,\"#46039f\"],[0.2222222222222222,\"#7201a8\"],[0.3333333333333333,\"#9c179e\"],[0.4444444444444444,\"#bd3786\"],[0.5555555555555556,\"#d8576b\"],[0.6666666666666666,\"#ed7953\"],[0.7777777777777778,\"#fb9f3a\"],[0.8888888888888888,\"#fdca26\"],[1.0,\"#f0f921\"]]}],\"heatmap\":[{\"type\":\"heatmap\",\"colorbar\":{\"outlinewidth\":0,\"ticks\":\"\"},\"colorscale\":[[0.0,\"#0d0887\"],[0.1111111111111111,\"#46039f\"],[0.2222222222222222,\"#7201a8\"],[0.3333333333333333,\"#9c179e\"],[0.4444444444444444,\"#bd3786\"],[0.5555555555555556,\"#d8576b\"],[0.6666666666666666,\"#ed7953\"],[0.7777777777777778,\"#fb9f3a\"],[0.8888888888888888,\"#fdca26\"],[1.0,\"#f0f921\"]]}],\"heatmapgl\":[{\"type\":\"heatmapgl\",\"colorbar\":{\"outlinewidth\":0,\"ticks\":\"\"},\"colorscale\":[[0.0,\"#0d0887\"],[0.1111111111111111,\"#46039f\"],[0.2222222222222222,\"#7201a8\"],[0.3333333333333333,\"#9c179e\"],[0.4444444444444444,\"#bd3786\"],[0.5555555555555556,\"#d8576b\"],[0.6666666666666666,\"#ed7953\"],[0.7777777777777778,\"#fb9f3a\"],[0.8888888888888888,\"#fdca26\"],[1.0,\"#f0f921\"]]}],\"contourcarpet\":[{\"type\":\"contourcarpet\",\"colorbar\":{\"outlinewidth\":0,\"ticks\":\"\"}}],\"contour\":[{\"type\":\"contour\",\"colorbar\":{\"outlinewidth\":0,\"ticks\":\"\"},\"colorscale\":[[0.0,\"#0d0887\"],[0.1111111111111111,\"#46039f\"],[0.2222222222222222,\"#7201a8\"],[0.3333333333333333,\"#9c179e\"],[0.4444444444444444,\"#bd3786\"],[0.5555555555555556,\"#d8576b\"],[0.6666666666666666,\"#ed7953\"],[0.7777777777777778,\"#fb9f3a\"],[0.8888888888888888,\"#fdca26\"],[1.0,\"#f0f921\"]]}],\"surface\":[{\"type\":\"surface\",\"colorbar\":{\"outlinewidth\":0,\"ticks\":\"\"},\"colorscale\":[[0.0,\"#0d0887\"],[0.1111111111111111,\"#46039f\"],[0.2222222222222222,\"#7201a8\"],[0.3333333333333333,\"#9c179e\"],[0.4444444444444444,\"#bd3786\"],[0.5555555555555556,\"#d8576b\"],[0.6666666666666666,\"#ed7953\"],[0.7777777777777778,\"#fb9f3a\"],[0.8888888888888888,\"#fdca26\"],[1.0,\"#f0f921\"]]}],\"mesh3d\":[{\"type\":\"mesh3d\",\"colorbar\":{\"outlinewidth\":0,\"ticks\":\"\"}}],\"scatter\":[{\"fillpattern\":{\"fillmode\":\"overlay\",\"size\":10,\"solidity\":0.2},\"type\":\"scatter\"}],\"parcoords\":[{\"type\":\"parcoords\",\"line\":{\"colorbar\":{\"outlinewidth\":0,\"ticks\":\"\"}}}],\"scatterpolargl\":[{\"type\":\"scatterpolargl\",\"marker\":{\"colorbar\":{\"outlinewidth\":0,\"ticks\":\"\"}}}],\"bar\":[{\"error_x\":{\"color\":\"#2a3f5f\"},\"error_y\":{\"color\":\"#2a3f5f\"},\"marker\":{\"line\":{\"color\":\"#E5ECF6\",\"width\":0.5},\"pattern\":{\"fillmode\":\"overlay\",\"size\":10,\"solidity\":0.2}},\"type\":\"bar\"}],\"scattergeo\":[{\"type\":\"scattergeo\",\"marker\":{\"colorbar\":{\"outlinewidth\":0,\"ticks\":\"\"}}}],\"scatterpolar\":[{\"type\":\"scatterpolar\",\"marker\":{\"colorbar\":{\"outlinewidth\":0,\"ticks\":\"\"}}}],\"histogram\":[{\"marker\":{\"pattern\":{\"fillmode\":\"overlay\",\"size\":10,\"solidity\":0.2}},\"type\":\"histogram\"}],\"scattergl\":[{\"type\":\"scattergl\",\"marker\":{\"colorbar\":{\"outlinewidth\":0,\"ticks\":\"\"}}}],\"scatter3d\":[{\"type\":\"scatter3d\",\"line\":{\"colorbar\":{\"outlinewidth\":0,\"ticks\":\"\"}},\"marker\":{\"colorbar\":{\"outlinewidth\":0,\"ticks\":\"\"}}}],\"scattermapbox\":[{\"type\":\"scattermapbox\",\"marker\":{\"colorbar\":{\"outlinewidth\":0,\"ticks\":\"\"}}}],\"scatterternary\":[{\"type\":\"scatterternary\",\"marker\":{\"colorbar\":{\"outlinewidth\":0,\"ticks\":\"\"}}}],\"scattercarpet\":[{\"type\":\"scattercarpet\",\"marker\":{\"colorbar\":{\"outlinewidth\":0,\"ticks\":\"\"}}}],\"carpet\":[{\"aaxis\":{\"endlinecolor\":\"#2a3f5f\",\"gridcolor\":\"white\",\"linecolor\":\"white\",\"minorgridcolor\":\"white\",\"startlinecolor\":\"#2a3f5f\"},\"baxis\":{\"endlinecolor\":\"#2a3f5f\",\"gridcolor\":\"white\",\"linecolor\":\"white\",\"minorgridcolor\":\"white\",\"startlinecolor\":\"#2a3f5f\"},\"type\":\"carpet\"}],\"table\":[{\"cells\":{\"fill\":{\"color\":\"#EBF0F8\"},\"line\":{\"color\":\"white\"}},\"header\":{\"fill\":{\"color\":\"#C8D4E3\"},\"line\":{\"color\":\"white\"}},\"type\":\"table\"}],\"barpolar\":[{\"marker\":{\"line\":{\"color\":\"#E5ECF6\",\"width\":0.5},\"pattern\":{\"fillmode\":\"overlay\",\"size\":10,\"solidity\":0.2}},\"type\":\"barpolar\"}],\"pie\":[{\"automargin\":true,\"type\":\"pie\"}]},\"layout\":{\"autotypenumbers\":\"strict\",\"colorway\":[\"#636efa\",\"#EF553B\",\"#00cc96\",\"#ab63fa\",\"#FFA15A\",\"#19d3f3\",\"#FF6692\",\"#B6E880\",\"#FF97FF\",\"#FECB52\"],\"font\":{\"color\":\"#2a3f5f\"},\"hovermode\":\"closest\",\"hoverlabel\":{\"align\":\"left\"},\"paper_bgcolor\":\"white\",\"plot_bgcolor\":\"#E5ECF6\",\"polar\":{\"bgcolor\":\"#E5ECF6\",\"angularaxis\":{\"gridcolor\":\"white\",\"linecolor\":\"white\",\"ticks\":\"\"},\"radialaxis\":{\"gridcolor\":\"white\",\"linecolor\":\"white\",\"ticks\":\"\"}},\"ternary\":{\"bgcolor\":\"#E5ECF6\",\"aaxis\":{\"gridcolor\":\"white\",\"linecolor\":\"white\",\"ticks\":\"\"},\"baxis\":{\"gridcolor\":\"white\",\"linecolor\":\"white\",\"ticks\":\"\"},\"caxis\":{\"gridcolor\":\"white\",\"linecolor\":\"white\",\"ticks\":\"\"}},\"coloraxis\":{\"colorbar\":{\"outlinewidth\":0,\"ticks\":\"\"}},\"colorscale\":{\"sequential\":[[0.0,\"#0d0887\"],[0.1111111111111111,\"#46039f\"],[0.2222222222222222,\"#7201a8\"],[0.3333333333333333,\"#9c179e\"],[0.4444444444444444,\"#bd3786\"],[0.5555555555555556,\"#d8576b\"],[0.6666666666666666,\"#ed7953\"],[0.7777777777777778,\"#fb9f3a\"],[0.8888888888888888,\"#fdca26\"],[1.0,\"#f0f921\"]],\"sequentialminus\":[[0.0,\"#0d0887\"],[0.1111111111111111,\"#46039f\"],[0.2222222222222222,\"#7201a8\"],[0.3333333333333333,\"#9c179e\"],[0.4444444444444444,\"#bd3786\"],[0.5555555555555556,\"#d8576b\"],[0.6666666666666666,\"#ed7953\"],[0.7777777777777778,\"#fb9f3a\"],[0.8888888888888888,\"#fdca26\"],[1.0,\"#f0f921\"]],\"diverging\":[[0,\"#8e0152\"],[0.1,\"#c51b7d\"],[0.2,\"#de77ae\"],[0.3,\"#f1b6da\"],[0.4,\"#fde0ef\"],[0.5,\"#f7f7f7\"],[0.6,\"#e6f5d0\"],[0.7,\"#b8e186\"],[0.8,\"#7fbc41\"],[0.9,\"#4d9221\"],[1,\"#276419\"]]},\"xaxis\":{\"gridcolor\":\"white\",\"linecolor\":\"white\",\"ticks\":\"\",\"title\":{\"standoff\":15},\"zerolinecolor\":\"white\",\"automargin\":true,\"zerolinewidth\":2},\"yaxis\":{\"gridcolor\":\"white\",\"linecolor\":\"white\",\"ticks\":\"\",\"title\":{\"standoff\":15},\"zerolinecolor\":\"white\",\"automargin\":true,\"zerolinewidth\":2},\"scene\":{\"xaxis\":{\"backgroundcolor\":\"#E5ECF6\",\"gridcolor\":\"white\",\"linecolor\":\"white\",\"showbackground\":true,\"ticks\":\"\",\"zerolinecolor\":\"white\",\"gridwidth\":2},\"yaxis\":{\"backgroundcolor\":\"#E5ECF6\",\"gridcolor\":\"white\",\"linecolor\":\"white\",\"showbackground\":true,\"ticks\":\"\",\"zerolinecolor\":\"white\",\"gridwidth\":2},\"zaxis\":{\"backgroundcolor\":\"#E5ECF6\",\"gridcolor\":\"white\",\"linecolor\":\"white\",\"showbackground\":true,\"ticks\":\"\",\"zerolinecolor\":\"white\",\"gridwidth\":2}},\"shapedefaults\":{\"line\":{\"color\":\"#2a3f5f\"}},\"annotationdefaults\":{\"arrowcolor\":\"#2a3f5f\",\"arrowhead\":0,\"arrowwidth\":1},\"geo\":{\"bgcolor\":\"white\",\"landcolor\":\"#E5ECF6\",\"subunitcolor\":\"white\",\"showland\":true,\"showlakes\":true,\"lakecolor\":\"white\"},\"title\":{\"x\":0.05},\"mapbox\":{\"style\":\"light\"}}},\"xaxis\":{\"anchor\":\"y\",\"domain\":[0.0,1.0],\"title\":{\"text\":\"date_processed\"}},\"yaxis\":{\"anchor\":\"x\",\"domain\":[0.0,1.0],\"title\":{\"text\":\"tweet_size\"}},\"legend\":{\"tracegroupgap\":0},\"title\":{\"text\":\"Variation of tweet size\"}},                        {\"responsive\": true}                    ).then(function(){\n",
       "                            \n",
       "var gd = document.getElementById('d9c0c3f1-6476-4976-aea7-7c44b0399528');\n",
       "var x = new MutationObserver(function (mutations, observer) {{\n",
       "        var display = window.getComputedStyle(gd).display;\n",
       "        if (!display || display === 'none') {{\n",
       "            console.log([gd, 'removed!']);\n",
       "            Plotly.purge(gd);\n",
       "            observer.disconnect();\n",
       "        }}\n",
       "}});\n",
       "\n",
       "// Listen for the removal of the full notebook cells\n",
       "var notebookContainer = gd.closest('#notebook-container');\n",
       "if (notebookContainer) {{\n",
       "    x.observe(notebookContainer, {childList: true});\n",
       "}}\n",
       "\n",
       "// Listen for the clearing of the current output cell\n",
       "var outputEl = gd.closest('.output');\n",
       "if (outputEl) {{\n",
       "    x.observe(outputEl, {childList: true});\n",
       "}}\n",
       "\n",
       "                        })                };                });            </script>        </div>"
      ]
     },
     "metadata": {},
     "output_type": "display_data"
    }
   ],
   "source": [
    "import plotly.express as px\n",
    "\n",
    "fig = px.line(condense_df, y=\"tweet_size\", title='Variation of tweet size')\n",
    "fig.show()"
   ]
  },
  {
   "cell_type": "code",
   "execution_count": 83,
   "id": "6c8f1700",
   "metadata": {},
   "outputs": [
    {
     "data": {
      "text/html": [
       "<div>\n",
       "<style scoped>\n",
       "    .dataframe tbody tr th:only-of-type {\n",
       "        vertical-align: middle;\n",
       "    }\n",
       "\n",
       "    .dataframe tbody tr th {\n",
       "        vertical-align: top;\n",
       "    }\n",
       "\n",
       "    .dataframe thead th {\n",
       "        text-align: right;\n",
       "    }\n",
       "</style>\n",
       "<table border=\"1\" class=\"dataframe\">\n",
       "  <thead>\n",
       "    <tr style=\"text-align: right;\">\n",
       "      <th></th>\n",
       "      <th>tweet_size</th>\n",
       "    </tr>\n",
       "  </thead>\n",
       "  <tbody>\n",
       "    <tr>\n",
       "      <th>count</th>\n",
       "      <td>61.000000</td>\n",
       "    </tr>\n",
       "    <tr>\n",
       "      <th>mean</th>\n",
       "      <td>437.245902</td>\n",
       "    </tr>\n",
       "    <tr>\n",
       "      <th>std</th>\n",
       "      <td>258.296061</td>\n",
       "    </tr>\n",
       "    <tr>\n",
       "      <th>min</th>\n",
       "      <td>54.000000</td>\n",
       "    </tr>\n",
       "    <tr>\n",
       "      <th>25%</th>\n",
       "      <td>158.000000</td>\n",
       "    </tr>\n",
       "    <tr>\n",
       "      <th>50%</th>\n",
       "      <td>459.000000</td>\n",
       "    </tr>\n",
       "    <tr>\n",
       "      <th>75%</th>\n",
       "      <td>602.000000</td>\n",
       "    </tr>\n",
       "    <tr>\n",
       "      <th>max</th>\n",
       "      <td>1119.000000</td>\n",
       "    </tr>\n",
       "  </tbody>\n",
       "</table>\n",
       "</div>"
      ],
      "text/plain": [
       "        tweet_size\n",
       "count    61.000000\n",
       "mean    437.245902\n",
       "std     258.296061\n",
       "min      54.000000\n",
       "25%     158.000000\n",
       "50%     459.000000\n",
       "75%     602.000000\n",
       "max    1119.000000"
      ]
     },
     "execution_count": 83,
     "metadata": {},
     "output_type": "execute_result"
    }
   ],
   "source": [
    "condense_df.describe()"
   ]
  },
  {
   "cell_type": "code",
   "execution_count": 84,
   "id": "178188cb",
   "metadata": {},
   "outputs": [],
   "source": [
    "condense_df.to_pickle(\"corpus.pkl\")"
   ]
  },
  {
   "cell_type": "markdown",
   "id": "3322d33e",
   "metadata": {},
   "source": [
    "## III. only take into account tweets that contain explicit statements of their author’s mood states "
   ]
  },
  {
   "cell_type": "code",
   "execution_count": null,
   "id": "c5444001",
   "metadata": {},
   "outputs": [],
   "source": [
    "# 再塞下去怕詞太少捏～～"
   ]
  },
  {
   "cell_type": "markdown",
   "id": "25226a42",
   "metadata": {},
   "source": [
    "## IV.  filter out tweets that match the regular expressions “http:” or “www(avoid spam messages and other information-oriented tweets)"
   ]
  },
  {
   "cell_type": "code",
   "execution_count": 172,
   "id": "5bb6bd42",
   "metadata": {},
   "outputs": [],
   "source": [
    "# 已經在preprocess拿掉ㄌ！ Good!"
   ]
  },
  {
   "cell_type": "markdown",
   "id": "05a736f7",
   "metadata": {},
   "source": [
    "##  Another: 取得yfinance → DJIA 財金資料 to dataframe2"
   ]
  },
  {
   "cell_type": "code",
   "execution_count": 80,
   "id": "71ee64a4",
   "metadata": {},
   "outputs": [
    {
     "name": "stdout",
     "output_type": "stream",
     "text": [
      "Requirement already satisfied: yfinance in c:\\users\\whwen\\anaconda3\\lib\\site-packages (0.1.74)\n",
      "Requirement already satisfied: multitasking>=0.0.7 in c:\\users\\whwen\\anaconda3\\lib\\site-packages (from yfinance) (0.0.11)\n",
      "Requirement already satisfied: numpy>=1.15 in c:\\users\\whwen\\anaconda3\\lib\\site-packages (from yfinance) (1.21.2)\n",
      "Requirement already satisfied: requests>=2.26 in c:\\users\\whwen\\anaconda3\\lib\\site-packages (from yfinance) (2.28.1)\n",
      "Requirement already satisfied: lxml>=4.5.1 in c:\\users\\whwen\\anaconda3\\lib\\site-packages (from yfinance) (4.6.3)\n",
      "Requirement already satisfied: pandas>=0.24.0 in c:\\users\\whwen\\anaconda3\\lib\\site-packages (from yfinance) (1.3.4)\n",
      "Requirement already satisfied: python-dateutil>=2.7.3 in c:\\users\\whwen\\anaconda3\\lib\\site-packages (from pandas>=0.24.0->yfinance) (2.8.2)\n",
      "Requirement already satisfied: pytz>=2017.3 in c:\\users\\whwen\\anaconda3\\lib\\site-packages (from pandas>=0.24.0->yfinance) (2021.3)\n",
      "Requirement already satisfied: six>=1.5 in c:\\users\\whwen\\anaconda3\\lib\\site-packages (from python-dateutil>=2.7.3->pandas>=0.24.0->yfinance) (1.16.0)\n",
      "Requirement already satisfied: idna<4,>=2.5 in c:\\users\\whwen\\anaconda3\\lib\\site-packages (from requests>=2.26->yfinance) (3.2)\n",
      "Requirement already satisfied: certifi>=2017.4.17 in c:\\users\\whwen\\anaconda3\\lib\\site-packages (from requests>=2.26->yfinance) (2021.10.8)\n",
      "Requirement already satisfied: charset-normalizer<3,>=2 in c:\\users\\whwen\\anaconda3\\lib\\site-packages (from requests>=2.26->yfinance) (2.0.4)\n",
      "Requirement already satisfied: urllib3<1.27,>=1.21.1 in c:\\users\\whwen\\anaconda3\\lib\\site-packages (from requests>=2.26->yfinance) (1.26.7)\n",
      "Note: you may need to restart the kernel to use updated packages.\n"
     ]
    }
   ],
   "source": [
    "# pip install yfinance"
   ]
  },
  {
   "cell_type": "code",
   "execution_count": 1,
   "id": "25397f1d",
   "metadata": {
    "scrolled": true
   },
   "outputs": [],
   "source": [
    "import yfinance as yf\n",
    "import pandas as pd"
   ]
  },
  {
   "cell_type": "code",
   "execution_count": 84,
   "id": "f9d3fa26",
   "metadata": {},
   "outputs": [
    {
     "data": {
      "text/plain": [
       "datetime.datetime(2022, 5, 1, 0, 0, tzinfo=<UTC>)"
      ]
     },
     "execution_count": 84,
     "metadata": {},
     "output_type": "execute_result"
    }
   ],
   "source": [
    "start_date"
   ]
  },
  {
   "cell_type": "code",
   "execution_count": 2,
   "id": "a0dcf55d",
   "metadata": {},
   "outputs": [],
   "source": [
    "def get_historical_data(ticker):\n",
    "    d = yf.Ticker(ticker)\n",
    "    df = d.history(period='max')\n",
    "#     df = d.history(start=\"2022-06-01\", end=\"2022-06-30\", interval=\"1m\")\n",
    "#     df = d.history(start=start_date, end=end_date)\n",
    "    df.columns = df.columns.str.lower()\n",
    "    df.columns = pd.Series(df.columns).str.capitalize().values\n",
    "    \n",
    "    return df.dropna()"
   ]
  },
  {
   "cell_type": "code",
   "execution_count": 3,
   "id": "4f7c5c8b",
   "metadata": {
    "scrolled": true
   },
   "outputs": [
    {
     "data": {
      "text/html": [
       "<div>\n",
       "<style scoped>\n",
       "    .dataframe tbody tr th:only-of-type {\n",
       "        vertical-align: middle;\n",
       "    }\n",
       "\n",
       "    .dataframe tbody tr th {\n",
       "        vertical-align: top;\n",
       "    }\n",
       "\n",
       "    .dataframe thead th {\n",
       "        text-align: right;\n",
       "    }\n",
       "</style>\n",
       "<table border=\"1\" class=\"dataframe\">\n",
       "  <thead>\n",
       "    <tr style=\"text-align: right;\">\n",
       "      <th></th>\n",
       "      <th>Open</th>\n",
       "      <th>High</th>\n",
       "      <th>Low</th>\n",
       "      <th>Close</th>\n",
       "      <th>Volume</th>\n",
       "      <th>Dividends</th>\n",
       "      <th>Stock splits</th>\n",
       "    </tr>\n",
       "    <tr>\n",
       "      <th>Date</th>\n",
       "      <th></th>\n",
       "      <th></th>\n",
       "      <th></th>\n",
       "      <th></th>\n",
       "      <th></th>\n",
       "      <th></th>\n",
       "      <th></th>\n",
       "    </tr>\n",
       "  </thead>\n",
       "  <tbody>\n",
       "    <tr>\n",
       "      <th>1970-01-02</th>\n",
       "      <td>809.200012</td>\n",
       "      <td>809.200012</td>\n",
       "      <td>809.200012</td>\n",
       "      <td>809.200012</td>\n",
       "      <td>0</td>\n",
       "      <td>0</td>\n",
       "      <td>0</td>\n",
       "    </tr>\n",
       "    <tr>\n",
       "      <th>1970-01-05</th>\n",
       "      <td>811.309998</td>\n",
       "      <td>811.309998</td>\n",
       "      <td>811.309998</td>\n",
       "      <td>811.309998</td>\n",
       "      <td>0</td>\n",
       "      <td>0</td>\n",
       "      <td>0</td>\n",
       "    </tr>\n",
       "    <tr>\n",
       "      <th>1970-01-06</th>\n",
       "      <td>803.659973</td>\n",
       "      <td>803.659973</td>\n",
       "      <td>803.659973</td>\n",
       "      <td>803.659973</td>\n",
       "      <td>0</td>\n",
       "      <td>0</td>\n",
       "      <td>0</td>\n",
       "    </tr>\n",
       "    <tr>\n",
       "      <th>1970-01-07</th>\n",
       "      <td>801.809998</td>\n",
       "      <td>801.809998</td>\n",
       "      <td>801.809998</td>\n",
       "      <td>801.809998</td>\n",
       "      <td>0</td>\n",
       "      <td>0</td>\n",
       "      <td>0</td>\n",
       "    </tr>\n",
       "    <tr>\n",
       "      <th>1970-01-08</th>\n",
       "      <td>802.070007</td>\n",
       "      <td>802.070007</td>\n",
       "      <td>802.070007</td>\n",
       "      <td>802.070007</td>\n",
       "      <td>0</td>\n",
       "      <td>0</td>\n",
       "      <td>0</td>\n",
       "    </tr>\n",
       "    <tr>\n",
       "      <th>...</th>\n",
       "      <td>...</td>\n",
       "      <td>...</td>\n",
       "      <td>...</td>\n",
       "      <td>...</td>\n",
       "      <td>...</td>\n",
       "      <td>...</td>\n",
       "      <td>...</td>\n",
       "    </tr>\n",
       "    <tr>\n",
       "      <th>2022-02-24</th>\n",
       "      <td>33223.800781</td>\n",
       "      <td>33223.800781</td>\n",
       "      <td>33223.800781</td>\n",
       "      <td>33223.800781</td>\n",
       "      <td>0</td>\n",
       "      <td>0</td>\n",
       "      <td>0</td>\n",
       "    </tr>\n",
       "    <tr>\n",
       "      <th>2022-02-25</th>\n",
       "      <td>34058.800781</td>\n",
       "      <td>34058.800781</td>\n",
       "      <td>34058.800781</td>\n",
       "      <td>34058.800781</td>\n",
       "      <td>0</td>\n",
       "      <td>0</td>\n",
       "      <td>0</td>\n",
       "    </tr>\n",
       "    <tr>\n",
       "      <th>2022-02-28</th>\n",
       "      <td>33892.601562</td>\n",
       "      <td>33892.601562</td>\n",
       "      <td>33892.601562</td>\n",
       "      <td>33892.601562</td>\n",
       "      <td>0</td>\n",
       "      <td>0</td>\n",
       "      <td>0</td>\n",
       "    </tr>\n",
       "    <tr>\n",
       "      <th>2022-03-01</th>\n",
       "      <td>33294.898438</td>\n",
       "      <td>33294.898438</td>\n",
       "      <td>33294.898438</td>\n",
       "      <td>33294.898438</td>\n",
       "      <td>0</td>\n",
       "      <td>0</td>\n",
       "      <td>0</td>\n",
       "    </tr>\n",
       "    <tr>\n",
       "      <th>2022-03-02</th>\n",
       "      <td>33891.300781</td>\n",
       "      <td>33891.300781</td>\n",
       "      <td>33891.300781</td>\n",
       "      <td>33891.300781</td>\n",
       "      <td>0</td>\n",
       "      <td>0</td>\n",
       "      <td>0</td>\n",
       "    </tr>\n",
       "  </tbody>\n",
       "</table>\n",
       "<p>12987 rows × 7 columns</p>\n",
       "</div>"
      ],
      "text/plain": [
       "                    Open          High           Low         Close  Volume  \\\n",
       "Date                                                                         \n",
       "1970-01-02    809.200012    809.200012    809.200012    809.200012       0   \n",
       "1970-01-05    811.309998    811.309998    811.309998    811.309998       0   \n",
       "1970-01-06    803.659973    803.659973    803.659973    803.659973       0   \n",
       "1970-01-07    801.809998    801.809998    801.809998    801.809998       0   \n",
       "1970-01-08    802.070007    802.070007    802.070007    802.070007       0   \n",
       "...                  ...           ...           ...           ...     ...   \n",
       "2022-02-24  33223.800781  33223.800781  33223.800781  33223.800781       0   \n",
       "2022-02-25  34058.800781  34058.800781  34058.800781  34058.800781       0   \n",
       "2022-02-28  33892.601562  33892.601562  33892.601562  33892.601562       0   \n",
       "2022-03-01  33294.898438  33294.898438  33294.898438  33294.898438       0   \n",
       "2022-03-02  33891.300781  33891.300781  33891.300781  33891.300781       0   \n",
       "\n",
       "            Dividends  Stock splits  \n",
       "Date                                 \n",
       "1970-01-02          0             0  \n",
       "1970-01-05          0             0  \n",
       "1970-01-06          0             0  \n",
       "1970-01-07          0             0  \n",
       "1970-01-08          0             0  \n",
       "...               ...           ...  \n",
       "2022-02-24          0             0  \n",
       "2022-02-25          0             0  \n",
       "2022-02-28          0             0  \n",
       "2022-03-01          0             0  \n",
       "2022-03-02          0             0  \n",
       "\n",
       "[12987 rows x 7 columns]"
      ]
     },
     "execution_count": 3,
     "metadata": {},
     "output_type": "execute_result"
    }
   ],
   "source": [
    "df = get_historical_data('DJI')\n",
    "df"
   ]
  },
  {
   "cell_type": "markdown",
   "id": "691ffff0",
   "metadata": {},
   "source": [
    "沒有我們要的區間：） <br>\n",
    "改用以下的方法"
   ]
  },
  {
   "cell_type": "markdown",
   "id": "4bf6e01e",
   "metadata": {},
   "source": []
  },
  {
   "cell_type": "code",
   "execution_count": 87,
   "id": "edbe7ad1",
   "metadata": {
    "collapsed": true
   },
   "outputs": [
    {
     "name": "stdout",
     "output_type": "stream",
     "text": [
      "Collecting pandas_datareader\n",
      "  Downloading pandas_datareader-0.10.0-py3-none-any.whl (109 kB)\n",
      "Requirement already satisfied: pandas>=0.23 in c:\\users\\whwen\\anaconda3\\lib\\site-packages (from pandas_datareader) (1.3.4)\n",
      "Requirement already satisfied: lxml in c:\\users\\whwen\\anaconda3\\lib\\site-packages (from pandas_datareader) (4.6.3)\n",
      "Requirement already satisfied: requests>=2.19.0 in c:\\users\\whwen\\anaconda3\\lib\\site-packages (from pandas_datareader) (2.28.1)\n",
      "Requirement already satisfied: python-dateutil>=2.7.3 in c:\\users\\whwen\\anaconda3\\lib\\site-packages (from pandas>=0.23->pandas_datareader) (2.8.2)\n",
      "Requirement already satisfied: pytz>=2017.3 in c:\\users\\whwen\\anaconda3\\lib\\site-packages (from pandas>=0.23->pandas_datareader) (2021.3)\n",
      "Requirement already satisfied: numpy>=1.17.3 in c:\\users\\whwen\\anaconda3\\lib\\site-packages (from pandas>=0.23->pandas_datareader) (1.21.2)\n",
      "Requirement already satisfied: six>=1.5 in c:\\users\\whwen\\anaconda3\\lib\\site-packages (from python-dateutil>=2.7.3->pandas>=0.23->pandas_datareader) (1.16.0)\n",
      "Requirement already satisfied: certifi>=2017.4.17 in c:\\users\\whwen\\anaconda3\\lib\\site-packages (from requests>=2.19.0->pandas_datareader) (2021.10.8)\n",
      "Requirement already satisfied: idna<4,>=2.5 in c:\\users\\whwen\\anaconda3\\lib\\site-packages (from requests>=2.19.0->pandas_datareader) (3.2)\n",
      "Requirement already satisfied: charset-normalizer<3,>=2 in c:\\users\\whwen\\anaconda3\\lib\\site-packages (from requests>=2.19.0->pandas_datareader) (2.0.4)\n",
      "Requirement already satisfied: urllib3<1.27,>=1.21.1 in c:\\users\\whwen\\anaconda3\\lib\\site-packages (from requests>=2.19.0->pandas_datareader) (1.26.7)\n",
      "Installing collected packages: pandas-datareader\n",
      "Successfully installed pandas-datareader-0.10.0\n",
      "Note: you may need to restart the kernel to use updated packages.\n"
     ]
    }
   ],
   "source": [
    "# pip install pandas_datareader"
   ]
  },
  {
   "cell_type": "code",
   "execution_count": 5,
   "id": "f13fa7dc",
   "metadata": {
    "scrolled": true
   },
   "outputs": [
    {
     "data": {
      "text/html": [
       "<div>\n",
       "<style scoped>\n",
       "    .dataframe tbody tr th:only-of-type {\n",
       "        vertical-align: middle;\n",
       "    }\n",
       "\n",
       "    .dataframe tbody tr th {\n",
       "        vertical-align: top;\n",
       "    }\n",
       "\n",
       "    .dataframe thead th {\n",
       "        text-align: right;\n",
       "    }\n",
       "</style>\n",
       "<table border=\"1\" class=\"dataframe\">\n",
       "  <thead>\n",
       "    <tr style=\"text-align: right;\">\n",
       "      <th></th>\n",
       "      <th>High</th>\n",
       "      <th>Low</th>\n",
       "      <th>Open</th>\n",
       "      <th>Close</th>\n",
       "      <th>Volume</th>\n",
       "      <th>Adj Close</th>\n",
       "    </tr>\n",
       "    <tr>\n",
       "      <th>Date</th>\n",
       "      <th></th>\n",
       "      <th></th>\n",
       "      <th></th>\n",
       "      <th></th>\n",
       "      <th></th>\n",
       "      <th></th>\n",
       "    </tr>\n",
       "  </thead>\n",
       "  <tbody>\n",
       "    <tr>\n",
       "      <th>2022-04-14</th>\n",
       "      <td>34889.171875</td>\n",
       "      <td>34437.500000</td>\n",
       "      <td>34628.460938</td>\n",
       "      <td>34451.230469</td>\n",
       "      <td>353680000</td>\n",
       "      <td>34451.230469</td>\n",
       "    </tr>\n",
       "    <tr>\n",
       "      <th>2022-04-18</th>\n",
       "      <td>34618.289062</td>\n",
       "      <td>34279.078125</td>\n",
       "      <td>34411.488281</td>\n",
       "      <td>34411.691406</td>\n",
       "      <td>264110000</td>\n",
       "      <td>34411.691406</td>\n",
       "    </tr>\n",
       "    <tr>\n",
       "      <th>2022-04-19</th>\n",
       "      <td>34983.109375</td>\n",
       "      <td>34394.621094</td>\n",
       "      <td>34394.621094</td>\n",
       "      <td>34911.199219</td>\n",
       "      <td>296350000</td>\n",
       "      <td>34911.199219</td>\n",
       "    </tr>\n",
       "    <tr>\n",
       "      <th>2022-04-20</th>\n",
       "      <td>35315.398438</td>\n",
       "      <td>34962.671875</td>\n",
       "      <td>34962.671875</td>\n",
       "      <td>35160.789062</td>\n",
       "      <td>337620000</td>\n",
       "      <td>35160.789062</td>\n",
       "    </tr>\n",
       "    <tr>\n",
       "      <th>2022-04-21</th>\n",
       "      <td>35492.218750</td>\n",
       "      <td>34723.820312</td>\n",
       "      <td>35258.800781</td>\n",
       "      <td>34792.761719</td>\n",
       "      <td>366390000</td>\n",
       "      <td>34792.761719</td>\n",
       "    </tr>\n",
       "    <tr>\n",
       "      <th>...</th>\n",
       "      <td>...</td>\n",
       "      <td>...</td>\n",
       "      <td>...</td>\n",
       "      <td>...</td>\n",
       "      <td>...</td>\n",
       "      <td>...</td>\n",
       "    </tr>\n",
       "    <tr>\n",
       "      <th>2022-07-11</th>\n",
       "      <td>31367.550781</td>\n",
       "      <td>31114.400391</td>\n",
       "      <td>31277.980469</td>\n",
       "      <td>31173.839844</td>\n",
       "      <td>245020000</td>\n",
       "      <td>31173.839844</td>\n",
       "    </tr>\n",
       "    <tr>\n",
       "      <th>2022-07-12</th>\n",
       "      <td>31346.099609</td>\n",
       "      <td>30860.509766</td>\n",
       "      <td>31113.310547</td>\n",
       "      <td>30981.330078</td>\n",
       "      <td>324190000</td>\n",
       "      <td>30981.330078</td>\n",
       "    </tr>\n",
       "    <tr>\n",
       "      <th>2022-07-13</th>\n",
       "      <td>30979.169922</td>\n",
       "      <td>30514.609375</td>\n",
       "      <td>30743.630859</td>\n",
       "      <td>30772.789062</td>\n",
       "      <td>291830000</td>\n",
       "      <td>30772.789062</td>\n",
       "    </tr>\n",
       "    <tr>\n",
       "      <th>2022-07-14</th>\n",
       "      <td>30680.119141</td>\n",
       "      <td>30143.929688</td>\n",
       "      <td>30451.800781</td>\n",
       "      <td>30630.169922</td>\n",
       "      <td>325130000</td>\n",
       "      <td>30630.169922</td>\n",
       "    </tr>\n",
       "    <tr>\n",
       "      <th>2022-07-15</th>\n",
       "      <td>31288.259766</td>\n",
       "      <td>30775.369141</td>\n",
       "      <td>30775.369141</td>\n",
       "      <td>31288.259766</td>\n",
       "      <td>321570000</td>\n",
       "      <td>31288.259766</td>\n",
       "    </tr>\n",
       "  </tbody>\n",
       "</table>\n",
       "<p>63 rows × 6 columns</p>\n",
       "</div>"
      ],
      "text/plain": [
       "                    High           Low          Open         Close     Volume  \\\n",
       "Date                                                                            \n",
       "2022-04-14  34889.171875  34437.500000  34628.460938  34451.230469  353680000   \n",
       "2022-04-18  34618.289062  34279.078125  34411.488281  34411.691406  264110000   \n",
       "2022-04-19  34983.109375  34394.621094  34394.621094  34911.199219  296350000   \n",
       "2022-04-20  35315.398438  34962.671875  34962.671875  35160.789062  337620000   \n",
       "2022-04-21  35492.218750  34723.820312  35258.800781  34792.761719  366390000   \n",
       "...                  ...           ...           ...           ...        ...   \n",
       "2022-07-11  31367.550781  31114.400391  31277.980469  31173.839844  245020000   \n",
       "2022-07-12  31346.099609  30860.509766  31113.310547  30981.330078  324190000   \n",
       "2022-07-13  30979.169922  30514.609375  30743.630859  30772.789062  291830000   \n",
       "2022-07-14  30680.119141  30143.929688  30451.800781  30630.169922  325130000   \n",
       "2022-07-15  31288.259766  30775.369141  30775.369141  31288.259766  321570000   \n",
       "\n",
       "               Adj Close  \n",
       "Date                      \n",
       "2022-04-14  34451.230469  \n",
       "2022-04-18  34411.691406  \n",
       "2022-04-19  34911.199219  \n",
       "2022-04-20  35160.789062  \n",
       "2022-04-21  34792.761719  \n",
       "...                  ...  \n",
       "2022-07-11  31173.839844  \n",
       "2022-07-12  30981.330078  \n",
       "2022-07-13  30772.789062  \n",
       "2022-07-14  30630.169922  \n",
       "2022-07-15  31288.259766  \n",
       "\n",
       "[63 rows x 6 columns]"
      ]
     },
     "execution_count": 5,
     "metadata": {},
     "output_type": "execute_result"
    }
   ],
   "source": [
    "from pandas_datareader import data, wb\n",
    "DJIA = data.DataReader(name='^DJI', data_source='yahoo',start=start_date, end=end_date)\n",
    "DJIA "
   ]
  },
  {
   "cell_type": "code",
   "execution_count": 6,
   "id": "9de6fc98",
   "metadata": {},
   "outputs": [],
   "source": [
    "DJIA.to_csv(\"DJIA_price.csv\")"
   ]
  },
  {
   "cell_type": "code",
   "execution_count": null,
   "id": "1f137bc6",
   "metadata": {},
   "outputs": [],
   "source": []
  }
 ],
 "metadata": {
  "kernelspec": {
   "display_name": "Python 3 (ipykernel)",
   "language": "python",
   "name": "python3"
  },
  "language_info": {
   "codemirror_mode": {
    "name": "ipython",
    "version": 3
   },
   "file_extension": ".py",
   "mimetype": "text/x-python",
   "name": "python",
   "nbconvert_exporter": "python",
   "pygments_lexer": "ipython3",
   "version": "3.7.13"
  }
 },
 "nbformat": 4,
 "nbformat_minor": 5
}
